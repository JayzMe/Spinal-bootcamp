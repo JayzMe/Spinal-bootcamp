{
 "cells": [
  {
   "cell_type": "markdown",
   "metadata": {},
   "source": [
    "<a name=\"top\"></a><img src=\"source/SpinalHDL.png\" alt=\"SpinalHDL based on Scala\" style=\"width:320px;\" />"
   ]
  },
  {
   "cell_type": "markdown",
   "metadata": {},
   "source": [
    "运行SpinalHDL代码之前，务必加载SpinalHDL的库 \n",
    "（**注**：*第一次运行时需要下载库，可能会有点慢，请耐心等待*）"
   ]
  },
  {
   "cell_type": "code",
   "execution_count": null,
   "metadata": {},
   "outputs": [],
   "source": [
    "val path = System.getProperty(\"user.dir\") + \"/source/load-spinal.sc\"\n",
    "interp.load.module(ammonite.ops.Path(java.nio.file.FileSystems.getDefault().getPath(path)))"
   ]
  },
  {
   "cell_type": "markdown",
   "metadata": {},
   "source": [
    "## 定点化\n"
   ]
  },
  {
   "cell_type": "code",
   "execution_count": null,
   "metadata": {},
   "outputs": [],
   "source": [
    "class T2 extends Component{\n",
    "    val a = in UFix(8 exp, 10 bits)\n",
    "    val b = in UFix(2 exp, 10 bits)\n",
    "    val c = out UInt()\n",
    "    c := (a + b).toUInt\n",
    "}\n",
    "showRtl(new T2)"
   ]
  },
  {
   "cell_type": "code",
   "execution_count": null,
   "metadata": {},
   "outputs": [],
   "source": [
    "class T2 extends Component{\n",
    "    val a = in UFix(8 exp, 10 bits)\n",
    "    val b = in UFix(2 exp, 10 bits)\n",
    "    val c = out UFix(10 exp, 20 bits)\n",
    "    c := (a * b)  \n",
    "}\n",
    "showRtl(new T2)"
   ]
  },
  {
   "cell_type": "code",
   "execution_count": null,
   "metadata": {},
   "outputs": [],
   "source": [
    "class T2 extends Component{\n",
    "    val a = in UInt(10 bits)\n",
    "    val b = out UFix(2 exp, 10 bits) \n",
    "    b := a \n",
    "}\n",
    "showRtl(new T2)"
   ]
  },
  {
   "cell_type": "code",
   "execution_count": null,
   "metadata": {},
   "outputs": [],
   "source": [
    "class T2 extends Component{ \n",
    "    val b = in UFix(10 exp, -2 exp) \n",
    "    println(b.maxValue)\n",
    "    println(b.minValue)\n",
    "    println(b.resolution)\n",
    "}\n",
    "showRtl(new T2)"
   ]
  },
  {
   "cell_type": "code",
   "execution_count": null,
   "metadata": {},
   "outputs": [],
   "source": [
    "class T3 extends Component{\n",
    "    val a = in UInt(3 bits)\n",
    "    val b = out UInt(10 bits)\n",
    "    b := a.resized\n",
    "}\n",
    "showRtl(new T3)"
   ]
  },
  {
   "cell_type": "code",
   "execution_count": null,
   "metadata": {},
   "outputs": [],
   "source": [
    "class T4 extends Component{\n",
    "    val a = in SInt(10 bits)\n",
    "    val en = in Bool\n",
    "    val b = out UInt( )\n",
    "    b := a.abs(en)\n",
    "}\n",
    "showRtl(new T4)"
   ]
  },
  {
   "cell_type": "code",
   "execution_count": null,
   "metadata": {},
   "outputs": [],
   "source": []
  }
 ],
 "metadata": {
  "kernelspec": {
   "display_name": "Scala",
   "language": "scala",
   "name": "scala"
  },
  "language_info": {
   "codemirror_mode": "text/x-scala",
   "file_extension": ".scala",
   "mimetype": "text/x-scala",
   "name": "scala211",
   "nbconvert_exporter": "script",
   "pygments_lexer": "scala",
   "version": "2.11.11"
  },
  "toc": {
   "base_numbering": 1,
   "nav_menu": {},
   "number_sections": true,
   "sideBar": true,
   "skip_h1_title": false,
   "title_cell": "Table of Contents",
   "title_sidebar": "Contents",
   "toc_cell": false,
   "toc_position": {},
   "toc_section_display": true,
   "toc_window_display": false
  }
 },
 "nbformat": 4,
 "nbformat_minor": 2
}
