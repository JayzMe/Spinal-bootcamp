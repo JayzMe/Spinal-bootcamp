{
 "cells": [
  {
   "cell_type": "markdown",
   "metadata": {},
   "source": [
    "<a name=\"top\"></a><img src=\"source/SpinalHDL.png\" alt=\"SpinalHDL based on Scala\" style=\"width:320px;\" />"
   ]
  },
  {
   "cell_type": "markdown",
   "metadata": {},
   "source": [
    "运行SpinalHDL代码之前，务必加载SpinalHDL的库 \n",
    "（**注**：*第一次运行时需要下载库，可能会有点慢，请耐心等待*）"
   ]
  },
  {
   "cell_type": "code",
   "execution_count": null,
   "metadata": {},
   "outputs": [],
   "source": [
    "val path = System.getProperty(\"user.dir\") + \"/source/load-spinal.sc\"\n",
    "interp.load.module(ammonite.ops.Path(java.nio.file.FileSystems.getDefault().getPath(path)))"
   ]
  },
  {
   "cell_type": "markdown",
   "metadata": {},
   "source": [
    "## 定点化\n"
   ]
  },
  {
   "cell_type": "code",
   "execution_count": null,
   "metadata": {},
   "outputs": [],
   "source": [
    "class T2 extends Component{\n",
    "    val a = in UFix(8 exp, 10 bits)\n",
    "    val b = in UFix(2 exp, 10 bits)\n",
    "    val c = out UInt()\n",
    "    c := (a + b).toUInt\n",
    "}\n",
    "showRtl(new T2)"
   ]
  },
  {
   "cell_type": "code",
   "execution_count": null,
   "metadata": {},
   "outputs": [],
   "source": [
    "class T2 extends Component{\n",
    "    val a = in UFix(8 exp, 10 bits)\n",
    "    val b = in UFix(2 exp, 10 bits)\n",
    "    val c = out UFix(10 exp, 20 bits)\n",
    "    c := (a * b)  \n",
    "}\n",
    "showRtl(new T2)"
   ]
  },
  {
   "cell_type": "code",
   "execution_count": null,
   "metadata": {},
   "outputs": [],
   "source": [
    "class T2 extends Component{\n",
    "    val a = in UInt(10 bits)\n",
    "    val b = out UFix(2 exp, 10 bits) \n",
    "    b := a \n",
    "}\n",
    "showRtl(new T2)"
   ]
  },
  {
   "cell_type": "code",
   "execution_count": null,
   "metadata": {},
   "outputs": [],
   "source": [
    "class T2 extends Component{ \n",
    "    val b = in UFix(10 exp, -2 exp) \n",
    "    println(b.maxValue)\n",
    "    println(b.minValue)\n",
    "    println(b.resolution)\n",
    "}\n",
    "showRtl(new T2)"
   ]
  },
  {
   "cell_type": "code",
   "execution_count": null,
   "metadata": {},
   "outputs": [],
   "source": [
    "class T3 extends Component{\n",
    "    val a = in UInt(3 bits)\n",
    "    val b = out UInt(10 bits)\n",
    "    b := a.resized\n",
    "}\n",
    "showRtl(new T3)"
   ]
  },
  {
   "cell_type": "code",
   "execution_count": null,
   "metadata": {},
   "outputs": [],
   "source": [
    "class T4 extends Component{\n",
    "    val a = in SInt(10 bits)\n",
    "    val en = in Bool\n",
    "    val b = out UInt( )\n",
    "    b := a.abs(en)\n",
    "}\n",
    "showRtl(new T4)"
   ]
  },
  {
   "cell_type": "code",
   "execution_count": 1,
   "metadata": {},
   "outputs": [
    {
     "data": {
      "text/plain": [
       "\u001b[36mres0\u001b[39m: \u001b[32mString\u001b[39m = \u001b[32m\"ffffffff\"\u001b[39m"
      ]
     },
     "execution_count": 1,
     "metadata": {},
     "output_type": "execute_result"
    }
   ],
   "source": [
    "-1.toHexString"
   ]
  },
  {
   "cell_type": "code",
   "execution_count": 2,
   "metadata": {},
   "outputs": [
    {
     "data": {
      "text/plain": [
       "\u001b[36mres1_0\u001b[39m: \u001b[32mString\u001b[39m = \u001b[32m\"fffffff8\"\u001b[39m\n",
       "\u001b[36mres1_1\u001b[39m: \u001b[32mString\u001b[39m = \u001b[32m\"11111111111111111111111111111000\"\u001b[39m"
      ]
     },
     "execution_count": 2,
     "metadata": {},
     "output_type": "execute_result"
    }
   ],
   "source": [
    "-8.toHexString\n",
    "-8.toBinaryString \n",
    " "
   ]
  },
  {
   "cell_type": "code",
   "execution_count": 4,
   "metadata": {},
   "outputs": [
    {
     "data": {
      "text/plain": [
       "\u001b[36ma\u001b[39m: \u001b[32mLong\u001b[39m = \u001b[32m-1L\u001b[39m\n",
       "\u001b[36mres3_1\u001b[39m: \u001b[32mString\u001b[39m = \u001b[32m\"ffffffffffffffff\"\u001b[39m"
      ]
     },
     "execution_count": 4,
     "metadata": {},
     "output_type": "execute_result"
    }
   ],
   "source": [
    "val a : Long = -1\n",
    "a.toHexString"
   ]
  },
  {
   "cell_type": "code",
   "execution_count": 7,
   "metadata": {},
   "outputs": [
    {
     "data": {
      "text/plain": [
       "\u001b[36mb\u001b[39m: \u001b[32mLong\u001b[39m = \u001b[32m9223372036854775807L\u001b[39m"
      ]
     },
     "execution_count": 7,
     "metadata": {},
     "output_type": "execute_result"
    }
   ],
   "source": [
    "val b = scala.math.pow(2,69).toLong"
   ]
  },
  {
   "cell_type": "code",
   "execution_count": 8,
   "metadata": {},
   "outputs": [
    {
     "data": {
      "text/plain": [
       "\u001b[36mb\u001b[39m: \u001b[32mDouble\u001b[39m = \u001b[32m5.9029581035870565E20\u001b[39m"
      ]
     },
     "execution_count": 8,
     "metadata": {},
     "output_type": "execute_result"
    }
   ],
   "source": [
    "val b = scala.math.pow(2,69)"
   ]
  },
  {
   "cell_type": "code",
   "execution_count": 15,
   "metadata": {},
   "outputs": [
    {
     "data": {
      "text/plain": [
       "\u001b[36mw\u001b[39m: \u001b[32mInt\u001b[39m = \u001b[32m13\u001b[39m\n",
       "\u001b[36ma\u001b[39m: \u001b[32mInt\u001b[39m = \u001b[32m34555\u001b[39m\n",
       "\u001b[36mres14_2\u001b[39m: \u001b[32mString\u001b[39m = \u001b[32m\"34555%13o\"\u001b[39m"
      ]
     },
     "execution_count": 15,
     "metadata": {},
     "output_type": "execute_result"
    }
   ],
   "source": [
    "val w = 13\n",
    "val a = 34555\n",
    "s\"$a%${w}o\""
   ]
  },
  {
   "cell_type": "code",
   "execution_count": 24,
   "metadata": {},
   "outputs": [
    {
     "ename": "",
     "evalue": "",
     "output_type": "error",
     "traceback": [
      "\u001b[31mjava.util.FormatFlagsConversionMismatchException: Conversion = h, Flags = 0\u001b[39m\n  java.util.Formatter$FormatSpecifier.failMismatch(\u001b[32mFormatter.java\u001b[39m:\u001b[32m4298\u001b[39m)\n  java.util.Formatter$FormatSpecifier.checkBadFlags(\u001b[32mFormatter.java\u001b[39m:\u001b[32m2997\u001b[39m)\n  java.util.Formatter$FormatSpecifier.checkGeneral(\u001b[32mFormatter.java\u001b[39m:\u001b[32m2955\u001b[39m)\n  java.util.Formatter$FormatSpecifier.<init>(\u001b[32mFormatter.java\u001b[39m:\u001b[32m2725\u001b[39m)\n  java.util.Formatter.parse(\u001b[32mFormatter.java\u001b[39m:\u001b[32m2560\u001b[39m)\n  java.util.Formatter.format(\u001b[32mFormatter.java\u001b[39m:\u001b[32m2501\u001b[39m)\n  java.util.Formatter.format(\u001b[32mFormatter.java\u001b[39m:\u001b[32m2455\u001b[39m)\n  java.lang.String.format(\u001b[32mString.java\u001b[39m:\u001b[32m2940\u001b[39m)\n  scala.collection.immutable.StringLike.format(\u001b[32mStringLike.scala\u001b[39m:\u001b[32m354\u001b[39m)\n  scala.collection.immutable.StringLike.format$(\u001b[32mStringLike.scala\u001b[39m:\u001b[32m353\u001b[39m)\n  scala.collection.immutable.StringOps.format(\u001b[32mStringOps.scala\u001b[39m:\u001b[32m33\u001b[39m)\n  ammonite.$sess.cmd23$Helper.<init>(\u001b[32mcmd23.sc\u001b[39m:\u001b[32m1\u001b[39m)\n  ammonite.$sess.cmd23$.<init>(\u001b[32mcmd23.sc\u001b[39m:\u001b[32m7\u001b[39m)\n  ammonite.$sess.cmd23$.<clinit>(\u001b[32mcmd23.sc\u001b[39m:\u001b[32m-1\u001b[39m)"
     ]
    }
   ],
   "source": [
    "s\"%-0${w}h\".format(123)"
   ]
  },
  {
   "cell_type": "code",
   "execution_count": null,
   "metadata": {},
   "outputs": [],
   "source": []
  }
 ],
 "metadata": {
  "kernelspec": {
   "display_name": "Scala",
   "language": "scala",
   "name": "scala"
  },
  "language_info": {
   "codemirror_mode": "text/x-scala",
   "file_extension": ".scala",
   "mimetype": "text/x-scala",
   "name": "scala",
   "nbconvert_exporter": "script",
   "version": "2.12.8"
  },
  "toc": {
   "base_numbering": 1,
   "nav_menu": {},
   "number_sections": true,
   "sideBar": true,
   "skip_h1_title": false,
   "title_cell": "Table of Contents",
   "title_sidebar": "Contents",
   "toc_cell": false,
   "toc_position": {},
   "toc_section_display": true,
   "toc_window_display": false
  }
 },
 "nbformat": 4,
 "nbformat_minor": 2
}
