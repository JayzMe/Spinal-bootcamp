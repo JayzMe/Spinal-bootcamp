{
 "cells": [
  {
   "cell_type": "markdown",
   "metadata": {},
   "source": [
    "<a name=\"top\"></a><img src=\"source/SpinalHDL.png\" alt=\"SpinalHDL based on Scala\" style=\"width:320px;\" />"
   ]
  },
  {
   "cell_type": "markdown",
   "metadata": {},
   "source": [
    "运行SpinalHDL代码之前，务必加载SpinalHDL的库 \n",
    "（**注**：*第一次运行时需要下载库，可能会有点慢，请耐心等待*）"
   ]
  },
  {
   "cell_type": "code",
   "execution_count": 1,
   "metadata": {},
   "outputs": [
    {
     "data": {
      "text/plain": [
       "\u001b[36mpath\u001b[39m: \u001b[32mString\u001b[39m = \u001b[32m\"E:\\\\nutstore\\\\2019bf\\\\github\\\\Spinal-bootcamp/source/load-spinal.sc\"\u001b[39m"
      ]
     },
     "execution_count": 1,
     "metadata": {},
     "output_type": "execute_result"
    }
   ],
   "source": [
    "val path = System.getProperty(\"user.dir\") + \"/source/load-spinal.sc\"\n",
    "interp.load.module(ammonite.ops.Path(java.nio.file.FileSystems.getDefault().getPath(path)))"
   ]
  },
  {
   "cell_type": "markdown",
   "metadata": {},
   "source": [
    "## Chapter\n"
   ]
  },
  {
   "cell_type": "markdown",
   "metadata": {},
   "source": [
    "### 位宽推断的使用限制 \n",
    "关于没有位宽声明的getWidth用法\n",
    "```scala\n",
    "  val c = UInt()\n",
    "  c.getWidth   // X Failed !\n",
    "  c:= a + b\n",
    "  c.getWidth   // is ok, because c width already inferred by \"c := a + b\"\n",
    "```\n",
    "另外一个例子， setAll 函数需要getWidth方法\n",
    "```scala\n",
    " val c = out UInt() \n",
    " when(clc){c.setAll }.otherwise(c := a * b)  //failed\n",
    " when(clc){c := a * b }.otherwise(c.setAll)  //It's OK\n",
    "```"
   ]
  },
  {
   "cell_type": "code",
   "execution_count": 4,
   "metadata": {},
   "outputs": [
    {
     "name": "stdout",
     "output_type": "stream",
     "text": [
      "[Runtime] SpinalHDL v1.3.6    git head : 10854057c32ae371aabc9a340c367e9bbc159fcd\n",
      "[Runtime] JVM max memory : 3584.0MiB\n",
      "[Runtime] Current date : 2019.11.20 09:41:29\n",
      "[Progress] at 70.494 : Elaborate components\n",
      "[Progress] at 70.499 : Checks and transforms\n",
      "[Progress] at 70.503 : Generate Verilog\n",
      "[Done] at 70.507\n",
      "// Generator : SpinalHDL v1.3.6    git head : 10854057c32ae371aabc9a340c367e9bbc159fcd\n",
      "// Date      : 20/11/2019, 09:41:29\n",
      "// Component : T2\n",
      "\n",
      "\n",
      "module T2 (\n",
      "      input  [7:0] a,\n",
      "      input  [7:0] b,\n",
      "      input   clc,\n",
      "      output reg [15:0] c);\n",
      "  always @ (*) begin\n",
      "    if(clc)begin\n",
      "      c = (a * b);\n",
      "    end else begin\n",
      "      c = (16'b1111111111111111);\n",
      "    end\n",
      "  end\n",
      "\n",
      "endmodule\n",
      "\n",
      "\n"
     ]
    },
    {
     "data": {
      "text/plain": [
       "defined \u001b[32mclass\u001b[39m \u001b[36mT2\u001b[39m"
      ]
     },
     "execution_count": 4,
     "metadata": {},
     "output_type": "execute_result"
    }
   ],
   "source": [
    "class T2  extends Component{\n",
    "    val a,b = in UInt(8 bits)\n",
    "    val clc= in Bool()\n",
    "    val c = out UInt() \n",
    "//  when(clc){c.setAll }.otherwise(c := a * b)  //failed   \n",
    "  when(clc){c := a * b }.otherwise(c.setAll)  //It's OK\n",
    "}\n",
    "showRtl(new T2)"
   ]
  },
  {
   "cell_type": "code",
   "execution_count": 5,
   "metadata": {},
   "outputs": [
    {
     "name": "stdout",
     "output_type": "stream",
     "text": [
      "[Runtime] SpinalHDL v1.3.6    git head : 10854057c32ae371aabc9a340c367e9bbc159fcd\n",
      "[Runtime] JVM max memory : 3584.0MiB\n",
      "[Runtime] Current date : 2019.11.20 09:41:49\n",
      "[Progress] at 90.073 : Elaborate components\n",
      "[Progress] at 90.075 : Checks and transforms\n",
      "[Progress] at 90.078 : Generate Verilog\n",
      "[Warning] 1 signals were pruned. You can call printPruned on the backend report to get more informations.\n",
      "[Done] at 90.082\n",
      "// Generator : SpinalHDL v1.3.6    git head : 10854057c32ae371aabc9a340c367e9bbc159fcd\n",
      "// Date      : 20/11/2019, 09:41:49\n",
      "// Component : T2\n",
      "\n",
      "\n",
      "module T2 (\n",
      "      input  [7:0] a,\n",
      "      input  [7:0] b,\n",
      "      output [7:0] d);\n",
      "  assign d = a;\n",
      "endmodule\n",
      "\n",
      "\n"
     ]
    },
    {
     "data": {
      "text/plain": [
       "defined \u001b[32mclass\u001b[39m \u001b[36mT2\u001b[39m"
      ]
     },
     "execution_count": 5,
     "metadata": {},
     "output_type": "execute_result"
    }
   ],
   "source": [
    "class T2  extends Component{\n",
    "    val a,b = in UInt(8 bits)\n",
    "\n",
    "    val d = out(a << 0)\n",
    "  \n",
    "}\n",
    "showRtl(new T2)"
   ]
  },
  {
   "cell_type": "code",
   "execution_count": 6,
   "metadata": {},
   "outputs": [
    {
     "data": {
      "text/plain": [
       "defined \u001b[32mclass\u001b[39m \u001b[36mFixData\u001b[39m"
      ]
     },
     "execution_count": 6,
     "metadata": {},
     "output_type": "execute_result"
    }
   ],
   "source": [
    "case class FixData(raw: Double, q: Int, roundType: String, sym: Boolean)"
   ]
  },
  {
   "cell_type": "code",
   "execution_count": 7,
   "metadata": {},
   "outputs": [
    {
     "data": {
      "text/plain": [
       "\u001b[36ma\u001b[39m: \u001b[32mFixData\u001b[39m = \u001b[33mFixData\u001b[39m(\u001b[32m32.0\u001b[39m, \u001b[32m2\u001b[39m, \u001b[32m\"RoundDown\"\u001b[39m, false)"
      ]
     },
     "execution_count": 7,
     "metadata": {},
     "output_type": "execute_result"
    }
   ],
   "source": [
    "val a = FixData(32.0,2,\"RoundDown\",false)"
   ]
  },
  {
   "cell_type": "code",
   "execution_count": 8,
   "metadata": {},
   "outputs": [
    {
     "name": "stdout",
     "output_type": "stream",
     "text": [
      "[Runtime] SpinalHDL v1.3.6    git head : 10854057c32ae371aabc9a340c367e9bbc159fcd\n",
      "[Runtime] JVM max memory : 3584.0MiB\n",
      "[Runtime] Current date : 2019.11.20 09:42:08\n",
      "[Progress] at 109.452 : Elaborate components\n",
      "[Progress] at 109.478 : Checks and transforms\n",
      "[Progress] at 109.495 : Generate Verilog\n",
      "[Warning] 1 signals were pruned. You can call printPruned on the backend report to get more informations.\n",
      "[Done] at 109.508\n",
      "// Generator : SpinalHDL v1.3.6    git head : 10854057c32ae371aabc9a340c367e9bbc159fcd\n",
      "// Date      : 20/11/2019, 09:42:08\n",
      "// Component : T2\n",
      "\n",
      "\n",
      "module T2 (\n",
      "      input  [7:0] a,\n",
      "      output reg [7:0] c,\n",
      "      input   clk,\n",
      "      input   reset);\n",
      "  wire [2:0] b;\n",
      "  assign b = {a[7],{a[7],a[7]}};\n",
      "  always @ (posedge clk or posedge reset) begin\n",
      "    if (reset) begin\n",
      "      c <= (8'b00000000);\n",
      "    end else begin\n",
      "      c <= a;\n",
      "    end\n",
      "  end\n",
      "\n",
      "endmodule\n",
      "\n",
      "\n"
     ]
    },
    {
     "data": {
      "text/plain": [
       "defined \u001b[32mclass\u001b[39m \u001b[36mT2\u001b[39m"
      ]
     },
     "execution_count": 8,
     "metadata": {},
     "output_type": "execute_result"
    }
   ],
   "source": [
    "class T2  extends Component{\n",
    "    val a  = in SInt(8 bits)\n",
    "    val b = Vec(a.msb, 3).asBits\n",
    "    val c = out(RegNext(a) init 0 )\n",
    "  \n",
    "}\n",
    "showRtl(new T2)"
   ]
  },
  {
   "cell_type": "code",
   "execution_count": 9,
   "metadata": {},
   "outputs": [
    {
     "data": {
      "text/plain": [
       "\u001b[36mrand\u001b[39m: \u001b[32mscala\u001b[39m.\u001b[32mutil\u001b[39m.\u001b[32mRandom\u001b[39m = scala.util.Random@313c3d"
      ]
     },
     "execution_count": 9,
     "metadata": {},
     "output_type": "execute_result"
    }
   ],
   "source": [
    "val rand = new scala.util.Random(seed = 0)\n"
   ]
  },
  {
   "cell_type": "code",
   "execution_count": 10,
   "metadata": {},
   "outputs": [
    {
     "name": "stdout",
     "output_type": "stream",
     "text": [
      "0.4012665318695153\n",
      "-0.4507730442087561\n",
      "1.0404603952140814\n",
      "0.3818853842182447\n",
      "0.4922872664412564\n",
      "-0.8417061293836714\n",
      "-0.013645131453943643\n",
      "0.057622851431011576\n",
      "-0.19508352068996893\n",
      "-0.32169440656322457\n",
      "0.026230453599417888\n",
      "0.26067103846494477\n",
      "-0.41198350134408535\n",
      "0.13035909701417822\n",
      "-0.2264938779211272\n",
      "0.7015736908604683\n",
      "0.13556530853510118\n",
      "-0.0035270076749187003\n",
      "0.45247934970566434\n",
      "0.4284271240503403\n"
     ]
    }
   ],
   "source": [
    "for(i <- 1 to 20){println(rand.nextGaussian*1/2)}"
   ]
  },
  {
   "cell_type": "code",
   "execution_count": null,
   "metadata": {},
   "outputs": [],
   "source": []
  }
 ],
 "metadata": {
  "kernelspec": {
   "display_name": "Scala",
   "language": "scala",
   "name": "scala"
  },
  "language_info": {
   "codemirror_mode": "text/x-scala",
   "file_extension": ".scala",
   "mimetype": "text/x-scala",
   "name": "scala",
   "nbconvert_exporter": "script",
   "version": "2.12.8"
  },
  "toc": {
   "base_numbering": 1,
   "nav_menu": {},
   "number_sections": true,
   "sideBar": true,
   "skip_h1_title": false,
   "title_cell": "Table of Contents",
   "title_sidebar": "Contents",
   "toc_cell": false,
   "toc_position": {},
   "toc_section_display": true,
   "toc_window_display": false
  }
 },
 "nbformat": 4,
 "nbformat_minor": 2
}
