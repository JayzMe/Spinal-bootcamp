{
 "cells": [
  {
   "cell_type": "markdown",
   "metadata": {},
   "source": [
    "<a name=\"top\"></a><img src=\"source/SpinalHDL.png\" alt=\"SpinalHDL based on Scala\" style=\"width:320px;\" />"
   ]
  },
  {
   "cell_type": "markdown",
   "metadata": {},
   "source": [
    "运行SpinalHDL代码之前，务必加载SpinalHDL的库 \n",
    "（**注**：*第一次运行时需要下载库，可能会有点慢，请耐心等待*）"
   ]
  },
  {
   "cell_type": "code",
   "execution_count": 5,
   "metadata": {},
   "outputs": [
    {
     "data": {
      "text/plain": [
       "\u001b[36mpath\u001b[39m: \u001b[32mString\u001b[39m = \u001b[32m\"E:\\\\nutstore\\\\2019bf\\\\github\\\\Spinal-bootcamp/source/load-spinal.sc\"\u001b[39m"
      ]
     },
     "execution_count": 5,
     "metadata": {},
     "output_type": "execute_result"
    }
   ],
   "source": [
    "val path = System.getProperty(\"user.dir\") + \"/source/load-spinal.sc\"\n",
    "interp.load.module(ammonite.ops.Path(java.nio.file.FileSystems.getDefault().getPath(path)))"
   ]
  },
  {
   "cell_type": "markdown",
   "metadata": {},
   "source": [
    "## Chapter\n"
   ]
  },
  {
   "cell_type": "markdown",
   "metadata": {},
   "source": [
    "### 位宽推断的使用限制 \n",
    "关于没有位宽声明的getWidth用法\n",
    "```scala\n",
    "  val c = UInt()\n",
    "  c.getWidth   // X Failed !\n",
    "  c:= a + b\n",
    "  c.getWidth   // is ok, because c width already inferred by \"c := a + b\"\n",
    "```\n",
    "另外一个例子， setAll 函数需要getWidth方法\n",
    "```scala\n",
    " val c = out UInt() \n",
    " when(clc){c.setAll }.otherwise(c := a * b)  //failed\n",
    " when(clc){c := a * b }.otherwise(c.setAll)  //It's OK\n",
    "```"
   ]
  },
  {
   "cell_type": "code",
   "execution_count": null,
   "metadata": {},
   "outputs": [],
   "source": [
    "class T2  extends Component{\n",
    "    val a,b = in UInt(8 bits)\n",
    "    val clc= in Bool()\n",
    "    val c = out UInt() \n",
    " //when(clc){c.setAll }.otherwise(c := a * b)  //failed   \n",
    "   when(clc){c := a * b }.otherwise(c.setAll)  //It's OK\n",
    "}\n",
    "showRtl(new T2)"
   ]
  },
  {
   "cell_type": "code",
   "execution_count": 3,
   "metadata": {},
   "outputs": [
    {
     "name": "stdout",
     "output_type": "stream",
     "text": [
      "[Runtime] SpinalHDL v1.3.6    git head : 10854057c32ae371aabc9a340c367e9bbc159fcd\n",
      "[Runtime] JVM max memory : 1820.5MiB\n",
      "[Runtime] Current date : 2019.10.07 18:04:31\n",
      "[Progress] at 30.969 : Elaborate components\n",
      "[Progress] at 30.994 : Checks and transforms\n",
      "[Progress] at 31.050 : Generate Verilog\n",
      "[Warning] 1 signals were pruned. You can call printPruned on the backend report to get more informations.\n",
      "[Done] at 31.056\n",
      "// Generator : SpinalHDL v1.3.6    git head : 10854057c32ae371aabc9a340c367e9bbc159fcd\n",
      "// Date      : 07/10/2019, 18:04:31\n",
      "// Component : T2\n",
      "\n",
      "\n",
      "module T2 (\n",
      "      input  [7:0] a,\n",
      "      input  [7:0] b,\n",
      "      output [7:0] d);\n",
      "  assign d = a;\n",
      "endmodule\n",
      "\n",
      "\n"
     ]
    },
    {
     "data": {
      "text/plain": [
       "defined \u001b[32mclass\u001b[39m \u001b[36mT2\u001b[39m"
      ]
     },
     "execution_count": 3,
     "metadata": {},
     "output_type": "execute_result"
    }
   ],
   "source": [
    "class T2  extends Component{\n",
    "    val a,b = in UInt(8 bits)\n",
    "\n",
    "    val d = out(a << 0)\n",
    "  \n",
    "}\n",
    "showRtl(new T2)"
   ]
  },
  {
   "cell_type": "code",
   "execution_count": 4,
   "metadata": {},
   "outputs": [
    {
     "data": {
      "text/plain": [
       "defined \u001b[32mclass\u001b[39m \u001b[36mFixData\u001b[39m"
      ]
     },
     "execution_count": 4,
     "metadata": {},
     "output_type": "execute_result"
    }
   ],
   "source": [
    "case class FixData(raw: Double, q: Int, roundType: String, sym: Boolean)"
   ]
  },
  {
   "cell_type": "code",
   "execution_count": 5,
   "metadata": {},
   "outputs": [
    {
     "data": {
      "text/plain": [
       "\u001b[36ma\u001b[39m: \u001b[32mFixData\u001b[39m = \u001b[33mFixData\u001b[39m(\u001b[32m32.0\u001b[39m, \u001b[32m2\u001b[39m, \u001b[32m\"RoundDown\"\u001b[39m, false)"
      ]
     },
     "execution_count": 5,
     "metadata": {},
     "output_type": "execute_result"
    }
   ],
   "source": [
    "val a = FixData(32.0,2,\"RoundDown\",false)"
   ]
  },
  {
   "cell_type": "code",
   "execution_count": 4,
   "metadata": {},
   "outputs": [
    {
     "name": "stdout",
     "output_type": "stream",
     "text": [
      "[Runtime] SpinalHDL v1.3.6    git head : 10854057c32ae371aabc9a340c367e9bbc159fcd\n",
      "[Runtime] JVM max memory : 3584.0MiB\n",
      "[Runtime] Current date : 2019.10.11 11:33:36\n",
      "[Progress] at 55.384 : Elaborate components\n",
      "[Progress] at 55.391 : Checks and transforms\n",
      "[Progress] at 55.406 : Generate Verilog\n",
      "[Warning] 1 signals were pruned. You can call printPruned on the backend report to get more informations.\n",
      "[Done] at 55.418\n",
      "// Generator : SpinalHDL v1.3.6    git head : 10854057c32ae371aabc9a340c367e9bbc159fcd\n",
      "// Date      : 11/10/2019, 11:33:36\n",
      "// Component : T2\n",
      "\n",
      "\n",
      "module T2 (\n",
      "      input  [7:0] a,\n",
      "      output reg [7:0] c,\n",
      "      input   clk,\n",
      "      input   reset);\n",
      "  wire [2:0] b;\n",
      "  assign b = {a[7],{a[7],a[7]}};\n",
      "  always @ (posedge clk or posedge reset) begin\n",
      "    if (reset) begin\n",
      "      c <= (8'b00000000);\n",
      "    end else begin\n",
      "      c <= a;\n",
      "    end\n",
      "  end\n",
      "\n",
      "endmodule\n",
      "\n",
      "\n"
     ]
    },
    {
     "data": {
      "text/plain": [
       "defined \u001b[32mclass\u001b[39m \u001b[36mT2\u001b[39m"
      ]
     },
     "execution_count": 4,
     "metadata": {},
     "output_type": "execute_result"
    }
   ],
   "source": [
    "class T2  extends Component{\n",
    "    val a  = in SInt(8 bits)\n",
    "    val b = Vec(a.msb, 3).asBits\n",
    "    val c = out(RegNext(a) init 0 )\n",
    "  \n",
    "}\n",
    "showRtl(new T2)"
   ]
  },
  {
   "cell_type": "code",
   "execution_count": 17,
   "metadata": {},
   "outputs": [
    {
     "data": {
      "text/plain": [
       "\u001b[36mrand\u001b[39m: \u001b[32mscala\u001b[39m.\u001b[32mutil\u001b[39m.\u001b[32mRandom\u001b[39m = scala.util.Random@7ca1b179"
      ]
     },
     "execution_count": 17,
     "metadata": {},
     "output_type": "execute_result"
    }
   ],
   "source": [
    "val rand = new scala.util.Random(seed = 0)\n"
   ]
  },
  {
   "cell_type": "code",
   "execution_count": 38,
   "metadata": {},
   "outputs": [
    {
     "name": "stdout",
     "output_type": "stream",
     "text": [
      "0.34464549212597334\n",
      "0.7572761098500084\n",
      "-0.7367380911719159\n",
      "0.4708964049412558\n",
      "-0.2700298485978809\n",
      "-0.013167598170604967\n",
      "-0.26126074840938235\n",
      "0.13509552399784552\n",
      "-0.13205988896740153\n",
      "0.6403619208530379\n",
      "0.49458353818241274\n",
      "0.8150616514369599\n",
      "-0.32356276207131146\n",
      "-1.007252283519701\n",
      "-0.4310699215474686\n",
      "0.45825315566906755\n",
      "-0.1918427566699596\n",
      "-0.22881782039447454\n",
      "0.2623914062956409\n",
      "0.11715619275870792\n"
     ]
    }
   ],
   "source": [
    "for(i <- 1 to 20){println(rand.nextGaussian*1/2)}"
   ]
  },
  {
   "cell_type": "code",
   "execution_count": null,
   "metadata": {},
   "outputs": [],
   "source": []
  }
 ],
 "metadata": {
  "kernelspec": {
   "display_name": "Scala",
   "language": "scala",
   "name": "scala"
  },
  "language_info": {
   "codemirror_mode": "text/x-scala",
   "file_extension": ".scala",
   "mimetype": "text/x-scala",
   "name": "scala",
   "nbconvert_exporter": "script",
   "version": "2.12.8"
  },
  "toc": {
   "base_numbering": 1,
   "nav_menu": {},
   "number_sections": true,
   "sideBar": true,
   "skip_h1_title": false,
   "title_cell": "Table of Contents",
   "title_sidebar": "Contents",
   "toc_cell": false,
   "toc_position": {},
   "toc_section_display": true,
   "toc_window_display": false
  }
 },
 "nbformat": 4,
 "nbformat_minor": 2
}
