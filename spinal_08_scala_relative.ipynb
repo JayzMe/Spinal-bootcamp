{
 "cells": [
  {
   "cell_type": "markdown",
   "metadata": {},
   "source": [
    "<a name=\"top\"></a><img src=\"source/SpinalHDL.png\" alt=\"SpinalHDL based on Scala\" style=\"width:320px;\" />"
   ]
  },
  {
   "cell_type": "markdown",
   "metadata": {},
   "source": [
    "运行SpinalHDL代码之前，务必加载SpinalHDL的库 \n",
    "（**注**：*第一次运行时需要下载库，可能会有点慢，请耐心等待*）"
   ]
  },
  {
   "cell_type": "markdown",
   "metadata": {},
   "source": [
    "## Chapter\n"
   ]
  },
  {
   "cell_type": "code",
   "execution_count": null,
   "metadata": {},
   "outputs": [],
   "source": [
    "val path = System.getProperty(\"user.dir\") + \"/source/load-spinal.sc\"\n",
    "interp.load.module(ammonite.ops.Path(java.nio.file.FileSystems.getDefault().getPath(path)))"
   ]
  },
  {
   "cell_type": "code",
   "execution_count": null,
   "metadata": {},
   "outputs": [],
   "source": [
    "class Person3 {}\n",
    "class Student3 extends Person3"
   ]
  },
  {
   "cell_type": "markdown",
   "metadata": {},
   "source": [
    "List作为参数传入"
   ]
  },
  {
   "cell_type": "code",
   "execution_count": null,
   "metadata": {},
   "outputs": [],
   "source": [
    "Array(Range(1,10):_*)\n",
    "\n",
    "Array.fill(8)(Random.nextInt%256)"
   ]
  },
  {
   "cell_type": "code",
   "execution_count": null,
   "metadata": {},
   "outputs": [],
   "source": [
    "val p: Person3 = new Student3\n",
    "val p0: Person3 = new Person3\n",
    "val s: Student3 = p.asInstanceOf[Student3]"
   ]
  },
  {
   "cell_type": "markdown",
   "metadata": {},
   "source": [
    "## 文件操作\n",
    "- 读文件\n",
    "```scala\n",
    "scala.io.Source.fromFile(sp.generatedSourcesPaths.head).mkString     \n",
    "```\n",
    "- 写的三种方法\n",
    "  + java io\n",
    "```scala\n",
    "import java.io.PrintWriter\n",
    "new PrintWriter(\"tmp/fixpoint.txt\"){write(strings.foldLeft(\"\")(_+_+\"\\n\"));close}\n",
    "```\n",
    "  + java io \n",
    "```scala\n",
    "import java.io.{PrintWriter，File}\n",
    "val fp = new PrintWriter(new File(\"tmp/fixpoint.txt\"))\n",
    "fp.write(strings.foldLeft(\"\")(_+_+\"\\n\"))\n",
    "fp.close()  \n",
    "```\n",
    "  + scala reflect(2.12)\n",
    "```scala\n",
    "reflect.io.File(\"tmp/fixpoint.txt\").writeAll(strings.foldLeft(\"\")(_+_+\"\\n\"))\n",
    "``` "
   ]
  },
  {
   "cell_type": "code",
   "execution_count": null,
   "metadata": {},
   "outputs": [],
   "source": [
    "val a = new Area"
   ]
  },
  {
   "cell_type": "code",
   "execution_count": null,
   "metadata": {},
   "outputs": [],
   "source": [
    "class Counter0(start: BigInt, end: BigInt) extends ImplicitArea[UInt] {    \n",
    "    val willIncrement: Bool = False.allowOverride\n",
    "    val willClear: Bool = False.allowOverride\n",
    "    \n",
    "    def clear() = willClear := True\n",
    "    def increment() = willIncrement  := True\n",
    "    \n",
    "    val valueNext =UInt(log2Up(end + 1) bit)    \n",
    "    val value = RegNext(valueNext) init(start)\n",
    "    \n",
    "    val willOverflowIfInc: Bool = value === end \n",
    "    val willOverflow:Bool = willOverflowIfInc && willIncrement\n",
    "    \n",
    "    when (willOverflow){\n",
    "        valueNext := U(start)        \n",
    "    }.elsewhen(willClear) {\n",
    "        valueNext := start + 1\n",
    "    }.elsewhen(willIncrement) {\n",
    "        valueNext := value + U(1)\n",
    "    }.otherwise{\n",
    "        valueNext := value  \n",
    "    }\n",
    "   override def implicitValue: UInt = this.value\n",
    "}"
   ]
  },
  {
   "cell_type": "code",
   "execution_count": null,
   "metadata": {},
   "outputs": [],
   "source": [
    "class T1 extends Component{\n",
    "    val o = out UInt()\n",
    "    val ready,clc = in Bool()\n",
    "    val o2 = out Bool()\n",
    "    val u23 = new Counter0(12,31)\n",
    "    when(ready){u23.increment}\n",
    "    when(clc){u23.clear}\n",
    "    o := u23\n",
    "    o2 := u23.willOverflow\n",
    "    \n",
    " val u00 = new Counter0(11,56)\n",
    "}\n",
    "showRtl(new T1)"
   ]
  },
  {
   "cell_type": "code",
   "execution_count": null,
   "metadata": {},
   "outputs": [],
   "source": [
    "class Counter2(val end: UInt) extends ImplicitArea[UInt] {\n",
    "  val willIncr = False.allowOverride\n",
    "  val willClear = False.allowOverride\n",
    "  def clear(): Unit = willClear := True\n",
    "  def incr(): Unit = willIncr := True\n",
    "\n",
    "  val valueNext = cloneOf(end)\n",
    "  val value = RegNext(valueNext) init(0)\n",
    "  val willOverflowIfInc = value === end\n",
    "  val willOverflow = willOverflowIfInc && willIncr\n",
    "    \n",
    "  when (willOverflow){\n",
    "        valueNext := 0\n",
    "    }.elsewhen(willClear) {\n",
    "        valueNext := 0\n",
    "    }.elsewhen(willIncr) {\n",
    "        valueNext := value + U(1)\n",
    "    }.otherwise{\n",
    "        valueNext := value  \n",
    "    }\n",
    "   override def implicitValue: UInt = this.value\n",
    "}\n"
   ]
  },
  {
   "cell_type": "code",
   "execution_count": null,
   "metadata": {},
   "outputs": [],
   "source": [
    "class T3 extends Component{\n",
    "    val end  = in UInt(8 bits)\n",
    "    val en = in Bool()\n",
    "    val b = new Counter2(end)\n",
    "    when(en)(b.incr)\n",
    "    val c = out UInt()\n",
    "    c := b \n",
    "    \n",
    "}\n",
    "showRtl(new T3)"
   ]
  },
  {
   "cell_type": "code",
   "execution_count": null,
   "metadata": {},
   "outputs": [],
   "source": [
    "class T3 extends Component{\n",
    "    val ins = in UInt(  )\n",
    "    val init = in UInt(  )\n",
    "    val en = in Bool()\n",
    "    val outs = out UInt()\n",
    "    //val t = U\"8'h1A\"\n",
    "    //val h = History(ins,4,en,U\"8'b0\")\n",
    "    val b = cloneOf(ins)\n",
    "    b := 0\n",
    "    val h = History(ins,4,en )  \n",
    "    //outs := RegNext(h(2),init = U\"8'd0\")\n",
    "    //outs := RegNext(h(2)) init( 31 )\n",
    "}\n",
    " class Top extends Component{\n",
    "     val ins = in UInt(8 bits)\n",
    " val t3 = new T3\n",
    "     t3.ins := ins \n",
    "     t3.en := True\n",
    "     \n",
    " }\n",
    "showRtl(new Top)"
   ]
  },
  {
   "cell_type": "code",
   "execution_count": null,
   "metadata": {},
   "outputs": [],
   "source": []
  },
  {
   "cell_type": "code",
   "execution_count": null,
   "metadata": {},
   "outputs": [],
   "source": [
    "def hi(locate: String, name:String)= {\n",
    "    println(s\"hi, name is $name, from $locate,\")\n",
    "}\n",
    "\n",
    "hi(\"usa\",\"jack\")\n",
    "hi (\"lucy\", \"jd\")"
   ]
  },
  {
   "cell_type": "code",
   "execution_count": null,
   "metadata": {},
   "outputs": [],
   "source": [
    "def hi( init :String)= {\n",
    "    println(s\"reg init  $init, \")\n",
    "}\n",
    "hi \"323\""
   ]
  },
  {
   "cell_type": "code",
   "execution_count": null,
   "metadata": {},
   "outputs": [],
   "source": [
    "def sum(a: Int,b: Int,c: Int) = a + b + c\n",
    "val a = sum _\n",
    "a(1,2,3)"
   ]
  },
  {
   "cell_type": "code",
   "execution_count": null,
   "metadata": {},
   "outputs": [],
   "source": [
    "class SUB0 extends Component{\n",
    "    val ins = in UInt() \n",
    "    val ots = out UInt()\n",
    "    val tmp = Reg(cloneOf(ins)) //how to clone \n",
    "    ots := tmp\n",
    "}\n",
    "class Top extends Component{\n",
    "    val a = in UInt(8 bits)\n",
    "    val b = out UInt()\n",
    "    val u = new SUB0\n",
    "    u.ins :=a \n",
    "    b := u.ots\n",
    "}\n",
    "showRtl(new Top)"
   ]
  },
  {
   "cell_type": "code",
   "execution_count": null,
   "metadata": {},
   "outputs": [],
   "source": [
    "var bitFlag = 0\n",
    "bitFlag |=1\n",
    "println(bitFlag)\n",
    "//bitFlag |=2\n",
    "//println(bitFlag)\n",
    "bitFlag |=6\n",
    "\n",
    "println(bitFlag)"
   ]
  },
  {
   "cell_type": "code",
   "execution_count": null,
   "metadata": {},
   "outputs": [],
   "source": [
    "class CounterTo(val end: UInt, val inc: Bool) extends ImplicitArea[UInt] {\n",
    "  val willClear = False.allowOverride\n",
    "\n",
    "  def clear(): Unit = willClear := True\n",
    "\n",
    "  def clearWhen(clc: Bool)={\n",
    "    when(clc) {willClear := True}\n",
    "    this\n",
    "  }\n",
    "\n",
    "  val valueNext = cloneOf(end)\n",
    "  val value = RegNext(valueNext) init(0)\n",
    "  val willOverflowIfInc = value === end\n",
    "  val willOverflow = willOverflowIfInc && inc\n",
    "\n",
    "  when (willOverflow){\n",
    "    valueNext := 0\n",
    "  }.elsewhen(willClear) {\n",
    "    valueNext := 0\n",
    "  }.elsewhen(inc) {\n",
    "    valueNext := value + U(1)\n",
    "  }.otherwise{\n",
    "    valueNext := value\n",
    "  }\n",
    "  override def implicitValue: UInt = this.value\n",
    "}\n",
    "\n",
    "object CounterTo {\n",
    "  def apply(end: UInt, inc: Bool ): CounterTo = new CounterTo(end, inc )\n",
    "  def apply(end: UInt): CounterTo = new CounterTo(end, True)\n",
    "}\n"
   ]
  },
  {
   "cell_type": "code",
   "execution_count": null,
   "metadata": {},
   "outputs": [],
   "source": [
    "class Top extends Component {\n",
    "    val start = in Bool()\n",
    "    val end = in UInt(8 bits)\n",
    "    \n",
    "    //lazy val tapAddr = CounterTo(end, tapCntEn)\n",
    "    //val tapCntEn = RegInit(True) setWhen(start) clearWhen(tapAddr.willOverflow)\n",
    "       \n",
    "    val tapCntEn = RegInit(True) \n",
    "    val tapAddr = CounterTo(end, tapCntEn)\n",
    "    \n",
    "    tapCntEn.setWhen(start).clearWhen(tapAddr.willOverflow)\n",
    "    \n",
    "}\n",
    "showRtl(new Top)"
   ]
  },
  {
   "cell_type": "markdown",
   "metadata": {},
   "source": [
    "## 参数协商"
   ]
  },
  {
   "cell_type": "code",
   "execution_count": null,
   "metadata": {},
   "outputs": [],
   "source": [
    "case class FIRConfig(iqWidth: Int = 8,\n",
    "                     coefWidth: Int = 8,\n",
    "                     tapNumbers: Int = 33,\n",
    "                     maxUpSmpTimes : Int = 5\n",
    "                     ){\n",
    "  def cyclesPerSmp(): Int = (tapNumbers>>1) + 1\n",
    "  def tapCntMaxValue(): Int = cyclesPerSmp - 1\n",
    "  val accWidth: Int = iqWidth + coefWidth + log2Up(tapNumbers)\n",
    "  val fixSelWidth: Int = log2Up(coefWidth + log2Up(tapNumbers))\n",
    "\n",
    "  private var isLast: Boolean = true\n",
    "  private var next : FIRConfig = null\n",
    "\n",
    "  def -->(that: FIRConfig): Unit = {\n",
    "    isLast = false\n",
    "    next = that\n",
    "  }\n",
    "\n",
    "  def interGapWidth(): Int ={\n",
    "    if(isLast){\n",
    "      log2Up(maxUpSmpTimes)\n",
    "    } else {\n",
    "      log2Up(maxUpSmpTimes) + next.interGapWidth\n",
    "    }\n",
    "  }\n",
    "}"
   ]
  },
  {
   "cell_type": "code",
   "execution_count": null,
   "metadata": {},
   "outputs": [],
   "source": [
    "case class FilterGroupConfig(stagesNumber: Int = 3,\n",
    "                             hwFreq: HertzNumber = 200 MHz,\n",
    "                             sampleFreq: HertzNumber = 1.92 MHz){\n",
    "  val stagesConfig: Array[FIRConfig] = Array.fill(stagesNumber)(FIRConfig(8,8,33))\n",
    "  def chain(A: FIRConfig, B: FIRConfig): FIRConfig = { A --> B ; A}\n",
    "  def negotiate() ={stagesConfig.reduceRight(chain);this}\n",
    "}"
   ]
  },
  {
   "cell_type": "code",
   "execution_count": null,
   "metadata": {},
   "outputs": [],
   "source": [
    "val fgc = FilterGroupConfig()\n",
    "fgc.stagesConfig(1) = FIRConfig(maxUpSmpTimes=4)\n",
    "fgc.negotiate()\n",
    "fgc.stagesConfig.map(x=>println(x.interGapWidth))"
   ]
  },
  {
   "cell_type": "code",
   "execution_count": null,
   "metadata": {},
   "outputs": [],
   "source": [
    "class top extends Component{\n",
    "    val a =  fgc.stagesConfig.map(x=>UInt(x.interGapWidth bits))\n",
    "    val c = in Vec(a)\n",
    "}\n",
    "showRtl(new top)"
   ]
  },
  {
   "cell_type": "code",
   "execution_count": null,
   "metadata": {},
   "outputs": [],
   "source": [
    "case class IQ(w: BitCount) extends Bundle{\n",
    "  val I = SInt(w)\n",
    "  val Q = SInt(w)\n",
    "\n",
    "  val width = w.value\n",
    "\n",
    "  def toBits: Bits = (I @@ Q).asBits\n",
    "\n",
    "  def +!(that: IQ) : IQ = {\n",
    "    val retWidth = (this.width max that.width)\n",
    "    val ret = IQ(retWidth + 1 bits)\n",
    "    ret.I := this.I + that.I.resize(retWidth + 1)\n",
    "    ret.Q := this.Q + that.Q.resize(retWidth + 1)\n",
    "    ret\n",
    "  }\n",
    "\n",
    "  def +(that: IQ) : IQ = {\n",
    "    val ret = IQ((this.width max that.width)  bits)\n",
    "    ret.I := this.I + that.I\n",
    "    ret.Q := this.Q + that.Q\n",
    "    ret\n",
    "  }\n",
    "\n",
    "  def *[T <: SInt](coef: T): IQ = {\n",
    "    val ret = IQ(this.width + coef.getWidth bits)\n",
    "    ret.I := this.I * coef\n",
    "    ret.Q := this.Q * coef\n",
    "    ret\n",
    "  }\n",
    "\n",
    "  def init[T <: Data](x: T): IQ = {\n",
    "    this.I.initFrom(x)\n",
    "    this.Q.initFrom(x)\n",
    "    this\n",
    "  }\n",
    "\n",
    "  def init(x: Int): IQ = init(S(x,w))\n",
    "\n",
    "  def clear = {\n",
    "    this.I := 0\n",
    "    this.Q := 0\n",
    "    this\n",
    "  }\n",
    "\n",
    "  def bitSel(sel: UInt): IQ = {\n",
    "    val ret = IQ(this.width bits)\n",
    "    ret.I := this.I(0 until ret.I.getWidth)\n",
    "    ret.Q := this.Q(0 until ret.Q.getWidth)\n",
    "//    ret.I := sel.mux(0->this.I(0 until ret.I.getWidth),\n",
    "//      1-> this.I(1 until ret.I.getWidth + 1),\n",
    "//      2-> this.I(2 until ret.I.getWidth + 2),\n",
    "//      3-> this.I(3 until ret.I.getWidth + 3),\n",
    "//      4-> this.I(4 until ret.I.getWidth + 4),\n",
    "//    )\n",
    "    ret\n",
    "  }\n",
    "}"
   ]
  },
  {
   "cell_type": "code",
   "execution_count": null,
   "metadata": {},
   "outputs": [],
   "source": [
    "case class IQ(w: BitCount) extends Bundle{\n",
    "  val I = SInt(w)\n",
    "  val Q = SInt(w)\n",
    "  val width = w.value\n",
    "  def +(that: IQ) : IQ = {\n",
    "    val ret = IQ((this.width max that.width)  bits)\n",
    "    ret.I := this.I + that.I \n",
    "    ret.Q := this.Q + that.Q \n",
    "    ret\n",
    "  }\n",
    "}"
   ]
  },
  {
   "cell_type": "code",
   "execution_count": null,
   "metadata": {},
   "outputs": [],
   "source": [
    "\n",
    "class top extends Component{\n",
    "    val a =  in(IQ(8 bits))\n",
    "    val en = in Bool()\n",
    "    \n",
    "    val Acc = Reg(IQ(12 bits)) init 32  \n",
    "    //Acc.noCombLoopCheck\n",
    "    when(en) {\n",
    "        Acc := Acc + a \n",
    "    }\n",
    "}\n",
    "showRtl(new top)"
   ]
  },
  {
   "cell_type": "code",
   "execution_count": null,
   "metadata": {},
   "outputs": [],
   "source": [
    "class top extends Component{\n",
    "    val a =  in(UInt(8 bits))\n",
    "    val en = in Bool()\n",
    " \n",
    " val Acc = RegNextWhen(a,en) init 32\n",
    "}\n",
    "showRtl(new top)"
   ]
  },
  {
   "cell_type": "code",
   "execution_count": null,
   "metadata": {},
   "outputs": [],
   "source": [
    "case class IQBD(w: Int){\n",
    "    val I = SInt(w bits)\n",
    "    val Q = SInt(w bits)\n",
    "}\n",
    "\n",
    "class top extends Component{\n",
    "    val a =  in(IQBD(8))\n",
    "    val en = in Bool()\n",
    "    \n",
    "    //val Acc = RegNextWhen(a,en) init 32  \n",
    " val Acc = RegNextWhen(a,en) \n",
    "}\n",
    "showRtl(new top)    "
   ]
  },
  {
   "cell_type": "code",
   "execution_count": null,
   "metadata": {},
   "outputs": [],
   "source": [
    "scala.util.Random.nextInt%256"
   ]
  },
  {
   "cell_type": "code",
   "execution_count": null,
   "metadata": {},
   "outputs": [],
   "source": [
    "class SyncronousCheckerTesterC(v : Int) extends Component{\n",
    "  val clk1, clk2, reset = in Bool()\n",
    "  val input = in UInt(8 bits)\n",
    "  val output = out UInt(8 bits)\n",
    "\n",
    "  val clk1Buf = List.fill(3)(Bool).foldLeft(clk1){(i,o) => o := i; o}\n",
    "  val clk2Buf = List.fill(3)(Bool).foldLeft(clk2){(i,o) => o := i; o}\n",
    "\n",
    "  val cd1 = ClockDomain(clk1Buf, reset)\n",
    "  val cd2 = ClockDomain(clk2Buf, reset)\n",
    "  v match{\n",
    "    case 0 =>\n",
    "    case 1 => cd1.setSynchronousWith(cd2)\n",
    "    case 2 => cd2.setSynchronousWith(cd1)\n",
    "    case 3 => ClockDomain(clk1).setSynchronousWith(cd2)\n",
    "    case 4 => ClockDomain(clk2).setSynchronousWith(cd1)\n",
    "    case 5 => ClockDomain(clk1).setSynchronousWith(ClockDomain(clk2))\n",
    "  }\n",
    "\n",
    "   val logic1 = cd1 on new Area{\n",
    "    val a = RegNext(input)\n",
    "    val b = RegNext(a)\n",
    "    output := b\n",
    "  }\n",
    "\n",
    "   val logic2 = cd2 on new Area{\n",
    "    val a = out(RegNext(logic1.a))\n",
    "  }\n",
    "}\n",
    "showRtl(new SyncronousCheckerTesterC(1))"
   ]
  },
  {
   "cell_type": "code",
   "execution_count": null,
   "metadata": {},
   "outputs": [],
   "source": [
    "Range(1,10).foldRight(33)((i,o) => {println(s\"$i -> $o\");i})"
   ]
  },
  {
   "cell_type": "markdown",
   "metadata": {},
   "source": [
    "## 反射"
   ]
  },
  {
   "cell_type": "code",
   "execution_count": null,
   "metadata": {},
   "outputs": [],
   "source": [
    "case class A(x: Int) {\n",
    "    val greet = \"hello\"\n",
    "    val name = \"jack\"\n",
    "    //prinln(nameOf(greet))\n",
    "}\n",
    "class B {\n",
    "    val greet = \"hello\"\n",
    "    val name = \"jack\"\n",
    "    //prinln(nameOf(greet))\n",
    "}\n",
    "val a = classOf[A].getName\n",
    "val b = classOf[B].getName\n",
    "val a0 =new A(1)\n",
    "a0.getClass.getName"
   ]
  },
  {
   "cell_type": "code",
   "execution_count": null,
   "metadata": {},
   "outputs": [],
   "source": [
    "import scala.language.experimental.macros\n",
    "import scala.reflect.macros.blackbox.Context\n",
    "\n",
    "object Macros {\n",
    "\n",
    "  def impl(c: Context)(x: c.Tree): c.Tree = {\n",
    "    import c.universe._\n",
    "    val p = x match {\n",
    "      case Select(_, TermName(s)) => s\n",
    "      case _ => \"\"\n",
    "    }\n",
    "    q\"$p\"\n",
    "  }\n",
    "    \n",
    "  // write macros here\n",
    "  def getName(x: Any): String = macro impl\n",
    "\n",
    "}"
   ]
  },
  {
   "cell_type": "markdown",
   "metadata": {},
   "source": [
    "## 获取类名"
   ]
  },
  {
   "cell_type": "code",
   "execution_count": null,
   "metadata": {},
   "outputs": [],
   "source": [
    "object classNameOf{\n",
    "  def apply(that : Any): String = that.getClass.getSimpleName.replace(\"$\",\".\").split(\"\\\\.\").head\n",
    "}\n",
    "classNameOf(A)"
   ]
  },
  {
   "cell_type": "code",
   "execution_count": null,
   "metadata": {},
   "outputs": [],
   "source": [
    "A.getClass.getSimpleName"
   ]
  },
  {
   "cell_type": "code",
   "execution_count": null,
   "metadata": {},
   "outputs": [],
   "source": [
    "class Thing \n",
    "object Thingy extends Thing\n",
    "Thingy.getClass.getName"
   ]
  },
  {
   "cell_type": "markdown",
   "metadata": {},
   "source": [
    "## 变量名"
   ]
  },
  {
   "cell_type": "code",
   "execution_count": null,
   "metadata": {},
   "outputs": [],
   "source": [
    "import scala.annotation.tailrec\n",
    "import scala.reflect.macros._\n",
    "object NameOfImpl {\n",
    "  def nameOf(c: Context)(expr: c.Expr[Any]): c.Expr[String] = {\n",
    "    import c.universe._\n",
    "\n",
    "    @tailrec def extract(tree: c.Tree): c.Name = tree match {\n",
    "      case Ident(n) => n\n",
    "      case Select(_, n) => n\n",
    "      case Function(_, body) => extract(body)\n",
    "      case Block(_, expr) => extract(expr)\n",
    "      case Apply(func, _) => extract(func)\n",
    "      case TypeApply(func, _) => extract(func)\n",
    "      case _ => c.abort(c.enclosingPosition, s\"Unsupported expression: $expr\")\n",
    "    }\n",
    "\n",
    "    val name = extract(expr.tree).decoded\n",
    "    reify {\n",
    "      c.Expr[String] { Literal(Constant(name)) }.splice\n",
    "    }\n",
    "  }\n",
    "\n",
    "  def nameOfType[T](c: Context)(implicit tag: c.WeakTypeTag[T]): c.Expr[String] = {\n",
    "    import c.universe._\n",
    "    val name = showRaw(tag.tpe.typeSymbol.name)\n",
    "    reify {\n",
    "      c.Expr[String] { Literal(Constant(name)) }.splice\n",
    "    }\n",
    "  }\n",
    "\n",
    "  def qualifiedNameOfType[T](c: Context)(implicit tag: c.WeakTypeTag[T]): c.Expr[String] = {\n",
    "    import c.universe._\n",
    "    val name = showRaw(tag.tpe.typeSymbol.fullName)\n",
    "    reify {\n",
    "      c.Expr[String] { Literal(Constant(name)) }.splice\n",
    "    }\n",
    "  }\n",
    "}"
   ]
  },
  {
   "cell_type": "code",
   "execution_count": null,
   "metadata": {},
   "outputs": [],
   "source": [
    "trait NameOf {\n",
    "  import scala.language.experimental.macros\n",
    "\n",
    "  /**\n",
    "    * Obtain an identifier name as a constant string.\n",
    "    *\n",
    "    * Example usage:\n",
    "    * {{{\n",
    "    *   val amount = 5\n",
    "    *   nameOf(amount) => \"amount\"\n",
    "    * }}}\n",
    "    */\n",
    "  def nameOf(expr: Any): String = macro NameOfImpl.nameOf\n",
    "\n",
    "  /**\n",
    "    * Obtain an identifier name as a constant string.\n",
    "    *\n",
    "    * This overload can be used to access an instance method without having an instance of the type.\n",
    "    *\n",
    "    * Example usage:\n",
    "    * {{{\n",
    "    *   class Person(val name: String)\n",
    "    *   nameOf[Person](_.name) => \"name\"\n",
    "    * }}}\n",
    "    */\n",
    "  def nameOf[T](expr: T => Any): String = macro NameOfImpl.nameOf\n",
    "\n",
    "  /**\n",
    "    * Obtain a type's unqualified name as a constant string.\n",
    "    *\n",
    "    * Example usage:\n",
    "    * {{{\n",
    "    *   nameOfType[String] => \"String\"\n",
    "    *   nameOfType[fully.qualified.ClassName] => \"ClassName\"\n",
    "    * }}}\n",
    "    */\n",
    "  def nameOfType[T]: String = macro NameOfImpl.nameOfType[T]\n",
    "\n",
    "  /**\n",
    "    * Obtain a type's qualified name as a constant string.\n",
    "    *\n",
    "    * Example usage:\n",
    "    * {{{\n",
    "    *   nameOfType[String] => \"java.lang.String\"\n",
    "    *   nameOfType[fully.qualified.ClassName] => \"fully.qualified.ClassName\"\n",
    "    * }}}\n",
    "    */\n",
    "  //def qualifiedNameOfType[T]: String = macro NameOfImpl.qualifiedNameOfType[T]\n",
    "}\n",
    "object NameOf extends NameOf"
   ]
  },
  {
   "cell_type": "code",
   "execution_count": null,
   "metadata": {},
   "outputs": [],
   "source": [
    "import java.util.Date\n",
    "import reflect.macros.Context\n",
    "import language.experimental.macros\n",
    "\n",
    "object CompileTime {\n",
    "  def apply(): Date = macro applyImpl\n",
    "\n",
    "  def applyImpl(c: Context)(): c.Expr[Date] = {\n",
    "    import c.universe._\n",
    "    val now     = System.currentTimeMillis() // this is executed during compilation!\n",
    "    val nowExpr = c.Expr[Long](Literal(Constant(now)))\n",
    "    val code    = reify(new Date(nowExpr.splice))\n",
    "    c.Expr(code.tree)\n",
    "  }\n",
    "}"
   ]
  },
  {
   "cell_type": "code",
   "execution_count": null,
   "metadata": {},
   "outputs": [],
   "source": [
    "import scala.util.Random\n",
    "val a = List.fill(8)(Random.nextInt%256)"
   ]
  },
  {
   "cell_type": "code",
   "execution_count": null,
   "metadata": {},
   "outputs": [],
   "source": [
    "import spinal.lib.soc.pinsec._\n",
    "showRtl(new Pinsec(500 MHz))"
   ]
  },
  {
   "cell_type": "code",
   "execution_count": 9,
   "metadata": {},
   "outputs": [
    {
     "name": "stdout",
     "output_type": "stream",
     "text": [
      "[Runtime] SpinalHDL v1.3.6    git head : 10854057c32ae371aabc9a340c367e9bbc159fcd\n",
      "[Runtime] JVM max memory : 3584.0MiB\n",
      "[Runtime] Current date : 2019.10.25 16:59:12\n",
      "[Progress] at 747.670 : Elaborate components\n",
      "[Progress] at 747.672 : Checks and transforms\n",
      "[Progress] at 747.673 : Generate Verilog\n",
      "[Done] at 747.675\n",
      "// Generator : SpinalHDL v1.3.6    git head : 10854057c32ae371aabc9a340c367e9bbc159fcd\n",
      "// Date      : 25/10/2019, 16:59:12\n",
      "// Component : T2\n",
      "\n",
      "\n",
      "module T2 (\n",
      "      output [11:0] busout_PADDR,\n",
      "      output [0:0] busout_PSEL,\n",
      "      output  busout_PENABLE,\n",
      "      input   busout_PREADY,\n",
      "      output  busout_PWRITE,\n",
      "      output [31:0] busout_PWDATA,\n",
      "      input  [31:0] busout_PRDATA,\n",
      "      input   busout_PSLVERROR,\n",
      "      input  [11:0] busin_PADDR,\n",
      "      input  [0:0] busin_PSEL,\n",
      "      input   busin_PENABLE,\n",
      "      output  busin_PREADY,\n",
      "      input   busin_PWRITE,\n",
      "      input  [31:0] busin_PWDATA,\n",
      "      output [31:0] busin_PRDATA,\n",
      "      output  busin_PSLVERROR);\n",
      "  assign busout_PADDR = busin_PADDR;\n",
      "  assign busout_PSEL = busin_PSEL;\n",
      "  assign busout_PENABLE = busin_PENABLE;\n",
      "  assign busin_PREADY = busout_PREADY;\n",
      "  assign busout_PWRITE = busin_PWRITE;\n",
      "  assign busout_PWDATA = busin_PWDATA;\n",
      "  assign busin_PRDATA = busout_PRDATA;\n",
      "  assign busin_PSLVERROR = busout_PSLVERROR;\n",
      "endmodule\n",
      "\n",
      "\n"
     ]
    },
    {
     "data": {
      "text/plain": [
       "\u001b[32mimport \u001b[39m\u001b[36mspinal.lib.bus.amba3.apb._\n",
       "\u001b[39m\r\n",
       "defined \u001b[32mclass\u001b[39m \u001b[36mT2\u001b[39m"
      ]
     },
     "execution_count": 9,
     "metadata": {},
     "output_type": "execute_result"
    }
   ],
   "source": [
    "import spinal.lib.bus.amba3.apb._\n",
    "class T2 extends Component{\n",
    "    val busout = master(Apb3(Apb3Config(12,32)))\n",
    "    val busin = slave(Apb3(Apb3Config(12,32)))\n",
    "    busout <> busin\n",
    "}\n",
    "showRtl(new T2)"
   ]
  },
  {
   "cell_type": "code",
   "execution_count": 13,
   "metadata": {},
   "outputs": [
    {
     "name": "stdout",
     "output_type": "stream",
     "text": [
      "[Runtime] SpinalHDL v1.3.6    git head : 10854057c32ae371aabc9a340c367e9bbc159fcd\n",
      "[Runtime] JVM max memory : 3584.0MiB\n",
      "[Runtime] Current date : 2019.10.26 09:53:10\n",
      "[Progress] at 61585.467 : Elaborate components\n",
      "[Progress] at 61585.471 : Checks and transforms\n",
      "[Progress] at 61585.476 : Generate Verilog\n",
      "[Done] at 61585.479\n",
      "// Generator : SpinalHDL v1.3.6    git head : 10854057c32ae371aabc9a340c367e9bbc159fcd\n",
      "// Date      : 26/10/2019, 09:53:10\n",
      "// Component : T3\n",
      "\n",
      "\n",
      "module T3 (\n",
      "      output  busout_aw_valid,\n",
      "      input   busout_aw_ready,\n",
      "      output [15:0] busout_aw_payload_addr,\n",
      "      output [3:0] busout_aw_payload_id,\n",
      "      output [3:0] busout_aw_payload_region,\n",
      "      output [7:0] busout_aw_payload_len,\n",
      "      output [2:0] busout_aw_payload_size,\n",
      "      output [1:0] busout_aw_payload_burst,\n",
      "      output [0:0] busout_aw_payload_lock,\n",
      "      output [3:0] busout_aw_payload_cache,\n",
      "      output [3:0] busout_aw_payload_qos,\n",
      "      output [2:0] busout_aw_payload_prot,\n",
      "      output  busout_w_valid,\n",
      "      input   busout_w_ready,\n",
      "      output [31:0] busout_w_payload_data,\n",
      "      output [3:0] busout_w_payload_strb,\n",
      "      output  busout_w_payload_last,\n",
      "      input   busout_b_valid,\n",
      "      output  busout_b_ready,\n",
      "      input  [3:0] busout_b_payload_id,\n",
      "      input  [1:0] busout_b_payload_resp,\n",
      "      output  busout_ar_valid,\n",
      "      input   busout_ar_ready,\n",
      "      output [15:0] busout_ar_payload_addr,\n",
      "      output [3:0] busout_ar_payload_id,\n",
      "      output [3:0] busout_ar_payload_region,\n",
      "      output [7:0] busout_ar_payload_len,\n",
      "      output [2:0] busout_ar_payload_size,\n",
      "      output [1:0] busout_ar_payload_burst,\n",
      "      output [0:0] busout_ar_payload_lock,\n",
      "      output [3:0] busout_ar_payload_cache,\n",
      "      output [3:0] busout_ar_payload_qos,\n",
      "      output [2:0] busout_ar_payload_prot,\n",
      "      input   busout_r_valid,\n",
      "      output  busout_r_ready,\n",
      "      input  [31:0] busout_r_payload_data,\n",
      "      input  [3:0] busout_r_payload_id,\n",
      "      input  [1:0] busout_r_payload_resp,\n",
      "      input   busout_r_payload_last,\n",
      "      input   busin_aw_valid,\n",
      "      output  busin_aw_ready,\n",
      "      input  [15:0] busin_aw_payload_addr,\n",
      "      input  [3:0] busin_aw_payload_id,\n",
      "      input  [3:0] busin_aw_payload_region,\n",
      "      input  [7:0] busin_aw_payload_len,\n",
      "      input  [2:0] busin_aw_payload_size,\n",
      "      input  [1:0] busin_aw_payload_burst,\n",
      "      input  [0:0] busin_aw_payload_lock,\n",
      "      input  [3:0] busin_aw_payload_cache,\n",
      "      input  [3:0] busin_aw_payload_qos,\n",
      "      input  [2:0] busin_aw_payload_prot,\n",
      "      input   busin_w_valid,\n",
      "      output  busin_w_ready,\n",
      "      input  [31:0] busin_w_payload_data,\n",
      "      input  [3:0] busin_w_payload_strb,\n",
      "      input   busin_w_payload_last,\n",
      "      output  busin_b_valid,\n",
      "      input   busin_b_ready,\n",
      "      output [3:0] busin_b_payload_id,\n",
      "      output [1:0] busin_b_payload_resp,\n",
      "      input   busin_ar_valid,\n",
      "      output  busin_ar_ready,\n",
      "      input  [15:0] busin_ar_payload_addr,\n",
      "      input  [3:0] busin_ar_payload_id,\n",
      "      input  [3:0] busin_ar_payload_region,\n",
      "      input  [7:0] busin_ar_payload_len,\n",
      "      input  [2:0] busin_ar_payload_size,\n",
      "      input  [1:0] busin_ar_payload_burst,\n",
      "      input  [0:0] busin_ar_payload_lock,\n",
      "      input  [3:0] busin_ar_payload_cache,\n",
      "      input  [3:0] busin_ar_payload_qos,\n",
      "      input  [2:0] busin_ar_payload_prot,\n",
      "      output  busin_r_valid,\n",
      "      input   busin_r_ready,\n",
      "      output [31:0] busin_r_payload_data,\n",
      "      output [3:0] busin_r_payload_id,\n",
      "      output [1:0] busin_r_payload_resp,\n",
      "      output  busin_r_payload_last);\n",
      "  assign busout_aw_valid = busin_aw_valid;\n",
      "  assign busin_aw_ready = busout_aw_ready;\n",
      "  assign busout_aw_payload_addr = busin_aw_payload_addr;\n",
      "  assign busout_aw_payload_id = busin_aw_payload_id;\n",
      "  assign busout_aw_payload_region = busin_aw_payload_region;\n",
      "  assign busout_aw_payload_len = busin_aw_payload_len;\n",
      "  assign busout_aw_payload_size = busin_aw_payload_size;\n",
      "  assign busout_aw_payload_burst = busin_aw_payload_burst;\n",
      "  assign busout_aw_payload_lock = busin_aw_payload_lock;\n",
      "  assign busout_aw_payload_cache = busin_aw_payload_cache;\n",
      "  assign busout_aw_payload_qos = busin_aw_payload_qos;\n",
      "  assign busout_aw_payload_prot = busin_aw_payload_prot;\n",
      "  assign busout_w_valid = busin_w_valid;\n",
      "  assign busin_w_ready = busout_w_ready;\n",
      "  assign busout_w_payload_data = busin_w_payload_data;\n",
      "  assign busout_w_payload_strb = busin_w_payload_strb;\n",
      "  assign busout_w_payload_last = busin_w_payload_last;\n",
      "  assign busin_b_valid = busout_b_valid;\n",
      "  assign busout_b_ready = busin_b_ready;\n",
      "  assign busin_b_payload_id = busout_b_payload_id;\n",
      "  assign busin_b_payload_resp = busout_b_payload_resp;\n",
      "  assign busout_ar_valid = busin_ar_valid;\n",
      "  assign busin_ar_ready = busout_ar_ready;\n",
      "  assign busout_ar_payload_addr = busin_ar_payload_addr;\n",
      "  assign busout_ar_payload_id = busin_ar_payload_id;\n",
      "  assign busout_ar_payload_region = busin_ar_payload_region;\n",
      "  assign busout_ar_payload_len = busin_ar_payload_len;\n",
      "  assign busout_ar_payload_size = busin_ar_payload_size;\n",
      "  assign busout_ar_payload_burst = busin_ar_payload_burst;\n",
      "  assign busout_ar_payload_lock = busin_ar_payload_lock;\n",
      "  assign busout_ar_payload_cache = busin_ar_payload_cache;\n",
      "  assign busout_ar_payload_qos = busin_ar_payload_qos;\n",
      "  assign busout_ar_payload_prot = busin_ar_payload_prot;\n",
      "  assign busin_r_valid = busout_r_valid;\n",
      "  assign busout_r_ready = busin_r_ready;\n",
      "  assign busin_r_payload_data = busout_r_payload_data;\n",
      "  assign busin_r_payload_id = busout_r_payload_id;\n",
      "  assign busin_r_payload_resp = busout_r_payload_resp;\n",
      "  assign busin_r_payload_last = busout_r_payload_last;\n",
      "endmodule\n",
      "\n",
      "\n"
     ]
    },
    {
     "data": {
      "text/plain": [
       "\u001b[32mimport \u001b[39m\u001b[36mspinal.lib.bus.amba4.axi._\n",
       "\u001b[39m\r\n",
       "defined \u001b[32mclass\u001b[39m \u001b[36mT3\u001b[39m"
      ]
     },
     "execution_count": 13,
     "metadata": {},
     "output_type": "execute_result"
    }
   ],
   "source": [
    "import spinal.lib.bus.amba4.axi._\n",
    "class T3(config: Axi4Config) extends Component{\n",
    "    val busout = master(Axi4(config))\n",
    "    val busin = slave(Axi4(config))\n",
    "    busout <> busin\n",
    "}\n",
    "showRtl(new T3(Axi4Config(16,32,4)))"
   ]
  },
  {
   "cell_type": "code",
   "execution_count": null,
   "metadata": {},
   "outputs": [],
   "source": []
  }
 ],
 "metadata": {
  "kernelspec": {
   "display_name": "Scala",
   "language": "scala",
   "name": "scala"
  },
  "language_info": {
   "codemirror_mode": "text/x-scala",
   "file_extension": ".scala",
   "mimetype": "text/x-scala",
   "name": "scala",
   "nbconvert_exporter": "script",
   "version": "2.12.8"
  },
  "toc": {
   "base_numbering": 1,
   "nav_menu": {},
   "number_sections": true,
   "sideBar": true,
   "skip_h1_title": false,
   "title_cell": "Table of Contents",
   "title_sidebar": "Contents",
   "toc_cell": false,
   "toc_position": {},
   "toc_section_display": true,
   "toc_window_display": false
  }
 },
 "nbformat": 4,
 "nbformat_minor": 2
}
