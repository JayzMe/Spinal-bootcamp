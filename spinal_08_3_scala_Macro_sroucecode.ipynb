{
 "cells": [
  {
   "cell_type": "markdown",
   "metadata": {},
   "source": [
    "<a name=\"top\"></a><img src=\"source/SpinalHDL.png\" alt=\"SpinalHDL based on Scala\" style=\"width:320px;\" />"
   ]
  },
  {
   "cell_type": "markdown",
   "metadata": {},
   "source": [
    "Scala library providing \"source\" metadata to your program, similar to Python's \\__name\\__, C++'s \\__LINE\\__ or Ruby's \\__FILE\\__.FILEFILE\n",
    "```scala\n",
    "def creatField(bc: BitCount, doc: String)(implicit name: sourcecode.Name)\n",
    "```"
   ]
  },
  {
   "cell_type": "code",
   "execution_count": null,
   "metadata": {},
   "outputs": [],
   "source": [
    "import $ivy.`com.lihaoyi::sourcecode:0.1.7`"
   ]
  },
  {
   "cell_type": "markdown",
   "metadata": {},
   "source": [
    "## 举例\n"
   ]
  },
  {
   "cell_type": "code",
   "execution_count": null,
   "metadata": {},
   "outputs": [],
   "source": [
    "val file = sourcecode.File()\n",
    "val line = implicitly[sourcecode.Line]\n",
    "val haha = implicitly[sourcecode.Name]\n",
    "val pkg  = implicitly[sourcecode.Pkg]\n",
    "val fullName  = implicitly[sourcecode.FullName]\n",
    "val enclosing = implicitly[sourcecode.Enclosing]\n",
    "val fn = sourcecode.FullName\n",
    "println(enclosing.value)"
   ]
  },
  {
   "cell_type": "code",
   "execution_count": null,
   "metadata": {},
   "outputs": [],
   "source": [
    "val xxxx = implicitly[sourcecode.Name]\n",
    "println(implicitly[sourcecode.Name])"
   ]
  },
  {
   "cell_type": "code",
   "execution_count": null,
   "metadata": {},
   "outputs": [],
   "source": [
    "val path = System.getProperty(\"user.dir\") + \"/source/load-spinal.sc\"\n",
    "interp.load.module(ammonite.ops.Path(java.nio.file.FileSystems.getDefault().getPath(path)))"
   ]
  },
  {
   "cell_type": "code",
   "execution_count": null,
   "metadata": {},
   "outputs": [],
   "source": [
    "import scala.collection.mutable.ListBuffer\n",
    "\n",
    "class Reg32(addr: Long, doc: String){\n",
    "  val fields = ListBuffer[String]()\n",
    "  def creatField(bc: BitCount, doc: String)(implicit name: sourcecode.Name)={\n",
    "    println(name)\n",
    "    fields += name.value\n",
    "  }\n",
    "}"
   ]
  },
  {
   "cell_type": "code",
   "execution_count": null,
   "metadata": {},
   "outputs": [],
   "source": [
    "class RegBank {\n",
    "  val REG_CLK_RES = new Reg32(addr= 0x0000, doc=\"clock-enable and soft-reset \")\n",
    "  val clk0_cg_en = REG_CLK_RES.creatField(1 bits, doc = \"clk0 cg enable\")\n",
    "  val clk1_cg_en = REG_CLK_RES.creatField(1 bits, doc = \"clk1 cg enable\")\n",
    "  val soft_resn  = REG_CLK_RES.creatField(1 bits, doc = \"soft enable\")\n",
    "    println(REG_CLK_RES.fields)\n",
    "  val REG_DMA_CFG = new Reg32(addr= 0x0004, doc=\"DMA config\")\n",
    "  val dma_wr_timeout = REG_DMA_CFG.creatField(10 bits, doc =\"Dma write timeout cycle\")\n",
    "  val dma_rd_timeout = REG_DMA_CFG.creatField(10 bits, doc =\"Dma read timeout cycle\")\n",
    "    println(REG_DMA_CFG.fields)\n",
    "}\n",
    "val regbank = new RegBank"
   ]
  },
  {
   "cell_type": "code",
   "execution_count": null,
   "metadata": {},
   "outputs": [],
   "source": [
    "class Person{\n",
    "    def hello(name: String, age: Int) {\n",
    "        println(s\"hello ${name}, i'm ${age} years old\")\n",
    "    }\n",
    "\n",
    "}\n",
    "object Person{\n",
    "    def hello(name: String) {\n",
    "        println(s\"hello ${name}, i'm fine\")\n",
    "    }\n",
    "}\n",
    "val a = new Person\n",
    "a.hello(\"jack\",32)\n",
    "val b = Person\n",
    "b.hello(\"jack\")\n",
    "val abcd = 32"
   ]
  },
  {
   "cell_type": "code",
   "execution_count": null,
   "metadata": {},
   "outputs": [],
   "source": [
    "class T1 extends Component{\n",
    "    val a = Reg(Bits(2 bits)) init 0 \n",
    "    val b = Reg(Bits(3 bits)) init 0  \n",
    "    val c = Bits(4 bits).clearAll()\n",
    "    val d = Bits(0 bits).setAll()\n",
    "    val e = Bits(1 bits).setAll()\n",
    "\n",
    "    //val fields = List(a,b,c,d,e)\n",
    "    val fields = List(e,d,c,b,a)\n",
    "    \n",
    "    val x = (e ## d ## c ## b ## a)\n",
    "    //val y = out(fields.foldLeft(Bits(0 bit).setAll())((x,y) => x ## y))\n",
    "    val y = d ## e ## d\n",
    "    //val y = e ## d\n",
    "    //val z = fields.foldRight(Bits(0 bit))((x,y) => x ## y)\n",
    "}\n",
    "showRtl(new T1)"
   ]
  },
  {
   "cell_type": "code",
   "execution_count": null,
   "metadata": {},
   "outputs": [],
   "source": [
    "class T1 extends Component{\n",
    "    val a = Reg(Bits(2 bits)) init 0 \n",
    "    val b = Bits(0 bits).setAll()\n",
    "    //val c = Bits(1 bits).setAll()\n",
    "    val v0bits = Bits(0 bits) \n",
    " \n",
    "    //val o0 = b ## a ## b\n",
    "    //val o1 = Bits(0 bit) ## a \n",
    "    val o2 = v0bits ## a ## b\n",
    "    //val o2 = Bits(0 bit) ## a ## b\n",
    "    \n",
    "}\n",
    "showRtl(new T1)"
   ]
  },
  {
   "cell_type": "code",
   "execution_count": null,
   "metadata": {},
   "outputs": [],
   "source": [
    "class T1 extends Component{\n",
    "    val a       = Reg(Bits(2 bits)) init 0 \n",
    "    val nonBit  = Bits(0 bits)   \n",
    "\n",
    "    val o1 = out(nonBit ## a ## nonBit)    // generator error verilog\n",
    "}\n",
    "showRtl(new T1)"
   ]
  },
  {
   "cell_type": "code",
   "execution_count": null,
   "metadata": {},
   "outputs": [],
   "source": [
    "class T2 extends Component{\n",
    "    val a       = Reg(Bits(2 bits)) init 0 \n",
    "    val nonBit = Bits(0 bits).setAll()\n",
    "\n",
    "    val o2 = a ## Bits(0 bit)                //pass\n",
    "    val o3 = Bits(0 bit) ## a                //pass                        \n",
    "    //val o5 = Bits(0 bit) ## a ## Bits(0 bit) //cause exception\n",
    "}\n",
    "showRtl(new T2)"
   ]
  },
  {
   "cell_type": "code",
   "execution_count": 16,
   "metadata": {},
   "outputs": [
    {
     "name": "stdout",
     "output_type": "stream",
     "text": [
      "[Runtime] SpinalHDL v1.3.6    git head : 10854057c32ae371aabc9a340c367e9bbc159fcd\n",
      "[Runtime] JVM max memory : 3584.0MiB\n",
      "[Runtime] Current date : 2019.10.23 11:51:25\n",
      "[Progress] at 381.911 : Elaborate components\n",
      "[Progress] at 381.919 : Checks and transforms\n",
      "[Warning] UNASSIGNED REGISTER (toplevel/a :  Bits[3 bits]) with init value, please apply the allowUnsetRegToAvoidLatch tag if that's fine\n",
      "[Warning] UNASSIGNED REGISTER (toplevel/b :  Bits[3 bits]) with init value, please apply the allowUnsetRegToAvoidLatch tag if that's fine\n",
      "[Progress] at 381.928 : Generate Verilog\n",
      "[Done] at 381.931\n",
      "// Generator : SpinalHDL v1.3.6    git head : 10854057c32ae371aabc9a340c367e9bbc159fcd\n",
      "// Date      : 23/10/2019, 11:51:25\n",
      "// Component : T1\n",
      "\n",
      "\n",
      "module T1 (\n",
      "      output reg [2:0] c,\n",
      "      input   sel,\n",
      "      input   clk,\n",
      "      input   reset);\n",
      "  wire [2:0] a;\n",
      "  wire [2:0] b;\n",
      "  assign a = (3'b000);\n",
      "  assign b = (3'b000);\n",
      "  always @ (posedge clk or posedge reset) begin\n",
      "    if (reset) begin\n",
      "      c <= (3'b000);\n",
      "    end else begin\n",
      "      if((sel && a[0]))begin\n",
      "        c[0] <= (! c[0]);\n",
      "      end else begin\n",
      "        c[0] <= b[0];\n",
      "      end\n",
      "      if((sel && a[1]))begin\n",
      "        c[1] <= (! c[1]);\n",
      "      end else begin\n",
      "        c[1] <= b[1];\n",
      "      end\n",
      "      if((sel && a[2]))begin\n",
      "        c[2] <= (! c[2]);\n",
      "      end else begin\n",
      "        c[2] <= b[2];\n",
      "      end\n",
      "    end\n",
      "  end\n",
      "\n",
      "endmodule\n",
      "\n",
      "\n"
     ]
    },
    {
     "data": {
      "text/plain": [
       "defined \u001b[32mclass\u001b[39m \u001b[36mT1\u001b[39m"
      ]
     },
     "execution_count": 16,
     "metadata": {},
     "output_type": "execute_result"
    }
   ],
   "source": [
    "class T1 extends Component{\n",
    "    val a = Reg(Bits(3 bits)) init 0 \n",
    "    val b = Reg(Bits(3 bits)) init 0  \n",
    "  val c = out(Reg(Bits(3 bits))) init 0 \n",
    "    val sel = in Bool()\n",
    "    for (x <- 0 to 2){\n",
    "       \n",
    "    when(sel && a(x)){\n",
    "        c(x) := ~c(x)\n",
    "    }.otherwise{\n",
    "        c(x) := b(x) \n",
    "    } \n",
    "    }\n",
    "}\n",
    "showRtl(new T1)"
   ]
  },
  {
   "cell_type": "code",
   "execution_count": null,
   "metadata": {},
   "outputs": [],
   "source": [
    "case class valName(value: String)\n",
    "object Utils{\n",
    "    implicit def generat: valName = \n",
    "}"
   ]
  },
  {
   "cell_type": "code",
   "execution_count": null,
   "metadata": {},
   "outputs": [],
   "source": [
    "sealed trait AccessType\n",
    "\n",
    "object AccessType {\n",
    "  case object RO    extends AccessType  //- W: no effect, R: no effect\n",
    "  case object RW    extends AccessType  //- W: as-is, R: no effect\n",
    "  case object RC    extends AccessType  //- W: no effect, R: clears all bits\n",
    "  case object RS    extends AccessType  //- W: no effect, R: sets all bits\n",
    "  case object WRC   extends AccessType  //- W: as-is, R: clears all bits\n",
    "  case object WRS   extends AccessType  //- W: as-is, R: sets all bits\n",
    "  case object WC    extends AccessType  //- W: clears all bits, R: no effect\n",
    "  case object WS    extends AccessType  //- W: sets all bits, R: no effect\n",
    "  case object WSRC  extends AccessType  //- W: sets all bits, R: clears all bits\n",
    "  case object WCRS  extends AccessType  //- W: clears all bits, R: sets all bits\n",
    "  case object W1C   extends AccessType  //- W: 1/0 clears/no effect on matching bit, R: no effect\n",
    "  case object W1S   extends AccessType  //- W: 1/0 sets/no effect on matching bit, R: no effect\n",
    "  case object W1T   extends AccessType  //- W: 1/0 toggles/no effect on matching bit, R: no effect\n",
    "  case object W0C   extends AccessType  //- W: 1/0 no effect on/clears matching bit, R: no effect\n",
    "  case object W0S   extends AccessType  //- W: 1/0 no effect on/sets matching bit, R: no effect\n",
    "  case object W0T   extends AccessType  //- W: 1/0 no effect on/toggles matching bit, R: no effect\n",
    "  case object W1SRC extends AccessType  //- W: 1/0 sets/no effect on matching bit, R: clears all bits\n",
    "  case object W1CRS extends AccessType  //- W: 1/0 clears/no effect on matching bit, R: sets all bits\n",
    "  case object W0SRC extends AccessType  //- W: 1/0 no effect on/sets matching bit, R: clears all bits\n",
    "  case object W0CRS extends AccessType  //- W: 1/0 no effect on/clears matching bit, R: sets all bits\n",
    "  case object WO    extends AccessType  //- W: as-is, R: error\n",
    "  case object WOC   extends AccessType  //- W: clears all bits, R: error\n",
    "  case object WOS   extends AccessType  //- W: sets all bits, R: error\n",
    "  case object W1    extends AccessType  //- W: first one after ~HARD~ reset is as-is, other W have no effects, R: no effect\n",
    "  case object WO1   extends AccessType  //- W: first one after ~HARD~ reset is as-is, other W have no effects, R: error\n",
    "  case object NA    extends AccessType  // -W: reserved, R: reserved\n",
    "}\n"
   ]
  },
  {
   "cell_type": "code",
   "execution_count": null,
   "metadata": {},
   "outputs": [],
   "source": [
    "s\"${AccessType.RW}\""
   ]
  },
  {
   "cell_type": "code",
   "execution_count": null,
   "metadata": {},
   "outputs": [],
   "source": []
  }
 ],
 "metadata": {
  "kernelspec": {
   "display_name": "Scala",
   "language": "scala",
   "name": "scala"
  },
  "language_info": {
   "codemirror_mode": "text/x-scala",
   "file_extension": ".scala",
   "mimetype": "text/x-scala",
   "name": "scala",
   "nbconvert_exporter": "script",
   "version": "2.12.8"
  }
 },
 "nbformat": 4,
 "nbformat_minor": 2
}
