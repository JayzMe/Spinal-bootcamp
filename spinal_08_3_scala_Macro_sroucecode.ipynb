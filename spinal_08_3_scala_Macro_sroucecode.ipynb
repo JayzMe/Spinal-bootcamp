{
 "cells": [
  {
   "cell_type": "markdown",
   "metadata": {},
   "source": [
    "<a name=\"top\"></a><img src=\"source/SpinalHDL.png\" alt=\"SpinalHDL based on Scala\" style=\"width:320px;\" />"
   ]
  },
  {
   "cell_type": "markdown",
   "metadata": {},
   "source": [
    "Scala library providing \"source\" metadata to your program, similar to Python's \\__name\\__, C++'s \\__LINE\\__ or Ruby's \\__FILE\\__.FILEFILE\n",
    "```scala\n",
    "def creatField(bc: BitCount, doc: String)(implicit name: sourcecode.Name)\n",
    "```"
   ]
  },
  {
   "cell_type": "code",
   "execution_count": 1,
   "metadata": {},
   "outputs": [
    {
     "data": {
      "text/plain": [
       "\u001b[32mimport \u001b[39m\u001b[36m$ivy.$                              \u001b[39m"
      ]
     },
     "execution_count": 1,
     "metadata": {},
     "output_type": "execute_result"
    }
   ],
   "source": [
    "import $ivy.`com.lihaoyi::sourcecode:0.1.7`"
   ]
  },
  {
   "cell_type": "markdown",
   "metadata": {},
   "source": [
    "## 举例\n"
   ]
  },
  {
   "cell_type": "code",
   "execution_count": null,
   "metadata": {},
   "outputs": [],
   "source": [
    "val file = sourcecode.File()\n",
    "val line = implicitly[sourcecode.Line]\n",
    "val haha = implicitly[sourcecode.Name]\n",
    "val pkg  = implicitly[sourcecode.Pkg]\n",
    "val fullName  = implicitly[sourcecode.FullName]\n",
    "val enclosing = implicitly[sourcecode.Enclosing]\n",
    "val fn = sourcecode.FullName\n",
    "println(enclosing.value)"
   ]
  },
  {
   "cell_type": "code",
   "execution_count": null,
   "metadata": {},
   "outputs": [],
   "source": [
    "val xxxx = implicitly[sourcecode.Name]\n",
    "println(implicitly[sourcecode.Name])"
   ]
  },
  {
   "cell_type": "code",
   "execution_count": null,
   "metadata": {},
   "outputs": [],
   "source": [
    "val path = System.getProperty(\"user.dir\") + \"/source/load-spinal.sc\"\n",
    "interp.load.module(ammonite.ops.Path(java.nio.file.FileSystems.getDefault().getPath(path)))"
   ]
  },
  {
   "cell_type": "code",
   "execution_count": null,
   "metadata": {},
   "outputs": [],
   "source": [
    "import scala.collection.mutable.ListBuffer\n",
    "\n",
    "class Reg32(addr: Long, doc: String){\n",
    "  val fields = ListBuffer[String]()\n",
    "  def creatField(bc: BitCount, doc: String)(implicit name: sourcecode.Name)={\n",
    "    println(name)\n",
    "    fields += name.value\n",
    "  }\n",
    "}"
   ]
  },
  {
   "cell_type": "code",
   "execution_count": null,
   "metadata": {},
   "outputs": [],
   "source": [
    "class RegBank {\n",
    "  val REG_CLK_RES = new Reg32(addr= 0x0000, doc=\"clock-enable and soft-reset \")\n",
    "  val clk0_cg_en = REG_CLK_RES.creatField(1 bits, doc = \"clk0 cg enable\")\n",
    "  val clk1_cg_en = REG_CLK_RES.creatField(1 bits, doc = \"clk1 cg enable\")\n",
    "  val soft_resn  = REG_CLK_RES.creatField(1 bits, doc = \"soft enable\")\n",
    "    println(REG_CLK_RES.fields)\n",
    "  val REG_DMA_CFG = new Reg32(addr= 0x0004, doc=\"DMA config\")\n",
    "  val dma_wr_timeout = REG_DMA_CFG.creatField(10 bits, doc =\"Dma write timeout cycle\")\n",
    "  val dma_rd_timeout = REG_DMA_CFG.creatField(10 bits, doc =\"Dma read timeout cycle\")\n",
    "    println(REG_DMA_CFG.fields)\n",
    "}\n",
    "val regbank = new RegBank"
   ]
  },
  {
   "cell_type": "code",
   "execution_count": null,
   "metadata": {},
   "outputs": [],
   "source": [
    "class Person{\n",
    "    def hello(name: String, age: Int) {\n",
    "        println(s\"hello ${name}, i'm ${age} years old\")\n",
    "    }\n",
    "\n",
    "}\n",
    "object Person{\n",
    "    def hello(name: String) {\n",
    "        println(s\"hello ${name}, i'm fine\")\n",
    "    }\n",
    "}\n",
    "val a = new Person\n",
    "a.hello(\"jack\",32)\n",
    "val b = Person\n",
    "b.hello(\"jack\")\n",
    "val abcd = 32"
   ]
  },
  {
   "cell_type": "code",
   "execution_count": 10,
   "metadata": {},
   "outputs": [
    {
     "name": "stderr",
     "output_type": "stream",
     "text": [
      "cmd10.sc:18: could not find implicit value for parameter e: sourcecode.Text[Helper.this.Student]\n",
      "    val t = implicitly[sourcecode.Text[Student]]\n",
      "                      ^Compilation Failed"
     ]
    },
    {
     "ename": "",
     "evalue": "",
     "output_type": "error",
     "traceback": [
      "Compilation Failed"
     ]
    }
   ],
   "source": [
    "\n",
    "case class Student(age: Int)\n",
    "object TT{\n",
    "   \n",
    "def debug(implicit name: sourcecode.Name, args: sourcecode.Args): Unit = {\n",
    "  println(name.value + args.value.map(_.map(a => a.source + \"=\" + a.value).mkString(\"(\", \", \", \")\")).mkString(\"\"))\n",
    "}\n",
    "\n",
    "def foo(bar: String, baz: Int)(p: Boolean): Unit = {\n",
    "  debug\n",
    "}\n",
    "    \n",
    "def comp(bar: String, st: Student*)(p: Boolean): Unit = {\n",
    "  val d = implicitly[sourcecode.Args]\n",
    "    println(d)\n",
    "}\n",
    "    def zee(a1: Student, a2: Student):Unit ={\n",
    "    val d = implicitly[sourcecode.Args]\n",
    "    val t = implicitly[sourcecode.Text[Student]]\n",
    "    println(d)\n",
    "    println(t)\n",
    "    }\n",
    "    \n",
    "}\n",
    "//TT.foo(\"baz\", 42)(true) // foo(bar=baz, baz=42)(p=true)\n",
    "\n",
    "val jack =  Student(13)\n",
    "val lucy =  Student(12)\n",
    "val lili =  Student(11)\n",
    "\n",
    "//TT.comp(\"hh\",jack,lucy,lili,Student(10))(false)\n",
    "TT.zee(jack,lucy)"
   ]
  },
  {
   "cell_type": "code",
   "execution_count": 12,
   "metadata": {},
   "outputs": [
    {
     "ename": "",
     "evalue": "",
     "output_type": "error",
     "traceback": [
      "\u001b[31mjava.lang.AssertionError: assertion failed\u001b[39m\n  scala.Predef$.assert(\u001b[32mPredef.scala\u001b[39m:\u001b[32m208\u001b[39m)\n  ammonite.$sess.cmd11$Helper$Implicits$.implicitRun(\u001b[32mcmd11.sc\u001b[39m:\u001b[32m7\u001b[39m)\n  ammonite.$sess.cmd11$Helper$.<init>(\u001b[32mcmd11.sc\u001b[39m:\u001b[32m52\u001b[39m)\n  ammonite.$sess.cmd11$Helper$.<clinit>(\u001b[32mcmd11.sc\u001b[39m:\u001b[32m-1\u001b[39m)\n  ammonite.$sess.cmd11$.<init>(\u001b[32mcmd11.sc\u001b[39m:\u001b[32m139\u001b[39m)\n  ammonite.$sess.cmd11$.<clinit>(\u001b[32mcmd11.sc\u001b[39m:\u001b[32m-1\u001b[39m)"
     ]
    }
   ],
   "source": [
    "object Implicits {\n",
    "  def implicitRun() = {\n",
    "    val name = implicitly[sourcecode.Name]\n",
    "    assert(name.value == \"name\")\n",
    "\n",
    "    val fullName = implicitly[sourcecode.FullName]\n",
    "    assert(fullName.value == \"sourcecode.Implicits.fullName\")\n",
    "\n",
    "    val enclosing = implicitly[sourcecode.Enclosing]\n",
    "    assert(enclosing.value == \"sourcecode.Implicits.implicitRun enclosing\")\n",
    "\n",
    "    val pkg = implicitly[sourcecode.Pkg]\n",
    "    assert(pkg.value == \"sourcecode\")\n",
    "\n",
    "    val file = implicitly[sourcecode.File]\n",
    "    assert(file.value.endsWith(\"/sourcecode/Implicits.scala\"))\n",
    "\n",
    "    //val fileName = implicitly[sourcecode.FileName]\n",
    "    //assert(fileName.value == \"Implicits.scala\")\n",
    "\n",
    "    val line = implicitly[sourcecode.Line]\n",
    "    assert(line.value == 23)\n",
    "\n",
    "    lazy val myLazy = {\n",
    "      trait Bar{\n",
    "        val name = implicitly[sourcecode.Name]\n",
    "        assert(name.value == \"name\")\n",
    "\n",
    "        val fullName = implicitly[sourcecode.FullName]\n",
    "        assert(fullName.value == \"sourcecode.Implicits.Bar.fullName\")\n",
    "\n",
    "        val file = implicitly[sourcecode.File]\n",
    "        assert(file.value.endsWith(\"/sourcecode/Implicits.scala\"))\n",
    "\n",
    "        //val fileName = implicitly[sourcecode.FileName]\n",
    "        //assert(fileName.value == \"Implicits.scala\")\n",
    "\n",
    "        val line = implicitly[sourcecode.Line]\n",
    "        assert(line.value == 40)\n",
    "\n",
    "        val enclosing = implicitly[sourcecode.Enclosing]\n",
    "        assert(\n",
    "          (enclosing.value == \"sourcecode.Implicits.implicitRun myLazy$lzy Bar#enclosing\") ||\n",
    "          (enclosing.value == \"sourcecode.Implicits.implicitRun myLazy Bar#enclosing\") // encoding changed in Scala 2.12\n",
    "        )\n",
    "      }\n",
    "      val b = new Bar{}\n",
    "    }\n",
    "    myLazy\n",
    "  }\n",
    "}\n",
    "Implicits.implicitRun"
   ]
  },
  {
   "cell_type": "code",
   "execution_count": null,
   "metadata": {},
   "outputs": [],
   "source": [
    "class T1 extends Component{\n",
    "    val a = Reg(Bits(2 bits)) init 0 \n",
    "    val b = Reg(Bits(3 bits)) init 0  \n",
    "    val c = Bits(4 bits).clearAll()\n",
    "    val d = Bits(0 bits).setAll()\n",
    "    val e = Bits(1 bits).setAll()\n",
    "\n",
    "    //val fields = List(a,b,c,d,e)\n",
    "    val fields = List(e,d,c,b,a)\n",
    "    \n",
    "    val x = (e ## d ## c ## b ## a)\n",
    "    //val y = out(fields.foldLeft(Bits(0 bit).setAll())((x,y) => x ## y))\n",
    "    val y = d ## e ## d\n",
    "    //val y = e ## d\n",
    "    //val z = fields.foldRight(Bits(0 bit))((x,y) => x ## y)\n",
    "}\n",
    "showRtl(new T1)"
   ]
  },
  {
   "cell_type": "code",
   "execution_count": 10,
   "metadata": {},
   "outputs": [
    {
     "name": "stdout",
     "output_type": "stream",
     "text": [
      "ammonite.$sess.cmd9#Helper#Foo [arg]: 123\n",
      "ammonite.$sess.cmd9#Helper#Foo#bar [arg -> param]: (123,lol)\n"
     ]
    },
    {
     "data": {
      "text/plain": [
       "defined \u001b[32mfunction\u001b[39m \u001b[36mdebug\u001b[39m\n",
       "defined \u001b[32mclass\u001b[39m \u001b[36mFoo\u001b[39m"
      ]
     },
     "execution_count": 10,
     "metadata": {},
     "output_type": "execute_result"
    }
   ],
   "source": [
    "def debug[V](value: sourcecode.Text[V])(implicit enclosing: sourcecode.Enclosing) = {\n",
    "  println(enclosing.value + \" [\" + value.source + \"]: \" + value.value)\n",
    "}\n",
    "\n",
    "class Foo(arg: Int){\n",
    "  debug(arg) // sourcecode.DebugRun.main Foo [arg]: 123\n",
    "  def bar(param: String) = {\n",
    "    debug(arg -> param)\n",
    "  }\n",
    "}\n",
    "new Foo(123).bar(\"lol\")  // sourcecode.DebugRun.main Foo#bar [arg -> param]: (123,lol)"
   ]
  },
  {
   "cell_type": "code",
   "execution_count": null,
   "metadata": {},
   "outputs": [],
   "source": []
  },
  {
   "cell_type": "code",
   "execution_count": 10,
   "metadata": {},
   "outputs": [
    {
     "name": "stderr",
     "output_type": "stream",
     "text": [
      "cmd10.sc:1: not found: value fastparse\n",
      "import fastparse.all._\n",
      "       ^Compilation Failed"
     ]
    },
    {
     "ename": "",
     "evalue": "",
     "output_type": "error",
     "traceback": [
      "Compilation Failed"
     ]
    }
   ],
   "source": [
    "import fastparse.all._\n",
    "val A = P( \"aa\" )\n",
    "val B = P( \"bb\" )\n",
    "val C = P( (A | B).rep(1) )\n",
    "\n",
    "C.parse(\"aabb\") // Success((), 4)\n",
    "C.parse(\"X\") // Failure((A | B):1:1 ...\"X\")"
   ]
  },
  {
   "cell_type": "code",
   "execution_count": null,
   "metadata": {},
   "outputs": [],
   "source": [
    "class T1 extends Component{\n",
    "    val a       = Reg(Bits(2 bits)) init 0 \n",
    "    val nonBit  = Bits(0 bits)   \n",
    "\n",
    "    val o1 = out(nonBit ## a ## nonBit)    // generator error verilog\n",
    "}\n",
    "showRtl(new T1)"
   ]
  },
  {
   "cell_type": "code",
   "execution_count": null,
   "metadata": {},
   "outputs": [],
   "source": [
    "class T2 extends Component{\n",
    "    val a       = Reg(Bits(2 bits)) init 0 \n",
    "    val nonBit = Bits(0 bits).setAll()\n",
    "\n",
    "    val o2 = a ## Bits(0 bit)                //pass\n",
    "    val o3 = Bits(0 bit) ## a                //pass                        \n",
    "    //val o5 = Bits(0 bit) ## a ## Bits(0 bit) //cause exception\n",
    "}\n",
    "showRtl(new T2)"
   ]
  },
  {
   "cell_type": "code",
   "execution_count": 10,
   "metadata": {},
   "outputs": [
    {
     "name": "stdout",
     "output_type": "stream",
     "text": [
      "Enclosing(ammonite.$sess.cmd9#Helper#xx2)\n",
      "Name(xx3)\n",
      "File(cmd9.sc)\n",
      "Line(12)\n"
     ]
    },
    {
     "data": {
      "text/plain": [
       "defined \u001b[32mclass\u001b[39m \u001b[36mT2\u001b[39m\r\n",
       "\u001b[36ma\u001b[39m: \u001b[32mT2\u001b[39m = ammonite.$sess.cmd9$Helper$T2@48b3ecb4"
      ]
     },
     "execution_count": 10,
     "metadata": {},
     "output_type": "execute_result"
    }
   ],
   "source": [
    "class T2 {\n",
    "    def hello(implicit x: sourcecode.Enclosing) = println(x)\n",
    "    def hello2(implicit x: sourcecode.Name) = println(x)\n",
    "    def hello3(implicit x: sourcecode.File) = println(x)\n",
    "    def hello4(implicit x: sourcecode.Line) = println(x)\n",
    "}\n",
    "val a = new T2\n",
    "val xx2 = a.hello\n",
    "val xx3 = a.hello2\n",
    "val xx4 = a.hello3\n",
    "\n",
    "val xx5 = a.hello4"
   ]
  },
  {
   "cell_type": "code",
   "execution_count": null,
   "metadata": {},
   "outputs": [],
   "source": [
    "case class valName(value: String)\n",
    "object Utils{\n",
    "    implicit def generat: valName = \n",
    "}"
   ]
  },
  {
   "cell_type": "code",
   "execution_count": null,
   "metadata": {},
   "outputs": [],
   "source": [
    "sealed trait AccessType\n",
    "\n",
    "object AccessType {\n",
    "  case object RO    extends AccessType  //- W: no effect, R: no effect\n",
    "  case object RW    extends AccessType  //- W: as-is, R: no effect\n",
    "  case object RC    extends AccessType  //- W: no effect, R: clears all bits\n",
    "  case object RS    extends AccessType  //- W: no effect, R: sets all bits\n",
    "  case object WRC   extends AccessType  //- W: as-is, R: clears all bits\n",
    "  case object WRS   extends AccessType  //- W: as-is, R: sets all bits\n",
    "  case object WC    extends AccessType  //- W: clears all bits, R: no effect\n",
    "  case object WS    extends AccessType  //- W: sets all bits, R: no effect\n",
    "  case object WSRC  extends AccessType  //- W: sets all bits, R: clears all bits\n",
    "  case object WCRS  extends AccessType  //- W: clears all bits, R: sets all bits\n",
    "  case object W1C   extends AccessType  //- W: 1/0 clears/no effect on matching bit, R: no effect\n",
    "  case object W1S   extends AccessType  //- W: 1/0 sets/no effect on matching bit, R: no effect\n",
    "  case object W1T   extends AccessType  //- W: 1/0 toggles/no effect on matching bit, R: no effect\n",
    "  case object W0C   extends AccessType  //- W: 1/0 no effect on/clears matching bit, R: no effect\n",
    "  case object W0S   extends AccessType  //- W: 1/0 no effect on/sets matching bit, R: no effect\n",
    "  case object W0T   extends AccessType  //- W: 1/0 no effect on/toggles matching bit, R: no effect\n",
    "  case object W1SRC extends AccessType  //- W: 1/0 sets/no effect on matching bit, R: clears all bits\n",
    "  case object W1CRS extends AccessType  //- W: 1/0 clears/no effect on matching bit, R: sets all bits\n",
    "  case object W0SRC extends AccessType  //- W: 1/0 no effect on/sets matching bit, R: clears all bits\n",
    "  case object W0CRS extends AccessType  //- W: 1/0 no effect on/clears matching bit, R: sets all bits\n",
    "  case object WO    extends AccessType  //- W: as-is, R: error\n",
    "  case object WOC   extends AccessType  //- W: clears all bits, R: error\n",
    "  case object WOS   extends AccessType  //- W: sets all bits, R: error\n",
    "  case object W1    extends AccessType  //- W: first one after ~HARD~ reset is as-is, other W have no effects, R: no effect\n",
    "  case object WO1   extends AccessType  //- W: first one after ~HARD~ reset is as-is, other W have no effects, R: error\n",
    "  case object NA    extends AccessType  // -W: reserved, R: reserved\n",
    "}\n"
   ]
  },
  {
   "cell_type": "code",
   "execution_count": null,
   "metadata": {},
   "outputs": [],
   "source": [
    "s\"${AccessType.RW}\""
   ]
  },
  {
   "cell_type": "code",
   "execution_count": null,
   "metadata": {},
   "outputs": [],
   "source": []
  }
 ],
 "metadata": {
  "kernelspec": {
   "display_name": "Scala",
   "language": "scala",
   "name": "scala"
  },
  "language_info": {
   "codemirror_mode": "text/x-scala",
   "file_extension": ".scala",
   "mimetype": "text/x-scala",
   "name": "scala",
   "nbconvert_exporter": "script",
   "version": "2.12.8"
  },
  "toc": {
   "base_numbering": 1,
   "nav_menu": {},
   "number_sections": true,
   "sideBar": true,
   "skip_h1_title": false,
   "title_cell": "Table of Contents",
   "title_sidebar": "Contents",
   "toc_cell": false,
   "toc_position": {},
   "toc_section_display": true,
   "toc_window_display": false
  }
 },
 "nbformat": 4,
 "nbformat_minor": 2
}
