{
 "cells": [
  {
   "cell_type": "markdown",
   "metadata": {},
   "source": [
    "<a name=\"top\"></a><img src=\"source/SpinalHDL.png\" alt=\"SpinalHDL based on Scala\" style=\"width:320px;\" />"
   ]
  },
  {
   "cell_type": "markdown",
   "metadata": {},
   "source": [
    "运行SpinalHDL代码之前，务必加载SpinalHDL的库 \n",
    "（**注**：*第一次运行时需要下载库，可能会有点慢，请耐心等待*）"
   ]
  },
  {
   "cell_type": "code",
   "execution_count": null,
   "metadata": {},
   "outputs": [],
   "source": [
    "val path = System.getProperty(\"user.dir\") + \"/source/load-spinal.sc\"\n",
    "interp.load.module(ammonite.ops.Path(java.nio.file.FileSystems.getDefault().getPath(path)))"
   ]
  },
  {
   "cell_type": "markdown",
   "metadata": {},
   "source": [
    "## Hierarchy"
   ]
  },
  {
   "cell_type": "code",
   "execution_count": null,
   "metadata": {},
   "outputs": [],
   "source": [
    "class Sub extends Component{\n",
    "  val a = in UInt(8 bits)\n",
    "  val b = out UInt()    \n",
    "  b :=  a\n",
    "}"
   ]
  },
  {
   "cell_type": "code",
   "execution_count": null,
   "metadata": {},
   "outputs": [],
   "source": [
    "class Top extends Component{\n",
    "  val a = in UInt(8 bits)\n",
    "  val b = out UInt(8 bits) \n",
    "    \n",
    "  val u_sub = new Sub  //Compile Failed \n",
    "  //val u_sub = clockDomain(new Sub) // work well\n",
    "  u_sub.a := a\n",
    "  b := u_sub.b\n",
    "}\n",
    "showRtl(new Top) "
   ]
  },
  {
   "cell_type": "code",
   "execution_count": null,
   "metadata": {},
   "outputs": [],
   "source": [
    "object Cxx{\n",
    "def chain(a: Int, b: Int): Int={ \n",
    "    println(s\"$a->$b\")\n",
    "    a\n",
    "  }\n",
    "}\n",
    "//val a = chain(1,2)\n",
    "val d = (1 to 7).reduceRight(chain)\n",
    "//val c = (1 to 7).reduce(lianjie)//(a,b) => lianjie(a,b)"
   ]
  },
  {
   "cell_type": "code",
   "execution_count": null,
   "metadata": {},
   "outputs": [],
   "source": [
    "class Top extends Component{\n",
    "  val i = in UInt(16 bits)\n",
    "  val sel = in UInt(3 bits)\n",
    "  val o = out UInt(10 bits)\n",
    "    \n",
    "  o:= sel.mux(\n",
    "  0-> i(0 until o.getWidth),\n",
    "  1-> i(1 until o.getWidth + 1),\n",
    "  2-> i(2 until o.getWidth + 2),      \n",
    "  3-> i(3 until o.getWidth + 3),\n",
    "  default -> i(0 until o.getWidth)\n",
    "  )\n",
    "  val tmp = new Array[Tuple2[Int,UInt]](4)\n",
    "    for ( i <-0 until 10){\n",
    "        \n",
    "    }\n",
    "}\n",
    "showRtl(new Top)"
   ]
  },
  {
   "cell_type": "code",
   "execution_count": null,
   "metadata": {},
   "outputs": [],
   "source": [
    "class Bmi(aw: Int, dw: Int) extends Bundle with IMasterSlave {\n",
    "  val rd = Bool()\n",
    "  val raddr = UInt(aw bits)\n",
    "  val rdata = UInt(dw bits)\n",
    "  val wr = Bool()\n",
    "  val waddr = UInt(aw bits)\n",
    "  val wdata = UInt(dw bits)\n",
    "\n",
    "  def cs() = wr || rd\n",
    "  def addr() = Mux(wr,waddr,raddr)\n",
    "\n",
    "  override def asMaster(): Unit = {\n",
    "    in(rdata)\n",
    "    out(rd,raddr,wr,waddr,wdata)\n",
    "  }\n",
    "\n",
    "  def allocate(baseAddr: BigInt, size: BigInt): Bmi = {\n",
    "    require((baseAddr+size)<=(1<<(aw-1)))\n",
    "    val ret = new Bmi(log2Up(size),dw)\n",
    "    val sel = (this.addr < baseAddr + size) && (this.addr >= baseAddr)\n",
    "    ret.rd := this.rd && sel\n",
    "    ret.raddr := this.raddr(0 until log2Up(size))\n",
    "    when(sel){this.rdata := ret.rdata}.otherwise(this.rdata := 0)\n",
    "    ret.wr := this.wr && sel\n",
    "    ret.waddr := this.waddr(0 until log2Up(size))\n",
    "    ret.wdata := this.wdata\n",
    "    ret\n",
    "  }\n",
    " }"
   ]
  },
  {
   "cell_type": "code",
   "execution_count": null,
   "metadata": {},
   "outputs": [],
   "source": [
    "class Top extends Component{\n",
    " val a = slave(new Bmi(8,8))\n",
    " val b = master(a.allocate(0,64))\n",
    " val c = master(a.allocate(64,64))\n",
    "}\n",
    "showRtl(new Top)"
   ]
  },
  {
   "cell_type": "code",
   "execution_count": null,
   "metadata": {},
   "outputs": [],
   "source": [
    "1 to 8\n",
    "1 until 8 \n",
    "8 downto 1\n",
    "val a = (2,3)\n",
    "a._1"
   ]
  },
  {
   "cell_type": "code",
   "execution_count": null,
   "metadata": {},
   "outputs": [],
   "source": [
    "import spinal.core._\n",
    "import spinal.lib._\n",
    "import spinal.lib.bus.misc.SizeMapping   \n",
    "val  slaves = List(\n",
    " 1 -> (0x00000000, 1 kB),\n",
    " 2 -> (0x10000000, 1 kB),\n",
    " 3 -> (0x20000000, 1 kB)\n",
    ")\n",
    "slaves.map(_._2)"
   ]
  },
  {
   "cell_type": "code",
   "execution_count": null,
   "metadata": {},
   "outputs": [],
   "source": [
    "Range(2,9).foldLeft(1)((a,b)=>{println(s\"$a-->$b\");b})"
   ]
  },
  {
   "cell_type": "code",
   "execution_count": null,
   "metadata": {},
   "outputs": [],
   "source": [
    "class Top extends Component{\n",
    "  val a = in UInt(8 bits)\n",
    "  val b = out UInt(8 bits) \n",
    "  val c = out UInt(8 bits) \n",
    "    \n",
    "  def pass(x: UInt, n : Int) = {\n",
    "      val ret = UInt(n bits)\n",
    "          ret := x \n",
    "      ret \n",
    "  }\n",
    "    \n",
    "  def pass2(x: UInt) = {\n",
    "      class Fix(n: Int) extends Component {\n",
    "          val a = in UInt()\n",
    "          val b = out  UInt() \n",
    "          b := pass(in(a), n)\n",
    "      }\n",
    "      val res = new Fix(x.getWidth)\n",
    "      res.a := x\n",
    "      res.b\n",
    "  }\n",
    "    b :=pass2(a)\n",
    "    c := pass2(a)\n",
    "}\n",
    "showRtl(new Top) "
   ]
  },
  {
   "cell_type": "code",
   "execution_count": null,
   "metadata": {},
   "outputs": [],
   "source": [
    "class Fix(n: Int) extends Component {\n",
    "    def pass(x: UInt, n : Int) = {\n",
    "      val ret = UInt(n bits)\n",
    "          ret := x \n",
    "      ret \n",
    "     }\n",
    "    val a = in UInt()\n",
    "    val b = out  UInt() \n",
    "    b := pass(in(a), n)\n",
    " }\n",
    "      \n",
    "class Top extends Component{\n",
    "  val a = in UInt(8 bits)\n",
    "  val b = out UInt(8 bits) \n",
    "  val c = out UInt(8 bits) \n",
    " \n",
    "  def pass2(x: UInt) = {\n",
    "    val res = new Fix(x.getWidth)\n",
    "      res.a := x\n",
    "      res.b\n",
    "    }\n",
    "    b := pass2(a)\n",
    "   val d = pass2(a)\n",
    "    c := d\n",
    "}\n",
    "\n",
    "showRtl(new Top) "
   ]
  },
  {
   "cell_type": "code",
   "execution_count": null,
   "metadata": {},
   "outputs": [],
   "source": [
    "implicit class BinaryString(sc: StringContext ) {\n",
    "    def b(args: Any*) = getString(sc)\n",
    "    \n",
    "    private def getString(args: Any*): String = {\n",
    "      val pi   = sc.parts.iterator\n",
    "      val ai   = args.iterator\n",
    "      val bldr = new StringBuilder(pi.next().toString)\n",
    "\n",
    "      while (ai.hasNext) {\n",
    "        if (ai.hasNext && !ai.next.isInstanceOf[List[_]]) bldr append ai.next\n",
    "        if (pi.hasNext && !pi.next.isInstanceOf[List[_]]) bldr append pi.next\n",
    "      }\n",
    "      bldr.result.replace(\"_\", \"\")\n",
    "    }\n",
    "}\n",
    "\n",
    "b\"10001\""
   ]
  },
  {
   "cell_type": "code",
   "execution_count": null,
   "metadata": {},
   "outputs": [],
   "source": [
    "\"10001\".toInt(2)"
   ]
  },
  {
   "cell_type": "code",
   "execution_count": null,
   "metadata": {},
   "outputs": [],
   "source": []
  }
 ],
 "metadata": {
  "kernelspec": {
   "display_name": "Scala",
   "language": "scala",
   "name": "scala"
  },
  "language_info": {
   "codemirror_mode": "text/x-scala",
   "file_extension": ".scala",
   "mimetype": "text/x-scala",
   "name": "scala",
   "nbconvert_exporter": "script",
   "version": "2.12.8"
  },
  "toc": {
   "base_numbering": 1,
   "nav_menu": {},
   "number_sections": true,
   "sideBar": true,
   "skip_h1_title": false,
   "title_cell": "Table of Contents",
   "title_sidebar": "Contents",
   "toc_cell": false,
   "toc_position": {},
   "toc_section_display": true,
   "toc_window_display": false
  }
 },
 "nbformat": 4,
 "nbformat_minor": 2
}
