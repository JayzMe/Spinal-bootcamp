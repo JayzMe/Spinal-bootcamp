{
 "cells": [
  {
   "cell_type": "markdown",
   "metadata": {},
   "source": [
    "<a name=\"top\"></a><img src=\"imgs/SpinalHDL.png\" alt=\"SpinalHDL based on Scala\" style=\"width:320px;\" />"
   ]
  },
  {
   "cell_type": "markdown",
   "metadata": {},
   "source": [
    "运行SpinalHDL代码之前，务必加载SpinalHDL的库 \n",
    "（**注**：*第一次运行时需要下载库，可能会有点慢，请耐心等待*）"
   ]
  },
  {
   "cell_type": "code",
   "execution_count": null,
   "metadata": {},
   "outputs": [],
   "source": [
    "val path = System.getProperty(\"user.dir\") + \"/source/load-spinal.sc\"\n",
    "interp.load.module(ammonite.ops.Path(java.nio.file.FileSystems.getDefault().getPath(path)))"
   ]
  },
  {
   "cell_type": "code",
   "execution_count": null,
   "metadata": {},
   "outputs": [],
   "source": [
    "case class RGB(channelWidth: Int) extends Bundle{\n",
    "  val red   = UInt(channelWidth bit)\n",
    "  val green = UInt(channelWidth bit)\n",
    "  val blue  = UInt(channelWidth bit)\n",
    "  def isBlack : Bool = red === 0 && green === 0 && blue === 0\n",
    "} \n",
    "\n",
    "class MyRGB extends Component{\n",
    "  val source = slave  Stream(RGB(8))\n",
    "  val sink   = master Stream(RGB(8))\n",
    "  sink <-< source.s2mPipe\n",
    "} \n",
    "\n",
    "showRtl(new MyRGB)class T3 extends Component{\n",
    " val a = in(UInt(8 bits))\n",
    " val b = out(UInt(8 bits))\n",
    " b := a + 133\n",
    "}"
   ]
  },
  {
   "cell_type": "code",
   "execution_count": null,
   "metadata": {},
   "outputs": [],
   "source": [
    "object MySpinalConfig extends SpinalConfig(defaultConfigForClockDomains = ClockDomainConfig(resetKind = SYNC))\n",
    "\n",
    "class Myflow1 extends Component{\n",
    "    val source = slave  Flow(RGB(8))\n",
    "    val sink   = master Flow(RGB(8))\n",
    "    sink <-< source \n",
    "}\n",
    "\n",
    "showVerilog(new Myflow1, \"Myflow1\")"
   ]
  },
  {
   "cell_type": "code",
   "execution_count": null,
   "metadata": {},
   "outputs": [],
   "source": []
  }
 ],
 "metadata": {
  "kernelspec": {
   "display_name": "Scala",
   "language": "scala",
   "name": "scala"
  },
  "language_info": {
   "codemirror_mode": "text/x-scala",
   "file_extension": ".scala",
   "mimetype": "text/x-scala",
   "name": "scala211",
   "nbconvert_exporter": "script",
   "pygments_lexer": "scala",
   "version": "2.11.11"
  }
 },
 "nbformat": 4,
 "nbformat_minor": 2
}
