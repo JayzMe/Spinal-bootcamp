{
 "cells": [
  {
   "cell_type": "markdown",
   "metadata": {},
   "source": [
    "<a name=\"top\"></a><img src=\"source/SpinalHDL.png\" alt=\"SpinalHDL based on Scala\" style=\"width:320px;\" />"
   ]
  },
  {
   "cell_type": "markdown",
   "metadata": {},
   "source": [
    "运行SpinalHDL代码之前，务必加载SpinalHDL的库 \n",
    "（**注**：*第一次运行时需要下载库，可能会有点慢，请耐心等待*）"
   ]
  },
  {
   "cell_type": "code",
   "execution_count": 1,
   "metadata": {},
   "outputs": [
    {
     "data": {
      "text/plain": [
       "\u001b[36mpath\u001b[39m: \u001b[32mString\u001b[39m = \u001b[32m\"E:\\\\nutstore\\\\2019bf\\\\github\\\\Spinal-bootcamp/source/load-spinal.sc\"\u001b[39m"
      ]
     },
     "execution_count": 1,
     "metadata": {},
     "output_type": "execute_result"
    }
   ],
   "source": [
    "val path = System.getProperty(\"user.dir\") + \"/source/load-spinal.sc\"\n",
    "interp.load.module(ammonite.ops.Path(java.nio.file.FileSystems.getDefault().getPath(path)))"
   ]
  },
  {
   "cell_type": "markdown",
   "metadata": {},
   "source": [
    "## Chapter\n",
    "函数创建数字电路包括接口"
   ]
  },
  {
   "cell_type": "code",
   "execution_count": 13,
   "metadata": {},
   "outputs": [
    {
     "name": "stdout",
     "output_type": "stream",
     "text": [
      "[Runtime] SpinalHDL v1.3.6    git head : 10854057c32ae371aabc9a340c367e9bbc159fcd\n",
      "[Runtime] JVM max memory : 3584.0MiB\n",
      "[Runtime] Current date : 2019.08.28 11:49:23\n",
      "[Progress] at 1597.639 : Elaborate components\n",
      "[Progress] at 1597.648 : Checks and transforms\n",
      "[Progress] at 1597.653 : Generate Verilog\n",
      "[Warning] 12 signals were pruned. You can call printPruned on the backend report to get more informations.\n",
      "[Done] at 1597.656\n",
      "// Generator : SpinalHDL v1.3.6    git head : 10854057c32ae371aabc9a340c367e9bbc159fcd\n",
      "// Date      : 28/08/2019, 11:49:23\n",
      "// Component : Top\n",
      "\n",
      "\n",
      "module Top (\n",
      "      input   c_a,\n",
      "      input  [7:0] c_b,\n",
      "      input   d_a,\n",
      "      input  [7:0] d_b,\n",
      "      input   f_a,\n",
      "      input  [7:0] f_b,\n",
      "      input   clk,\n",
      "      input   reset);\n",
      "  reg  c_c;\n",
      "  reg  d_c;\n",
      "  reg  f_c;\n",
      "  reg [7:0] g;\n",
      "  always @ (posedge clk or posedge reset) begin\n",
      "    if (reset) begin\n",
      "      c_c <= 1'b0;\n",
      "      d_c <= 1'b0;\n",
      "      f_c <= 1'b0;\n",
      "    end else begin\n",
      "      c_c <= c_a;\n",
      "      d_c <= d_a;\n",
      "      f_c <= f_a;\n",
      "    end\n",
      "  end\n",
      "\n",
      "  always @ (posedge clk) begin\n",
      "    g <= f_b;\n",
      "  end\n",
      "\n",
      "endmodule\n",
      "\n",
      "\n"
     ]
    },
    {
     "data": {
      "text/plain": [
       "defined \u001b[32mclass\u001b[39m \u001b[36mTop\u001b[39m"
      ]
     },
     "execution_count": 13,
     "metadata": {},
     "output_type": "execute_result"
    }
   ],
   "source": [
    "class Top extends Component{\n",
    "    def creatPort(w: Int) = {\n",
    "        val tmp = new Area{\n",
    "          val a = in Bool()\n",
    "          val b = in UInt(w bits)\n",
    "          val c = RegNext(a) init False\n",
    "        }\n",
    "        tmp\n",
    "    }\n",
    "    val c,d = creatPort(8)\n",
    "    val f = creatPort(8)\n",
    "    val g = RegNext(f.b)\n",
    "}\n",
    "showRtl(new Top)"
   ]
  },
  {
   "cell_type": "code",
   "execution_count": 11,
   "metadata": {},
   "outputs": [
    {
     "name": "stdout",
     "output_type": "stream",
     "text": [
      "[Runtime] SpinalHDL v1.3.6    git head : 10854057c32ae371aabc9a340c367e9bbc159fcd\n",
      "[Runtime] JVM max memory : 3584.0MiB\n",
      "[Runtime] Current date : 2019.08.28 11:47:15\n",
      "[Progress] at 1468.879 : Elaborate components\n",
      "[Progress] at 1468.885 : Checks and transforms\n",
      "[Progress] at 1468.892 : Generate Verilog\n",
      "[Warning] 21 signals were pruned. You can call printPruned on the backend report to get more informations.\n",
      "[Done] at 1468.898\n",
      "// Generator : SpinalHDL v1.3.6    git head : 10854057c32ae371aabc9a340c367e9bbc159fcd\n",
      "// Date      : 28/08/2019, 11:47:15\n",
      "// Component : Top\n",
      "\n",
      "\n",
      "module Top (\n",
      "      input  [7:0] bus_ahb_HADDR,\n",
      "      input   bus_ahb_HSEL,\n",
      "      input   bus_ahb_HREADY,\n",
      "      input   bus_ahb_HWRITE,\n",
      "      input  [2:0] bus_ahb_HSIZE,\n",
      "      input  [2:0] bus_ahb_HBURST,\n",
      "      input  [3:0] bus_ahb_HPROT,\n",
      "      input  [1:0] bus_ahb_HTRANS,\n",
      "      input   bus_ahb_HMASTLOCK,\n",
      "      input  [31:0] bus_ahb_HWDATA,\n",
      "      output [31:0] bus_ahb_HRDATA,\n",
      "      output  bus_ahb_HREADYOUT,\n",
      "      output  bus_ahb_HRESP,\n",
      "      input   clk,\n",
      "      input   reset);\n",
      "  wire [31:0] regs_0;\n",
      "  wire [31:0] regs_1;\n",
      "  wire [31:0] regs_2;\n",
      "  wire [31:0] regs_3;\n",
      "  wire [31:0] regs_4;\n",
      "  wire [31:0] regs_5;\n",
      "  wire [31:0] regs_6;\n",
      "  wire [31:0] regs_7;\n",
      "  reg [7:0] bus_ahb_HADDR_regNextWhen;\n",
      "  assign regs_0 = (32'b00000000000000000000000000000000);\n",
      "  assign regs_1 = (32'b00000000000000000000000000000000);\n",
      "  assign regs_2 = (32'b00000000000000000000000000000000);\n",
      "  assign regs_3 = (32'b00000000000000000000000000000000);\n",
      "  assign regs_4 = (32'b00000000000000000000000000000000);\n",
      "  assign regs_5 = (32'b00000000000000000000000000000000);\n",
      "  assign regs_6 = (32'b00000000000000000000000000000000);\n",
      "  assign regs_7 = (32'b00000000000000000000000000000000);\n",
      "  assign bus_ahb_HREADYOUT = 1'b1;\n",
      "  assign bus_ahb_HRESP = 1'b0;\n",
      "  assign bus_ahb_HRDATA = (32'b00000000000000000000000000000000);\n",
      "  always @ (posedge clk) begin\n",
      "    if((((bus_ahb_HSEL && (bus_ahb_HTRANS == (2'b10))) && (! bus_ahb_HWRITE)) || ((bus_ahb_HSEL && (bus_ahb_HTRANS == (2'b10))) && bus_ahb_HWRITE)))begin\n",
      "      bus_ahb_HADDR_regNextWhen <= bus_ahb_HADDR;\n",
      "    end\n",
      "  end\n",
      "\n",
      "endmodule\n",
      "\n",
      "\n"
     ]
    },
    {
     "data": {
      "text/plain": [
       "\u001b[32mimport \u001b[39m\u001b[36mspinal.lib.bus.amba3.ahblite._\n",
       "\u001b[39m\r\n",
       "\u001b[32mimport \u001b[39m\u001b[36mspinal.lib.bus.amba3.apb._\n",
       "\u001b[39m\r\n",
       "\u001b[32mimport \u001b[39m\u001b[36mspinal.lib.bus.misc._\n",
       "\n",
       "\u001b[39m\r\n",
       "defined \u001b[32mclass\u001b[39m \u001b[36mTop\u001b[39m"
      ]
     },
     "execution_count": 11,
     "metadata": {},
     "output_type": "execute_result"
    }
   ],
   "source": [
    "import spinal.lib.bus.amba3.ahblite._\n",
    "import spinal.lib.bus.amba3.apb._\n",
    "import spinal.lib.bus.misc._\n",
    "\n",
    "class Top(bust: Any) extends Component{\n",
    "    def creatPort(): Area = {\n",
    "      val area :Area = bust match {\n",
    "          case x: AhbLite3Config => new Area{\n",
    "              val ahb = slave(AhbLite3(x))\n",
    "              val slv = new AhbLite3SlaveFactory(ahb)\n",
    "          }\n",
    "          case x: Apb3Config => new Area{\n",
    "              val apb = slave(Apb3(x))\n",
    "              val slv = Apb3SlaveFactory(apb,1) \n",
    "          }\n",
    "          case _ => new Area{\n",
    "              val apb = in Bool()\n",
    "              val slv = in Bool()\n",
    "          }\n",
    "      }\n",
    "      area\n",
    "    }\n",
    "    val bus = creatPort()\n",
    "    val regs = Vec(Reg(UInt(32 bits)) init 0 ,8)\n",
    "    bus.a\n",
    "    //bus.slv.write(regs(0),0)\n",
    "    //(0 until 8).map(i=>bus.slv.readAndWrite(regs(i),address= i * 4 ))\n",
    "}\n",
    "//showRtl(new Top(Apb3Config(8,32,2)))\n",
    "showRtl(new Top(AhbLite3Config(8,32)))"
   ]
  },
  {
   "cell_type": "code",
   "execution_count": null,
   "metadata": {},
   "outputs": [],
   "source": []
  }
 ],
 "metadata": {
  "kernelspec": {
   "display_name": "Scala",
   "language": "scala",
   "name": "scala"
  },
  "language_info": {
   "codemirror_mode": "text/x-scala",
   "file_extension": ".scala",
   "mimetype": "text/x-scala",
   "name": "scala",
   "nbconvert_exporter": "script",
   "version": "2.12.8"
  }
 },
 "nbformat": 4,
 "nbformat_minor": 2
}
