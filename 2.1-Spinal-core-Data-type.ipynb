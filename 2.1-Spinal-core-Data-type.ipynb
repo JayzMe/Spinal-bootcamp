{
 "cells": [
  {
   "cell_type": "markdown",
   "metadata": {},
   "source": [
    "<a name=\"top\"></a><img src=\"source/SpinalHDL.png\" alt=\"SpinalHDL based on Scala\" style=\"width:320px;\" />"
   ]
  },
  {
   "cell_type": "markdown",
   "metadata": {},
   "source": [
    "  Before running Spinal HDL code, be sure to load SpinalHDL Libraries  \n",
    "**Note** : This may be a little slow when the first time load, please wait a moment to download Lib from remote.)"
   ]
  },
  {
   "cell_type": "code",
   "execution_count": null,
   "metadata": {},
   "outputs": [],
   "source": [
    "val path = System.getProperty(\"user.dir\") + \"/source/load-spinal.sc\"\n",
    "interp.load.module(ammonite.ops.Path(java.nio.file.FileSystems.getDefault().getPath(path)))"
   ]
  },
  {
   "cell_type": "markdown",
   "metadata": {},
   "source": [
    "## Rules\n",
    "\n",
    "- **never enforce IO Bundle**\n",
    " ```scala\n",
    " class Top extends Component{\n",
    "   val a = in UInts(8 bits)\n",
    "   val IO = new Bundle{        //IO bundle is not necessary\n",
    "     val b = in UInts(8 bits) \n",
    "   }\n",
    " }\n",
    " ```\n",
    "- **never enforce instantiation by Module**\n",
    " ```scala \n",
    "  class Top extends Component{\n",
    "     val cpu = new MyCpu(mycpuconfig) //no need Module(new Mycpu(...))\n",
    "  }\n",
    " ```\n",
    "- **nerver remove unused signals**\n",
    "\n",
    "  SpinalHDL left theme to EDA tools, somethimes a named unused signals is convinent for wave debug.  \n",
    "  It will not cause additional problems, EDA tools will optimize it.\n",
    " ```scala \n",
    "  class Top extends Component{\n",
    "     val unused1 = Bits(8 bits)\n",
    "     val unused2 = unsued1\n",
    "  }\n",
    "  ```\n",
    "  but output signal without driving will not allow ,this will cause exception\n",
    "  ```scala \n",
    "  class Top extends Component{\n",
    "     val unassigned = out Bits(8 bits) //not allow, cuase exception\n",
    "  }\n",
    "  ```\n",
    "  \n"
   ]
  },
  {
   "cell_type": "markdown",
   "metadata": {},
   "source": [
    "SpinalHDL will never make any form restrictions， **SpinalHDL emphasize same in essence, not in form**  \n",
    "io signal allow appear anywhere under the scope of component.\n",
    "\n",
    "**So, Why Not:**"
   ]
  },
  {
   "cell_type": "code",
   "execution_count": null,
   "metadata": {},
   "outputs": [],
   "source": [
    "class WhyNot extends Component{\n",
    "   val ram = Mem(Bits(4 bit),16)\n",
    "   out(ram.readWriteSync(in UInt(4 bit),in Bits(4 bit),in Bool,in Bool))\n",
    "   out(ram.readWriteSync(in UInt(4 bit),in Bits(4 bit),in Bool,in Bool))\n",
    "}\n",
    "showRtl(new WhyNot)"
   ]
  },
  {
   "cell_type": "markdown",
   "metadata": {},
   "source": [
    "## Bool\n",
    "Description\n",
    "The Bool type corresponds to a boolean value (True or False).\n",
    "\n",
    "Declaration\n"
   ]
  },
  {
   "cell_type": "code",
   "execution_count": null,
   "metadata": {},
   "outputs": [],
   "source": [
    "class Top extends Component{\n",
    "  val myBool_1 = Bool          // Create a Bool\n",
    "  myBool_1    := False         // := is the assignment operator\n",
    "\n",
    "  val myBool_2 = False         // Equivalent to the code above\n",
    "\n",
    "  val myBool_3 = Bool(5 < 12)  // Use a Scala Boolean to create a Bool\n",
    "  val myBool_4 = Bool(\"Spinal\" == \"Scala\")  // Use a Scala Boolean to create a Bool\n",
    "}\n",
    "showRtl(new Top)"
   ]
  },
  {
   "attachments": {
    "image.png": {
     "image/png": "[encoded data removed]"
    }
   },
   "cell_type": "markdown",
   "metadata": {},
   "source": [
    "creat Rise-edge or Fall-edge from level-signal\n",
    "![image.png](attachment:image.png)"
   ]
  },
  {
   "cell_type": "code",
   "execution_count": null,
   "metadata": {},
   "outputs": [],
   "source": [
    "class Top extends Component{\n",
    "  val x = Bool          \n",
    "  val pulse1 = x.fall()  \n",
    "  val pulse2 = x.rise()\n",
    "  val pulse3 = x.edge()\n",
    "}\n",
    "showRtl(new Top)"
   ]
  },
  {
   "cell_type": "markdown",
   "metadata": {},
   "source": [
    "More method of Bool (see [Bool](https://spinalhdl.github.io/SpinalDoc-RTD/SpinalHDL/Data%20types/bool.html))\n",
    "\n",
    "  \n",
    "   Operator              | Description                                                   |Return type\n",
    "  -|-|-\n",
    "  x.edge\\[()\\]          | Return True when x changes state                              |Bool\n",
    "  x.edge(initAt: Bool)  | Same as x.edge but with a reset value                         |Bool\n",
    "  x.rise\\[()\\]          | Return True when x was low at the last cycle and is now high  |Bool\n",
    "  x.rise(initAt: Bool)  | Same as x.rise but with a reset value                         |Bool\n",
    "  x.fall\\[()\\]          | Return True when x was high at the last cycle and is now low  |Bool\n",
    "  x.fall(initAt: Bool)  | Same as x.fall but with a reset value                         |Bool\n",
    "  x.edges\\[()\\]         | Return a bundle (rise, fall, toggle)                          |BoolEdges\n",
    "  x.edges(initAt: Bool) | Same as x.edges but with a reset value                        |BoolEdges\n",
    "  x.asBits              | Binary cast to Bits                                           |Bits(w(x) bits)\n",
    "  x.asUInt              | Binary cast to UInt                                           |UInt(w(x) bits)\n",
    "  x.asSInt              | Binary cast to SInt                                           |SInt(w(x) bits)\n",
    "  x.asUInt(bitCount)    | Binary cast to UInt and resize                                |UInt(bitCount bits)\n",
    "  x.asBits(bitCount)    | Binary cast to Bits and resize                                |Bits(bitCount bits)         \n",
    "  x ## y | Concatenate, x->high, y->low | Bits(w(x) + w(y) bits)\n",
    "  !x                 |Logical NOT                |Bool\n",
    "  x && y <br> x&y   |Logical AND                |Bool\n",
    "  x \\|\\|y <br> x\\|y     |Logical OR                 |Bool\n",
    "  x \\^ y             |Logical XOR                |Bool\n",
    "  x.set\\[()\\]        |Set x to True              |\n",
    "  x.clear\\[()\\]      |Set x to False             |\n",
    "  x.setWhen(cond)    |Set x when cond is True    |Bool\n",
    "  x.clearWhen(cond)  |Clear x when cond is True  |Bool\n",
    "  x === y  | Equality    | Bool\n",
    "  x =/= y  | Inequality  | Bool       "
   ]
  },
  {
   "cell_type": "code",
   "execution_count": null,
   "metadata": {},
   "outputs": [],
   "source": [
    "class Top extends Component{\n",
    "  val x = Bool          \n",
    "  val y = UInt(8 bits)\n",
    "  when(x.edge){\n",
    "      y.setAll\n",
    "  }.otherwise{\n",
    "      y.clearAll\n",
    "  }\n",
    "}\n",
    "showRtl(new Top)"
   ]
  },
  {
   "cell_type": "markdown",
   "metadata": {},
   "source": [
    "## Bits\n",
    "The Bits type corresponds to a vector of bits that does not convey any arithmetic meaning.\n",
    "The syntax to declare a bit vector is as follows: (everything between [] is optional)\n",
    "\n",
    "  Syntax                                  | Description                                                                   | Return\n",
    "  -|-|-                                                                                                                    \n",
    "  Bits \\[()\\]                             | Create a BitVector, bits count is inferred                                    | Bits\n",
    "  Bits(x bits)                            | Create a BitVector with x bits                                                | Bits\n",
    "  B(value: Int\\[, x bits\\])               | Create a BitVector with x bits assigned with \\'value\\'                        | Bits\n",
    "  B\\\"\\[\\[size\\'\\]base\\]value\\\"            | Create a BitVector assigned with \\'value\\' (Base: \\'h\\', \\'d\\', \\'o\\', \\'b\\') | Bits\n",
    "  B(\\[x bits,\\] `element <element>`, ...) | Create a BitVector assigned with the value specified by elements              | Bits "
   ]
  },
  {
   "cell_type": "code",
   "execution_count": null,
   "metadata": {},
   "outputs": [],
   "source": [
    "class Top extends Component{ \n",
    "  val x = Bits(8 bits)\n",
    "  val y = x(6 downto 2)\n",
    "}\n",
    "showRtl(new Top)"
   ]
  },
  {
   "cell_type": "code",
   "execution_count": null,
   "metadata": {},
   "outputs": [],
   "source": [
    "class Top extends Component{ \n",
    "// Declaration\n",
    "val myBits  = Bits()     // the size is inferred\n",
    "val myBits1 = Bits(32 bits)\n",
    "val myBits2 = B(25, 8 bits)\n",
    "val myBits3 = B\"8'xFF\"   // Base could be x,h (base 16)\n",
    "                         //               d   (base 10)\n",
    "                         //               o   (base 8)\n",
    "                         //               b   (base 2)\n",
    "val myBits4 = B\"1001_0011\"  // _ can be used for readability\n",
    "\n",
    "// Element\n",
    "val myBits5 = B(8 bits, default -> True) // \"11111111\"\n",
    "val myBits6 = B(8 bits, (7 downto 5) -> B\"101\", 4 -> true, 3 -> True, default -> false ) // \"10111000\"\n",
    "val myBits7 = Bits(8 bits)\n",
    "myBits7 := (7 -> true, default -> false) // \"10000000\" (For assignement purposes, you can omit the B)\n",
    "myBits  := B(31,8 bits)\n",
    "}\n",
    "showRtl(new Top)"
   ]
  },
  {
   "cell_type": "markdown",
   "metadata": {},
   "source": [
    "More method of Bits (see [Bits](https://spinalhdl.github.io/SpinalDoc-RTD/SpinalHDL/Data%20types/bits.html#)) \n",
    "\n",
    "  Operator                    | Description                              | Return type\n",
    "  -|-|-                                                                                                                    \n",
    "  \\~x                         |Bitwise NOT                              |Bits(w(x) bits)\n",
    "  x & y                       |Bitwise AND                              |Bits(w(xy) bits)\n",
    "  x                           |y                                        |Bitwise OR\n",
    "  x \\^ y                      |Bitwise XOR                              |Bits(w(xy) bits)\n",
    "  x.xorR                      |XOR all bits of x                        |Bool\n",
    "  x.orR                       |OR all bits of x                         |Bool\n",
    "  x.andR                      |AND all bits of x                        |Bool\n",
    "  x \\>\\> y                    |Logical shift right, y: Int              |Bits(w(x) - y bits)\n",
    "  x \\>\\> y                    |Logical shift right, y: UInt             |Bits(w(x) bits)\n",
    "  x \\<\\< y                    |Logical shift left, y: Int               |Bits(w(x) + y bits)\n",
    "  x \\<\\< y                    |Logical shift left, y: UInt              |Bits(w(x) + max(y) bits)\n",
    "  x                           |\\>\\> y                                   |Logical shift right, y: Int/UInt\n",
    "  x                           |\\<\\< y                                   |Logical shift left, y: Int/UInt\n",
    "  x.rotateLeft(y)             |Logical left rotation, y: UInt/Int       |Bits(w(x) bits)\n",
    "  x.rotateRight(y)            |Logical right rotation, y: UInt/Int      |Bits(w(x) bits)\n",
    "  x.clearAll\\[()\\]            |Clear all bits                           |   \n",
    "  x.setAll\\[()\\]              |Set all bits                             |    \n",
    "  x.setAllTo(value: Boolean)  |Set all bits to the given Boolean value  |   \n",
    "  x.setAllTo(value: Bool)     |Set all bits to the given Bool value     |   \n",
    "  x === y   |Equality                    | Bool\n",
    "  x =/= y   |Inequality                  | Bool\n",
    "  x.asBits  | Binary cast to Bits        |Bits(w(x) bits)\n",
    "  x.asUInt  | Binary cast to UInt        |UInt(w(x) bits)\n",
    "  x.asSInt  | Binary cast to SInt        |SInt(w(x) bits)\n",
    "  x.asBools | Cast to an array of Bools  |Vec(Bool, w(x))\n",
    "  B(x: T)   | Cast Data to Bits          | Bits(w(x) bits)\n",
    "  x(y)                       | Readbit, y: Int/UInt                                       | Bool\n",
    "  x(hi,lo)                   | Read bitfield, hi: Int, lo: Int                            | Bits(hi-lo+1 bits)\n",
    "  x(offset,width bits)       | Read bitfield, offset: UInt, width: Int                    | Bits(width bits)\n",
    "  x(`range <range>`)         | Read a range of bit. Ex : myBits(4 downto 2)               | Bits(range bits)\n",
    "  x(y) := z                  | Assign bits, y: Int/UInt                                   | Bool\n",
    "  x(offset, width bits) := z | Assign bitfield, offset: UInt, width: Int                  | Bits(width bits)\n",
    "  x(`range <range>`) := z    | Assign a range of bit. Ex : myBits(4 downto 2) := B\"010\" | Bits(range bits)\n",
    "  x.getWidth               |Return bitcount                                                                | Int\n",
    "  x.range                  |Return the range (x.high downto 0)                                             | Range\n",
    "  x.high                   |Return the upper bound of the type x                                           | Int\n",
    "  x.msb                    |Return the most significant bit                                                | Bool\n",
    "  x.lsb                    |Return the least significant bit                                               | Bool\n",
    "  x \\#\\# y                 |Concatenate, x-\\>high, y-\\>low                                                 | Bits(w(x) + w(y) bits)\n",
    "  x.subdivideIn(y slices)  |Subdivide x in y slices, y: Int                                                | Vec(Bits, y)\n",
    "  x.subdivideIn(y bits)    |Subdivide x in multiple slices of y bits, y: Int                               | Vec(Bits, w(x)/y)\n",
    "  x.resize(y)              |Return a resized copy of x, if enlarged, it is filled with zero, y: Int        | Bits(y bits)\n",
    "  x.resized                |Return a version of x which is allowed to be automatically resized were needed | Bits(w(x) bits)\n",
    "  x.resizeLeft(x)          |Resize by keeping MSB at the same place, x:Int                                 | Bits(x bits)      "
   ]
  },
  {
   "cell_type": "code",
   "execution_count": null,
   "metadata": {},
   "outputs": [],
   "source": [
    "class Top extends Component{\n",
    "  val cond       = in Bool\n",
    "  val bits_8bits = in Bits(8 bits)\n",
    "  // Bitwise operator\n",
    "  val a, b, c = Bits(32 bits)\n",
    "  c := ~(a & b) //  Inverse(a AND b)\n",
    "  \n",
    "  val all_1 = a.andR // Check that all bits are equal to 1\n",
    "  \n",
    "  // Logical shift\n",
    "  val bits_10bits = bits_8bits << 2  // shift left (results in 10 bits)\n",
    "  val shift_8bits = bits_8bits |<< 2 // shift left (results in 8 bits)\n",
    "  \n",
    "  // Logical rotation\n",
    "  val myBits = bits_8bits.rotateLeft(3) // left bit rotation\n",
    "  \n",
    "  // Set/clear\n",
    "  val d = B\"8'x42\"\n",
    "  when(cond){\n",
    "    d.setAll() // set all bits to True when cond is True\n",
    "  } \n",
    "}\n",
    "showRtl(new Top)    "
   ]
  },
  {
   "cell_type": "code",
   "execution_count": null,
   "metadata": {},
   "outputs": [],
   "source": [
    "class Top extends Component{\n",
    "  val myBits = in Bits(8 bits)\n",
    "  // cast a Bits to SInt\n",
    "  val mySInt = myBits.asSInt\n",
    "\n",
    "  // create a Vector of bool\n",
    "  val myVec = myBits.asBools\n",
    "\n",
    "  // Cast a SInt to Bits\n",
    "  val myBits2 = B(mySInt)\n",
    "}\n",
    "showRtl(new Top)"
   ]
  },
  {
   "cell_type": "markdown",
   "metadata": {},
   "source": [
    "## UInt/SInt\n",
    "The UInt/SInt type corresponds to a vector of bits that can be used for signed/unsigned integer arithmetic.\n",
    "The syntax to declare an integer is as follows: (everything between [] is optional)\n"
   ]
  },
  {
   "cell_type": "code",
   "execution_count": null,
   "metadata": {},
   "outputs": [],
   "source": []
  }
 ],
 "metadata": {
  "kernelspec": {
   "display_name": "Scala",
   "language": "scala",
   "name": "scala"
  },
  "language_info": {
   "codemirror_mode": "text/x-scala",
   "file_extension": ".scala",
   "mimetype": "text/x-scala",
   "name": "scala",
   "nbconvert_exporter": "script",
   "version": "2.12.8"
  },
  "toc": {
   "base_numbering": 1,
   "nav_menu": {},
   "number_sections": true,
   "sideBar": true,
   "skip_h1_title": false,
   "title_cell": "Table of Contents",
   "title_sidebar": "Contents",
   "toc_cell": false,
   "toc_position": {},
   "toc_section_display": true,
   "toc_window_display": false
  }
 },
 "nbformat": 4,
 "nbformat_minor": 2
}
