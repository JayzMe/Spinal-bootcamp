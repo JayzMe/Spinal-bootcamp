{
 "cells": [
  {
   "cell_type": "markdown",
   "metadata": {},
   "source": [
    "<a name=\"top\"></a><img src=\"source/SpinalHDL.png\" alt=\"SpinalHDL based on Scala\" style=\"width:320px;\" />"
   ]
  },
  {
   "cell_type": "markdown",
   "metadata": {
    "slideshow": {
     "slide_type": "skip"
    }
   },
   "source": [
    "运行SpinalHDL代码之前，务必加载SpinalHDL的库 \n",
    "（**注**：*第一次运行时需要下载库，可能会有点慢，请耐心等待*）"
   ]
  },
  {
   "cell_type": "code",
   "execution_count": null,
   "metadata": {
    "slideshow": {
     "slide_type": "skip"
    }
   },
   "outputs": [],
   "source": [
    "val path = System.getProperty(\"user.dir\") + \"/source/load-spinal.sc\"\n",
    "interp.load.module(ammonite.ops.Path(java.nio.file.FileSystems.getDefault().getPath(path)))"
   ]
  },
  {
   "cell_type": "markdown",
   "metadata": {
    "slideshow": {
     "slide_type": "slide"
    }
   },
   "source": [
    "## 参数化滤波器\n",
    "**功能需求**  \n",
    "- 滤波器有多级（默认3级），每一级为对称n（默认33）阶滤波器\n",
    "- 每一级支持上采样和下采样，采样倍数1、2、3、4、5可配\n",
    "- 每一级支持bypass\n",
    "- 每一级系数可配\n",
    "- 每一级增益可配\n",
    "- 滤波器的数据输出方式\n",
    "  + 每级滤波器支持单独冲刷\n",
    "  + 每级滤波器要补零将尾巴输出\n",
    "  + 滤波器级联连续输出"
   ]
  },
  {
   "cell_type": "markdown",
   "metadata": {
    "slideshow": {
     "slide_type": "slide"
    }
   },
   "source": [
    "### 系统框图\n",
    "![image.png](./slides/img/1.png)"
   ]
  },
  {
   "cell_type": "markdown",
   "metadata": {
    "slideshow": {
     "slide_type": "subslide"
    }
   },
   "source": [
    "### FIR 滤波器  \n",
    "![image.png](./slides/img/2.png)\n",
    "**主要分为两块**  \n",
    "- FIRCtrl 负责上采样和下采样的控制，以及前后滤波器的握手\n",
    "- FIRCore 负责单个样点的滤波计算\n",
    "  + 寄存器组（Shift寄存器组，参数寄存器，系数寄存器）\n",
    "  + 乘累加运算模块（对于33阶滤波器，1次乘累加需要17拍+1拍的握手开销）"
   ]
  },
  {
   "cell_type": "markdown",
   "metadata": {
    "slideshow": {
     "slide_type": "subslide"
    }
   },
   "source": [
    "用参数来定义一个FIRConfig\n",
    "```scala\n",
    "case class FIRConfig(iqWidth: Int = 8,\n",
    "                     coefWidth: Int = 8,\n",
    "                     tapNumbers: Int = 33,\n",
    "                     maxUpSmpTimes : Int = 5\n",
    "                     )\n",
    "```"
   ]
  },
  {
   "cell_type": "markdown",
   "metadata": {
    "slideshow": {
     "slide_type": "fragment"
    }
   },
   "source": [
    "```scala\n",
    "{\n",
    "  def cyclesPerSmp(): Int = (tapNumbers>>1) + 1\n",
    "  def cyclesPerSmp_(): Int = cyclesPerSmp - 1\n",
    "```"
   ]
  },
  {
   "cell_type": "markdown",
   "metadata": {
    "slideshow": {
     "slide_type": "fragment"
    }
   },
   "source": [
    "```scala\n",
    "  val accWidth: Int = iqWidth + coefWidth + log2Up(tapNumbers)\n",
    "  val fixSelWidth: Int = log2Up(coefWidth + log2Up(tapNumbers))\n",
    "}\n",
    "```"
   ]
  },
  {
   "cell_type": "markdown",
   "metadata": {
    "slideshow": {
     "slide_type": "subslide"
    }
   },
   "source": [
    "**有了FIR的，再来构建Top层滤波器组的参数定义**\n",
    "```scala\n",
    "case class FilterGroupConfig(stagesNumber: Int = 3,\n",
    "                             hwFreq: HertzNumber = 200 MHz,\n",
    "                             sampleFreq: HertzNumber = 1.92 MHz){\n",
    "  val firsConfig: Array[FIRConfig] = Array.fill(stagesNumber)(FIRConfig(8,8,33))\n",
    "}\n",
    "```"
   ]
  },
  {
   "cell_type": "markdown",
   "metadata": {
    "slideshow": {
     "slide_type": "fragment"
    }
   },
   "source": [
    "改变FIR的参数配置\n",
    "```scala\n",
    "val u3_fgc = FilterGroupConfig(3, 200 MHz, 1.92 Mhz)\n",
    "u3_fgc.firsConfig(0) = FIRConfig(8,8,33,6)\n",
    "u3_fgc.firsConfig(1) = FIRConfig(16,16,21,5)\n",
    "u3_fgc.firsConfig(2) = FIRConfig(8,8,63,3)\n",
    "```"
   ]
  },
  {
   "cell_type": "markdown",
   "metadata": {
    "slideshow": {
     "slide_type": "fragment"
    }
   },
   "source": [
    "定义U4项目的滤波器组\n",
    "```scala\n",
    "val u4_fgc = FilterGroupConfig(5, 400 MHz, 1.92 Mhz)\n",
    "for(i <- 0 until u4_fgc.length){\n",
    "    u4_fgc.firsConfig(i) = FIRConfig(16,16,23,5)\n",
    "}\n",
    "//Array.copy(Array.fill(5)(FIRconfig(16,16,23,5)),0,u4_fgc.firsConfig,0,5)\n",
    "```"
   ]
  },
  {
   "cell_type": "markdown",
   "metadata": {
    "slideshow": {
     "slide_type": "subslide"
    }
   },
   "source": [
    "**有了参数，创建FIR模块**\n",
    "```scala\n",
    "case class FIR(fc: FIRConfig) extends Component {\n",
    "  val io = new Bundle {\n",
    "    val flush = in Bool()\n",
    "    val bmi = slave(Bmi(fc.bmiConfig))\n",
    "    val ins = slave Stream (IQ(fc.iqWidth bits))\n",
    "    val ots = master Stream (IQ(fc.iqWidth bits))\n",
    "  }\n",
    "```"
   ]
  },
  {
   "cell_type": "markdown",
   "metadata": {
    "slideshow": {
     "slide_type": "fragment"
    }
   },
   "source": [
    "```scala\n",
    "  val u_ctrl = new FIRCtrl(fc)\n",
    "```"
   ]
  },
  {
   "cell_type": "markdown",
   "metadata": {
    "slideshow": {
     "slide_type": "fragment"
    }
   },
   "source": [
    "```scala\n",
    "  u_ctrl.io.flush := io.flush\n",
    "  u_ctrl.io.ready := io.ots.ready\n",
    "```"
   ]
  },
  {
   "cell_type": "markdown",
   "metadata": {
    "slideshow": {
     "slide_type": "fragment"
    }
   },
   "source": [
    "```scala\n",
    "  val u_core = new FIRCore(fc)\n",
    "  u_core.io.ins      << u_ctrl.io.iq2Core\n",
    "  u_core.io.tapRaddr << u_ctrl.io.tapRaddr\n",
    "  u_core.io.bmi      << io.bmi\n",
    "  u_core.io.flush    := io.flush\n",
    "  u_ctrl.io.swif     := u_core.io.swif\n",
    "```"
   ]
  },
  {
   "cell_type": "markdown",
   "metadata": {
    "slideshow": {
     "slide_type": "fragment"
    }
   },
   "source": [
    "```scala\n",
    "when(u_core.io.swif.bypass) {\n",
    "    io.ots << io.ins\n",
    "  }.otherwise{\n",
    "    io.ots << u_core.io.ots.toStream.queue(1)\n",
    "  }\n",
    "}\n",
    "```"
   ]
  },
  {
   "cell_type": "markdown",
   "metadata": {
    "slideshow": {
     "slide_type": "subslide"
    }
   },
   "source": [
    "至此，我们就可以参数化一个FIRconfig\n",
    "```scala\n",
    "SpinalVerilog(new FIR(FIRConfig()))\n",
    "```"
   ]
  },
  {
   "cell_type": "markdown",
   "metadata": {
    "slideshow": {
     "slide_type": "fragment"
    }
   },
   "source": [
    "改变参数，生成不同规格的FIR滤波器 \n",
    "```scala\n",
    "SpinalVerilog(new FIR(FIRConfig(iqWidth = 16,\n",
    "                                coefWidth = 10,\n",
    "                                tapNumbers = 33,\n",
    "                                maxUpSmpTimes = 10)))\n",
    "```"
   ]
  },
  {
   "cell_type": "markdown",
   "metadata": {
    "slideshow": {
     "slide_type": "fragment"
    }
   },
   "source": [
    "改变全局配置，定义时钟信息，生成目录等等\n",
    "```scala\n",
    "val spc = SpinalConfig(\n",
    "    mode = Verilog,\n",
    "    defaultConfigForClockDomains = ClockDomainConfig(\n",
    "        resetKind = ASYNC,\n",
    "        clockEdge = RISING, \n",
    "        resetActiveLevel = LOW),\n",
    "    targetDirectory=\"rtl/\")\n",
    "spc.generate(new FIR(FIRConfig()))\n",
    "```"
   ]
  }
 ],
 "metadata": {
  "celltoolbar": "幻灯片",
  "kernelspec": {
   "display_name": "Scala",
   "language": "scala",
   "name": "scala"
  },
  "language_info": {
   "codemirror_mode": "text/x-scala",
   "file_extension": ".scala",
   "mimetype": "text/x-scala",
   "name": "scala",
   "nbconvert_exporter": "script",
   "version": "2.12.8"
  }
 },
 "nbformat": 4,
 "nbformat_minor": 2
}
