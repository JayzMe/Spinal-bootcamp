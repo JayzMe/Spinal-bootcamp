{
 "cells": [
  {
   "cell_type": "markdown",
   "metadata": {},
   "source": [
    "<a name=\"top\"></a><img src=\"source/SpinalHDL.png\" alt=\"SpinalHDL based on Scala\" style=\"width:320px;\" />"
   ]
  },
  {
   "cell_type": "markdown",
   "metadata": {},
   "source": [
    "运行SpinalHDL代码之前，务必加载SpinalHDL的库 \n",
    "（**注**：*第一次运行时需要下载库，可能会有点慢，请耐心等待*）"
   ]
  },
  {
   "cell_type": "code",
   "execution_count": null,
   "metadata": {},
   "outputs": [],
   "source": [
    "val path = System.getProperty(\"user.dir\") + \"/source/load-spinal.sc\"\n",
    "interp.load.module(ammonite.ops.Path(java.nio.file.FileSystems.getDefault().getPath(path)))"
   ]
  },
  {
   "cell_type": "markdown",
   "metadata": {},
   "source": [
    "## Chapter\n"
   ]
  },
  {
   "cell_type": "code",
   "execution_count": null,
   "metadata": {},
   "outputs": [],
   "source": [
    "class T4 extends Component{\n",
    "    val a = in SInt(8 bits)\n",
    "    val b0 = out SInt()\n",
    "    val b1 = out SInt()\n",
    "    val b2 = out SInt()\n",
    "    val b3 = out SInt()\n",
    "    b0 := a >> U(3)\n",
    "    b1 := a >> 3    \n",
    "    b2 := a << U(3)\n",
    "    b3 := a << 3\n",
    "    val c = in UInt(8 bits)\n",
    "    val d0 = out UInt()\n",
    "    val d1 = out UInt() \n",
    "    val d3 = out UInt()\n",
    "    val d4 = out UInt() \n",
    "    d0 := c >> U(3)\n",
    "    d1 := c >> 3\n",
    "    d3 := c << U(3)\n",
    "    d4 := c << 3\n",
    "}\n",
    "showRtl(new T4)"
   ]
  }
 ],
 "metadata": {
  "kernelspec": {
   "display_name": "Scala",
   "language": "scala",
   "name": "scala"
  },
  "language_info": {
   "codemirror_mode": "text/x-scala",
   "file_extension": ".scala",
   "mimetype": "text/x-scala",
   "name": "scala211",
   "nbconvert_exporter": "script",
   "pygments_lexer": "scala",
   "version": "2.11.11"
  }
 },
 "nbformat": 4,
 "nbformat_minor": 2
}
