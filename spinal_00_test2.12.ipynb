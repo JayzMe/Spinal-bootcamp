{
 "cells": [
  {
   "cell_type": "markdown",
   "metadata": {},
   "source": [
    "<a name=\"top\"></a><img src=\"source/SpinalHDL.png\" alt=\"SpinalHDL based on Scala\" style=\"width:320px;\" />"
   ]
  },
  {
   "cell_type": "markdown",
   "metadata": {},
   "source": [
    "运行SpinalHDL代码之前，务必加载SpinalHDL的库 \n",
    "（**注**：*第一次运行时需要下载库，可能会有点慢，请耐心等待*）"
   ]
  },
  {
   "cell_type": "code",
   "execution_count": 5,
   "metadata": {},
   "outputs": [
    {
     "data": {
      "text/plain": [
       "\u001b[36mpath\u001b[39m: \u001b[32mString\u001b[39m = \u001b[32m\"E:\\\\nutstore\\\\2019bf\\\\github\\\\Spinal-bootcamp/source/load-spinal.sc\"\u001b[39m"
      ]
     },
     "execution_count": 5,
     "metadata": {},
     "output_type": "execute_result"
    }
   ],
   "source": [
    "val path = System.getProperty(\"user.dir\") + \"/source/load-spinal.sc\"\n",
    "interp.load.module(ammonite.ops.Path(java.nio.file.FileSystems.getDefault().getPath(path)))"
   ]
  },
  {
   "cell_type": "markdown",
   "metadata": {},
   "source": [
    "## Chapter\n"
   ]
  },
  {
   "cell_type": "code",
   "execution_count": null,
   "metadata": {},
   "outputs": [],
   "source": [
    "case class IQ(width: Int) extends Bundle{\n",
    "  val I,Q = SInt(width bits)\n",
    "}\n",
    "class Myflow1 extends Component{\n",
    "    val din = slave  Flow(IQ(8))\n",
    "    val dout   = master Flow(IQ(8))    \n",
    "    dout <-< din     \n",
    "    val write = Stream(Fragment(Bits(8 bits)))\n",
    "}\n",
    "\n",
    "showRtl(new Myflow1)"
   ]
  },
  {
   "cell_type": "code",
   "execution_count": null,
   "metadata": {},
   "outputs": [],
   "source": [
    "class T1 extends Component{\n",
    "    val source = slave Stream(Fragment(Bits(8 bits)))\n",
    "    val sink = master Stream(Fragment(Bits(8 bits)))\n",
    " sink << source\n",
    "}\n",
    "showRtl(new T1)"
   ]
  },
  {
   "cell_type": "code",
   "execution_count": null,
   "metadata": {},
   "outputs": [],
   "source": [
    "class T2 extends Component{\n",
    "    val a = in UFix(8 exp, 10 bits)\n",
    "    val b = in UFix(2 exp, 10 bits)\n",
    "    val c = out Bits()\n",
    "c := (a + b).asBits\n",
    "}\n",
    "showRtl(new T2)"
   ]
  },
  {
   "cell_type": "code",
   "execution_count": null,
   "metadata": {},
   "outputs": [],
   "source": [
    "class T3 extends Component{\n",
    "    val a = in UInt(8 bits)\n",
    "    val b = Bool\n",
    "    b := a === M\"00--11--\"\n",
    "    print(Q\"8.2\")\n",
    "}\n",
    "showRtl(new T3)"
   ]
  },
  {
   "cell_type": "code",
   "execution_count": null,
   "metadata": {},
   "outputs": [],
   "source": [
    "class T3 extends Component{ \n",
    "    val paraa = 2*2\n",
    "    val a = in UInt(6 bits)\n",
    "    val b = out SInt(paraa bits)\n",
    "    val remain = a.asSInt-33\n",
    "    b := remain.resized\n",
    "}\n",
    "showRtl(new T3)"
   ]
  },
  {
   "cell_type": "code",
   "execution_count": null,
   "metadata": {},
   "outputs": [],
   "source": [
    "class T3 extends Component{  \n",
    "    val a = in Bool()\n",
    "    val en,set,clc = in Bool\n",
    "    val b = out Bool()\n",
    "    val cnt = RegNext(a  ) setWhen(set) clearWhen(clc) init False\n",
    "    b := en && !(set && !clc) \n",
    "}\n",
    "showRtl(new T3)"
   ]
  },
  {
   "cell_type": "code",
   "execution_count": null,
   "metadata": {},
   "outputs": [],
   "source": [
    "case class IQ(width: Int) extends Bundle{\n",
    "  val I,Q = SInt(width bits)\n",
    "}\n",
    "class D extends Component{\n",
    "    val iq = in(IQ(8)) // Faild too!!!\n",
    "    val en = in(Bool())\n",
    "}\n",
    "showRtl(new D)"
   ]
  },
  {
   "cell_type": "code",
   "execution_count": null,
   "metadata": {},
   "outputs": [],
   "source": [
    "class D extends Component{\n",
    "    val io = new Bundle{\n",
    "      val flush = in Bool()\n",
    "      val iq = in(UInt(8 bits))\n",
    "      val en = in(Bool())    \n",
    "        val rd = in Bool()\n",
    "        val raddr = in UInt(4 bits)        \n",
    "        val rdata = out UInt(8 bits)\n",
    "    }    \n",
    "    val RegFiles = Vec(Reg(UInt(8 bits)),13)\n",
    "    when(io.flush){\n",
    "     RegFiles.map(_:=0)   \n",
    "    }.elsewhen(io.en){\n",
    "       RegFiles.head := io.iq\n",
    "       //RegFiles.re\n",
    "        for (i <- 0 until 12) {\n",
    "            RegFiles(i+1) := RegFiles(i)\n",
    "        }\n",
    "    }\n",
    "    val regRead = Reg(UInt(8 bits)) init 0 \n",
    "    //regRead := io.iq\n",
    "    when(io.rd){\n",
    "      regRead := RegFiles(io.raddr)\n",
    "    }\n",
    "    io.rdata := regRead\n",
    "}\n",
    "showRtl(new D)"
   ]
  },
  {
   "cell_type": "code",
   "execution_count": 4,
   "metadata": {},
   "outputs": [
    {
     "name": "stdout",
     "output_type": "stream",
     "text": [
      "[Runtime] SpinalHDL v1.3.6    git head : 10854057c32ae371aabc9a340c367e9bbc159fcd\n",
      "[Runtime] JVM max memory : 3584.0MiB\n",
      "[Runtime] Current date : 2019.11.06 17:01:03\n",
      "[Progress] at 29.777 : Elaborate components\n",
      "[Progress] at 29.782 : Checks and transforms\n",
      "[Progress] at 29.792 : Generate Verilog\n",
      "[Warning] 4 signals were pruned. You can call printPruned on the backend report to get more informations.\n",
      "[Done] at 29.800\n",
      "// Generator : SpinalHDL v1.3.6    git head : 10854057c32ae371aabc9a340c367e9bbc159fcd\n",
      "// Date      : 06/11/2019, 17:01:03\n",
      "// Component : D\n",
      "\n",
      "\n",
      "module D (\n",
      "      input   x,\n",
      "      input   y,\n",
      "      input   z);\n",
      "  wire  c;\n",
      "  assign c = ({z,{y,x}} != (3'b000));\n",
      "endmodule\n",
      "\n",
      "\n"
     ]
    },
    {
     "data": {
      "text/plain": [
       "defined \u001b[32mclass\u001b[39m \u001b[36mD\u001b[39m"
      ]
     },
     "execution_count": 4,
     "metadata": {},
     "output_type": "execute_result"
    }
   ],
   "source": [
    "class D extends Component{\n",
    "    val x,y,z = in Bool()\n",
    "    val c = Vec(x,y,z).asBits.orR\n",
    "}\n",
    "showRtl(new D)"
   ]
  },
  {
   "cell_type": "code",
   "execution_count": 15,
   "metadata": {},
   "outputs": [
    {
     "name": "stdout",
     "output_type": "stream",
     "text": [
      "[Runtime] SpinalHDL v1.3.6    git head : 10854057c32ae371aabc9a340c367e9bbc159fcd\n",
      "[Runtime] JVM max memory : 3584.0MiB\n",
      "[Runtime] Current date : 2019.11.08 14:23:54\n",
      "[Progress] at 163401.240 : Elaborate components\n",
      "???\n",
      "\n",
      "[Progress] at 163401.242 : Checks and transforms\n",
      "[Progress] at 163401.243 : Generate Verilog\n",
      "[Done] at 163401.245\n",
      "// Generator : SpinalHDL v1.3.6    git head : 10854057c32ae371aabc9a340c367e9bbc159fcd\n",
      "// Date      : 08/11/2019, 14:23:54\n",
      "// Component : T\n",
      "\n",
      "\n",
      "module T ();\n",
      "endmodule\n",
      "\n",
      "\n"
     ]
    },
    {
     "data": {
      "text/plain": [
       "defined \u001b[32mclass\u001b[39m \u001b[36mRegInst\u001b[39m\r\n",
       "defined \u001b[32mclass\u001b[39m \u001b[36mT\u001b[39m"
      ]
     },
     "execution_count": 15,
     "metadata": {},
     "output_type": "execute_result"
    }
   ],
   "source": [
    "class RegInst extends Nameable\n",
    "class T extends Component{\n",
    "    val d = new RegInst\n",
    "    println(d.getDisplayName)\n",
    "    println(d.getName)\n",
    "}\n",
    "showRtl(new T)"
   ]
  },
  {
   "cell_type": "code",
   "execution_count": null,
   "metadata": {},
   "outputs": [],
   "source": []
  }
 ],
 "metadata": {
  "kernelspec": {
   "display_name": "Scala",
   "language": "scala",
   "name": "scala"
  },
  "language_info": {
   "codemirror_mode": "text/x-scala",
   "file_extension": ".scala",
   "mimetype": "text/x-scala",
   "name": "scala",
   "nbconvert_exporter": "script",
   "version": "2.12.8"
  },
  "toc": {
   "base_numbering": 1,
   "nav_menu": {},
   "number_sections": true,
   "sideBar": true,
   "skip_h1_title": false,
   "title_cell": "Table of Contents",
   "title_sidebar": "Contents",
   "toc_cell": true,
   "toc_position": {},
   "toc_section_display": true,
   "toc_window_display": false
  }
 },
 "nbformat": 4,
 "nbformat_minor": 2
}
