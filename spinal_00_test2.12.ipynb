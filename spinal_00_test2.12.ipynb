{
 "cells": [
  {
   "cell_type": "markdown",
   "metadata": {},
   "source": [
    "<a name=\"top\"></a><img src=\"source/SpinalHDL.png\" alt=\"SpinalHDL based on Scala\" style=\"width:320px;\" />"
   ]
  },
  {
   "cell_type": "markdown",
   "metadata": {},
   "source": [
    "运行SpinalHDL代码之前，务必加载SpinalHDL的库 \n",
    "（**注**：*第一次运行时需要下载库，可能会有点慢，请耐心等待*）"
   ]
  },
  {
   "cell_type": "code",
   "execution_count": null,
   "metadata": {},
   "outputs": [],
   "source": [
    "val path = System.getProperty(\"user.dir\") + \"/source/load-spinal.sc\"\n",
    "interp.load.module(ammonite.ops.Path(java.nio.file.FileSystems.getDefault().getPath(path)))"
   ]
  },
  {
   "cell_type": "markdown",
   "metadata": {},
   "source": [
    "## Chapter\n"
   ]
  },
  {
   "cell_type": "code",
   "execution_count": null,
   "metadata": {},
   "outputs": [],
   "source": [
    "case class IQ(width: Int) extends Bundle{\n",
    "  val I,Q = SInt(width bits)\n",
    "}\n",
    "class Myflow1 extends Component{\n",
    "    val din = slave  Flow(IQ(8))\n",
    "    val dout   = master Flow(IQ(8))    \n",
    "    dout <-< din     \n",
    "    val write = Stream(Fragment(Bits(8 bits)))\n",
    "}\n",
    "\n",
    "showRtl(new Myflow1)"
   ]
  },
  {
   "cell_type": "code",
   "execution_count": null,
   "metadata": {},
   "outputs": [],
   "source": [
    "class T1 extends Component{\n",
    "    val source = slave Stream(Fragment(Bits(8 bits)))\n",
    "    val sink = master Stream(Fragment(Bits(8 bits)))\n",
    " sink << source\n",
    "}\n",
    "showRtl(new T1)"
   ]
  },
  {
   "cell_type": "code",
   "execution_count": null,
   "metadata": {},
   "outputs": [],
   "source": [
    "class T2 extends Component{\n",
    "    val a = in UFix(8 exp, 10 bits)\n",
    "    val b = in UFix(2 exp, 10 bits)\n",
    "    val c = out Bits()\n",
    "c := (a + b).asBits\n",
    "}\n",
    "showRtl(new T2)"
   ]
  },
  {
   "cell_type": "code",
   "execution_count": null,
   "metadata": {},
   "outputs": [],
   "source": [
    "class T3 extends Component{\n",
    "    val a = in UInt(8 bits)\n",
    "    val b = Bool\n",
    "    b := a === M\"00--11--\"\n",
    "    print(Q\"8.2\")\n",
    "}\n",
    "showRtl(new T3)"
   ]
  },
  {
   "cell_type": "code",
   "execution_count": null,
   "metadata": {},
   "outputs": [],
   "source": [
    "class T3 extends Component{ \n",
    "    val paraa = 2*2\n",
    "    val a = in UInt(6 bits)\n",
    "    val b = out SInt(paraa bits)\n",
    "    val remain = a.asSInt-33\n",
    "    b := remain.resized\n",
    "}\n",
    "showRtl(new T3)"
   ]
  },
  {
   "cell_type": "code",
   "execution_count": null,
   "metadata": {},
   "outputs": [],
   "source": [
    "class T3 extends Component{  \n",
    "    val a = in Bool()\n",
    "    val en,set,clc = in Bool\n",
    "    val b = out Bool()\n",
    "    val cnt = RegNext(a  ) setWhen(set) clearWhen(clc) init False\n",
    "    b := en && !(set && !clc) \n",
    "}\n",
    "showRtl(new T3)"
   ]
  },
  {
   "cell_type": "code",
   "execution_count": null,
   "metadata": {},
   "outputs": [],
   "source": [
    "case class IQ(width: Int) extends Bundle{\n",
    "  val I,Q = SInt(width bits)\n",
    "}\n",
    "class D extends Component{\n",
    "    val iq = in(IQ(8)) // Faild too!!!\n",
    "    val en = in(Bool())\n",
    "}\n",
    "showRtl(new D)"
   ]
  },
  {
   "cell_type": "code",
   "execution_count": null,
   "metadata": {},
   "outputs": [],
   "source": [
    "class D extends Component{\n",
    "    val io = new Bundle{\n",
    "      val flush = in Bool()\n",
    "      val iq = in(UInt(8 bits))\n",
    "      val en = in(Bool())    \n",
    "        val rd = in Bool()\n",
    "        val raddr = in UInt(4 bits)        \n",
    "        val rdata = out UInt(8 bits)\n",
    "    }    \n",
    "    val RegFiles = Vec(Reg(UInt(8 bits)),13)\n",
    "    when(io.flush){\n",
    "     RegFiles.map(_:=0)   \n",
    "    }.elsewhen(io.en){\n",
    "       RegFiles.head := io.iq\n",
    "       //RegFiles.re\n",
    "        for (i <- 0 until 12) {\n",
    "            RegFiles(i+1) := RegFiles(i)\n",
    "        }\n",
    "    }\n",
    "    val regRead = Reg(UInt(8 bits)) init 0 \n",
    "    //regRead := io.iq\n",
    "    when(io.rd){\n",
    "      regRead := RegFiles(io.raddr)\n",
    "    }\n",
    "    io.rdata := regRead\n",
    "}\n",
    "showRtl(new D)"
   ]
  },
  {
   "cell_type": "code",
   "execution_count": null,
   "metadata": {},
   "outputs": [],
   "source": []
  }
 ],
 "metadata": {
  "kernelspec": {
   "display_name": "Scala",
   "language": "scala",
   "name": "scala"
  },
  "language_info": {
   "codemirror_mode": "text/x-scala",
   "file_extension": ".scala",
   "mimetype": "text/x-scala",
   "name": "scala",
   "nbconvert_exporter": "script",
   "version": "2.12.8"
  },
  "toc": {
   "base_numbering": 1,
   "nav_menu": {},
   "number_sections": true,
   "sideBar": true,
   "skip_h1_title": false,
   "title_cell": "Table of Contents",
   "title_sidebar": "Contents",
   "toc_cell": true,
   "toc_position": {},
   "toc_section_display": true,
   "toc_window_display": false
  }
 },
 "nbformat": 4,
 "nbformat_minor": 2
}
