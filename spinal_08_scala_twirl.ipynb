{
 "cells": [
  {
   "cell_type": "markdown",
   "metadata": {},
   "source": [
    "<a name=\"top\"></a><img src=\"source/SpinalHDL.png\" alt=\"SpinalHDL based on Scala\" style=\"width:320px;\" />"
   ]
  },
  {
   "cell_type": "markdown",
   "metadata": {},
   "source": [
    "运行SpinalHDL代码之前，务必加载SpinalHDL的库 \n",
    "（**注**：*第一次运行时需要下载库，可能会有点慢，请耐心等待*）"
   ]
  },
  {
   "cell_type": "code",
   "execution_count": null,
   "metadata": {},
   "outputs": [],
   "source": [
    "val path = System.getProperty(\"user.dir\") + \"/source/load-spinal.sc\"\n",
    "interp.load.module(ammonite.ops.Path(java.nio.file.FileSystems.getDefault().getPath(path)))"
   ]
  },
  {
   "cell_type": "markdown",
   "metadata": {},
   "source": [
    "## Chapter\n"
   ]
  },
  {
   "cell_type": "code",
   "execution_count": 0,
   "metadata": {},
   "outputs": [
    {
     "name": "stderr",
     "output_type": "stream",
     "text": [
      "Downloading https://repo1.maven.org/maven2/com/typesafe/sbt/sbt-twirl_2.12/1.0.4/sbt-twirl_2.12-1.0.4.pom.sha1\n",
      "Downloading https://repo1.maven.org/maven2/com/typesafe/sbt/sbt-twirl_2.12/1.0.4/sbt-twirl_2.12-1.0.4.pom\n",
      "Downloaded https://repo1.maven.org/maven2/com/typesafe/sbt/sbt-twirl_2.12/1.0.4/sbt-twirl_2.12-1.0.4.pom.sha1\n",
      "Downloaded https://repo1.maven.org/maven2/com/typesafe/sbt/sbt-twirl_2.12/1.0.4/sbt-twirl_2.12-1.0.4.pom\n",
      "Failed to resolve ivy dependencies:Error downloading com.typesafe.sbt:sbt-twirl_2.12:1.0.4\n",
      "  not found: C:\\Users\\Administrator\\.ivy2\\local\\com.typesafe.sbt\\sbt-twirl_2.12\\1.0.4\\ivys\\ivy.xml\n",
      "  not found: https://repo1.maven.org/maven2/com/typesafe/sbt/sbt-twirl_2.12/1.0.4/sbt-twirl_2.12-1.0.4.pom"
     ]
    },
    {
     "ename": "",
     "evalue": "",
     "output_type": "error",
     "traceback": [
      "Failed to resolve ivy dependencies:Error downloading com.typesafe.sbt:sbt-twirl_2.12:1.0.4\n  not found: C:\\Users\\Administrator\\.ivy2\\local\\com.typesafe.sbt\\sbt-twirl_2.12\\1.0.4\\ivys\\ivy.xml\n  not found: https://repo1.maven.org/maven2/com/typesafe/sbt/sbt-twirl_2.12/1.0.4/sbt-twirl_2.12-1.0.4.pom"
     ]
    }
   ],
   "source": [
    "import $ivy.`com.typesafe.sbt::sbt-twirl:1.0.4`"
   ]
  },
  {
   "cell_type": "code",
   "execution_count": 1,
   "metadata": {},
   "outputs": [
    {
     "data": {
      "text/plain": [
       "\u001b[36mres0\u001b[39m: \u001b[32mString\u001b[39m = \u001b[32m\"20\"\u001b[39m"
      ]
     },
     "execution_count": 1,
     "metadata": {},
     "output_type": "execute_result"
    }
   ],
   "source": [
    "32.toHexString"
   ]
  },
  {
   "cell_type": "code",
   "execution_count": 7,
   "metadata": {},
   "outputs": [
    {
     "data": {
      "text/plain": [
       "\u001b[36ma\u001b[39m: \u001b[32mList\u001b[39m[\u001b[32mInt\u001b[39m] = \u001b[33mList\u001b[39m(\u001b[32m1\u001b[39m, \u001b[32m2\u001b[39m, \u001b[32m3\u001b[39m, \u001b[32m4\u001b[39m, \u001b[32m5\u001b[39m, \u001b[32m6\u001b[39m)\r\n",
       "\u001b[36mres6_1\u001b[39m: \u001b[32mInt\u001b[39m = \u001b[32m1\u001b[39m\r\n",
       "\u001b[36mres6_2\u001b[39m: \u001b[32mList\u001b[39m[\u001b[32mInt\u001b[39m] = \u001b[33mList\u001b[39m(\u001b[32m2\u001b[39m, \u001b[32m3\u001b[39m, \u001b[32m4\u001b[39m, \u001b[32m5\u001b[39m, \u001b[32m6\u001b[39m)\r\n",
       "\u001b[36mres6_3\u001b[39m: \u001b[32mInt\u001b[39m = \u001b[32m6\u001b[39m\r\n",
       "\u001b[36mres6_4\u001b[39m: \u001b[32mString\u001b[39m = \u001b[32m\"123456\"\u001b[39m"
      ]
     },
     "execution_count": 7,
     "metadata": {},
     "output_type": "execute_result"
    }
   ],
   "source": [
    "val a = List(1,2,3,4,5,6)\n",
    "//val a = List(1)\n",
    "a.head\n",
    "a.tail\n",
    "a.last\n",
    "a.head.toString + a.tail.map(_.toString).foldLeft(\"\")(_+_)"
   ]
  },
  {
   "cell_type": "code",
   "execution_count": null,
   "metadata": {},
   "outputs": [],
   "source": []
  }
 ],
 "metadata": {
  "kernelspec": {
   "display_name": "Scala",
   "language": "scala",
   "name": "scala"
  },
  "language_info": {
   "codemirror_mode": "text/x-scala",
   "file_extension": ".scala",
   "mimetype": "text/x-scala",
   "name": "scala",
   "nbconvert_exporter": "script",
   "version": "2.12.8"
  }
 },
 "nbformat": 4,
 "nbformat_minor": 2
}
