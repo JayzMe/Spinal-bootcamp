{
 "cells": [
  {
   "cell_type": "markdown",
   "metadata": {},
   "source": [
    "<a name=\"top\"></a><img src=\"source/SpinalHDL.png\" alt=\"SpinalHDL based on Scala\" style=\"width:320px;\" />"
   ]
  },
  {
   "cell_type": "markdown",
   "metadata": {},
   "source": [
    "Before running Spinal HDL code, be sure to load SpinalHDL Libraries  \n",
    "**Note** : This may be a little slow when the first time load, please wait a moment to download Lib from remote.)   "
   ]
  },
  {
   "cell_type": "code",
   "execution_count": null,
   "metadata": {},
   "outputs": [],
   "source": [
    "val path = System.getProperty(\"user.dir\") + \"/source/load-spinal.sc\"\n",
    "interp.load.module(ammonite.ops.Path(java.nio.file.FileSystems.getDefault().getPath(path)))"
   ]
  },
  {
   "cell_type": "markdown",
   "metadata": {},
   "source": [
    "### 1. 位宽推断的使用限制 \n",
    "关于没有位宽声明的getWidth用法\n",
    "```scala\n",
    "  val c = UInt()\n",
    "  c.getWidth   // X Failed !\n",
    "  c:= a + b\n",
    "  c.getWidth   // is ok, because c width already inferred by \"c := a + b\"\n",
    "```\n",
    "另外一个例子， setAll 函数需要getWidth方法\n",
    "```scala\n",
    " val c = out UInt() \n",
    " when(clc){c.setAll }.otherwise(c := a * b)  //failed\n",
    " when(clc){c := a * b }.otherwise(c.setAll)  //It's OK\n",
    "```"
   ]
  },
  {
   "cell_type": "code",
   "execution_count": null,
   "metadata": {},
   "outputs": [],
   "source": [
    "class T2  extends Component{\n",
    "    val a,b = in UInt(8 bits)\n",
    "    val clc= in Bool()\n",
    "    val c = out UInt() \n",
    "//  when(clc){c.setAll }.otherwise(c := a * b)  //failed   \n",
    "  when(clc){c := a * b }.otherwise(c.setAll)  //It's OK\n",
    "}\n",
    "showRtl(new T2)"
   ]
  },
  {
   "cell_type": "markdown",
   "metadata": {},
   "source": [
    "### 2. asBool问题 \n",
    "对于1bit的数据操作，第一种和后面两个方法是有区别的，请注意\n",
    "- a.asBits  \n",
    "- a.lsb     \n",
    "- a(0) \n",
    "```scala\n",
    "val a= Bits(1 bits)\n",
    "a.asBits //返回一个新的Bool，将 tmp := a.lsb\n",
    "a.lsb    //直接操作a(0) bit\n",
    "a(0)     //\n",
    "```"
   ]
  },
  {
   "cell_type": "code",
   "execution_count": null,
   "metadata": {},
   "outputs": [],
   "source": [
    "class T1  extends Component{  \n",
    "  val sel = in Bool()\n",
    "  val a = Reg(Bits(1 bits)) init 0 \n",
    "  when(sel){a.asBool.set()} //generate verilog beyond your expectations\n",
    "}\n",
    "showRtl(new T1)  "
   ]
  },
  {
   "cell_type": "code",
   "execution_count": null,
   "metadata": {},
   "outputs": [],
   "source": [
    "class T2  extends Component{  \n",
    "  val sel = in Bool()\n",
    "  val a = Reg(Bits(1 bits)) init 0 \n",
    "  when(sel){a(0).set()} \n",
    "  // when(sel){a.lsb.set()}  //also Ok\n",
    "}\n",
    "showRtl(new T2) "
   ]
  },
  {
   "cell_type": "markdown",
   "metadata": {},
   "source": [
    "## 3. val def in Trait\n",
    "**Attation** val cause Error "
   ]
  },
  {
   "cell_type": "code",
   "execution_count": null,
   "metadata": {},
   "outputs": [],
   "source": [
    "trait PRNBase {\n",
    "  val size: Int \n",
    "\n",
    "  val Mask = (1 << size) - 1\n",
    "  val Msb  = (1 << (size - 1))\n",
    "}\n",
    "\n",
    "object GPS extends PRNBase{\n",
    "    val size = 1023\n",
    "}\n",
    "\n",
    "object BD extends PRNBase{\n",
    "    val size = 2046\n",
    "}\n",
    "BD.Mask toHexString // return 0"
   ]
  },
  {
   "cell_type": "code",
   "execution_count": null,
   "metadata": {},
   "outputs": [],
   "source": [
    "trait PRNBase {\n",
    "  val size: Int \n",
    "\n",
    "  def Mask = (1 << size) - 1\n",
    "  def Msb  = (1 << (size - 1))\n",
    "}\n",
    "object BD extends PRNBase{\n",
    "    val size = 11\n",
    "}\n",
    "BD.Mask toHexString"
   ]
  },
  {
   "cell_type": "markdown",
   "metadata": {},
   "source": [
    "### Watch Dog\n"
   ]
  },
  {
   "cell_type": "code",
   "execution_count": null,
   "metadata": {},
   "outputs": [],
   "source": [
    "class T2  extends Component{ \n",
    "    val a = out Bits(9 bit)\n",
    "    a := 133\n",
    "    class Dog{}\n",
    "    val xiaogou = new Dog\n",
    "\n",
    "}\n",
    "showRtl(new T2) "
   ]
  },
  {
   "cell_type": "code",
   "execution_count": null,
   "metadata": {},
   "outputs": [],
   "source": [
    "class T2  extends Component{ \n",
    "   class Dog{\n",
    "      def genTimer(n: Int) = {\n",
    "         val timer = Reg(UInt(n bits)) init 0 \n",
    "         val clearTimer = in Bool()\n",
    "         when(clearTimer){\n",
    "            timer init 0\n",
    "         }.otherwise {\n",
    "            timer := timer + 1\n",
    "         }\n",
    "         (clearTimer,timer)\n",
    "      }\n",
    "   }\n",
    "   val xiaogou = new Dog\n",
    "   val (weigou,timer) = xiaogou.genTimer(8)\n",
    "} \n",
    "showRtl(new T2) "
   ]
  },
  {
   "cell_type": "code",
   "execution_count": null,
   "metadata": {},
   "outputs": [],
   "source": [
    " class Dog {\n",
    "      def genTimer(n: Int) = {\n",
    "         val timer = Reg(UInt(n bits)) init 0 \n",
    "         val clearTimer = in Bool()\n",
    "         when(clearTimer){\n",
    "            timer init 0\n",
    "         }.otherwise {\n",
    "            timer := timer + 1\n",
    "         }\n",
    "         (clearTimer,timer)\n",
    "      }\n",
    "   }"
   ]
  },
  {
   "cell_type": "markdown",
   "metadata": {},
   "source": [
    "why not?"
   ]
  },
  {
   "cell_type": "code",
   "execution_count": null,
   "metadata": {},
   "outputs": [],
   "source": [
    "class T2  extends Component{ \n",
    "   val xiaogou =  new Dog\n",
    "   val (weigou,timer) = xiaogou.genTimer(8)\n",
    "} \n",
    "showRtl(new T2) "
   ]
  },
  {
   "cell_type": "code",
   "execution_count": null,
   "metadata": {},
   "outputs": [],
   "source": [
    "class T2  extends Component{  \n",
    "   val (weigou,timer) = (new Dog).genTimer(8)\n",
    "} \n",
    "showRtl(new T2) "
   ]
  },
  {
   "cell_type": "code",
   "execution_count": null,
   "metadata": {},
   "outputs": [],
   "source": [
    "(7 downto 2)\n",
    "implicit class Intexpand(x: Int) {    \n",
    "    def ~(y: Int) = (x downto  y)\n",
    "    def ↓(y: Int) = (x downto  y)\n",
    "    def ↑(y: Int) = (x to  y)\n",
    "    def <->(y: Int) = y match{\n",
    "        case a if a>x => (x to y)\n",
    "        case _ => (x downto y)\n",
    "    }\n",
    "     \n",
    "}\n",
    " (new Intexpand(9)).~(2)\n",
    " \n",
    "(8 downto 2)\n",
    "(8 ~ 2)\n",
    "(2 ~ 9 ) \n",
    "(8 to 2)\n",
    " class T2  extends Component{ \n",
    "   val a =  Bits(10 bits)\n",
    "   val b =  a(8 ↓ 2)\n",
    "   val c =  a(1 ↑ 5)\n",
    "   val c0 =  a(2 <-> 6)\n",
    "   val c1 =  a(9 <-> 1)\n",
    "} \n",
    "showRtl(new T2) "
   ]
  },
  {
   "cell_type": "code",
   "execution_count": null,
   "metadata": {},
   "outputs": [],
   "source": [
    "class TopLevel extends Component {\n",
    "      val io = new Bundle {\n",
    "         val ready = in Bool\n",
    "         val valid = out Bool\n",
    "       }\n",
    "      val valid = RegInit(False)\n",
    "\n",
    "      when(io.ready){\n",
    "        valid := False\n",
    "      }\n",
    "      io.valid <> valid\n",
    "      // some logic\n",
    "\n",
    "      import spinal.core.GenerationFlags._\n",
    "      import spinal.core.Formal._\n",
    "\n",
    "       GenerationFlags.formal{\n",
    "        when(initstate()) {\n",
    "          assume(clockDomain.isResetActive === True)\n",
    "          assume(io.ready === False)\n",
    "        }.otherwise {\n",
    "          assert(!(valid.fall && !io.ready))\n",
    "        }\n",
    "      }\n",
    "}\n",
    "showRtl(new TopLevel)"
   ]
  },
  {
   "cell_type": "code",
   "execution_count": null,
   "metadata": {},
   "outputs": [],
   "source": [
    "class Ram_1w_1r(wordWidth: Int, wordCount: Int) extends BlackBox {\n",
    "\n",
    "  // SpinalHDL will look at Generic classes to get attributes which\n",
    "  // should be used ad VHDL gererics / Verilog parameter\n",
    "  // You can use String Int Double Boolean and all SpinalHDL base types\n",
    "  // as generic value\n",
    "  val generic = new Generic {\n",
    "    val wordCount = Ram_1w_1r.this.wordCount\n",
    "    val wordWidth = Ram_1w_1r.this.wordWidth\n",
    "  }\n",
    "\n",
    "  // Define io of the VHDL entiry / Verilog module\n",
    "  val io = new Bundle {\n",
    "    val clk = in Bool\n",
    "    val wr = new Bundle {\n",
    "      val en   = in Bool\n",
    "      val addr = in UInt (log2Up(wordCount) bit)\n",
    "      val data = in Bits (wordWidth bit)\n",
    "    }\n",
    "    val rd = new Bundle {\n",
    "      val en   = in Bool\n",
    "      val addr = in UInt (log2Up(wordCount) bit)\n",
    "      val data = out Bits (wordWidth bit)\n",
    "    }\n",
    "  }\n",
    "\n",
    "  //Map the current clock domain to the io.clk pin\n",
    "  mapClockDomain(clock=io.clk)\n",
    "}\n",
    "showRtl(new Ram_1w_1r)"
   ]
  },
  {
   "cell_type": "code",
   "execution_count": null,
   "metadata": {},
   "outputs": [],
   "source": [
    "class Taps(val taps: Array[Int]) {\n",
    "  def mask(): Int = {\n",
    "    taps.map(x => 1<<(x-1)).reduce((x,y) => x + y)\n",
    "  }\n",
    "}\n",
    "\n",
    "object Taps{\n",
    "  def apply(args: Int*) = {\n",
    "    new Taps(args.toArray)\n",
    "  }\n",
    "}"
   ]
  },
  {
   "cell_type": "code",
   "execution_count": null,
   "metadata": {},
   "outputs": [],
   "source": [
    "Taps(1,7,8,9,10,11).mask toHexString"
   ]
  },
  {
   "cell_type": "code",
   "execution_count": null,
   "metadata": {},
   "outputs": [],
   "source": [
    "Taps(1,2,3,4,5,8,9,11).mask toHexString"
   ]
  },
  {
   "cell_type": "code",
   "execution_count": null,
   "metadata": {},
   "outputs": [],
   "source": [
    "Taps(3,10).mask toHexString"
   ]
  },
  {
   "cell_type": "code",
   "execution_count": null,
   "metadata": {},
   "outputs": [],
   "source": [
    "Taps(2,3,6,8,9,10).mask toHexString"
   ]
  },
  {
   "cell_type": "code",
   "execution_count": null,
   "metadata": {},
   "outputs": [],
   "source": [
    "class T1 extends Component{\n",
    "    val a = in SInt(8 bits)\n",
    "    val b = a |>> 3\n",
    "}\n",
    "showRtl(new T1)"
   ]
  },
  {
   "cell_type": "code",
   "execution_count": null,
   "metadata": {
    "scrolled": false
   },
   "outputs": [],
   "source": [
    "showRtl( new StreamFifo(\n",
    "    dataType = Bits(32 bits),\n",
    "    depth = 32\n",
    "  ))"
   ]
  },
  {
   "cell_type": "code",
   "execution_count": null,
   "metadata": {},
   "outputs": [],
   "source": [
    "showRtl(new StreamFifoCC(\n",
    "    dataType = Bits(32 bits),\n",
    "    depth = 32,\n",
    "    pushClock = ClockDomain.external(\"clkA\"),\n",
    "    popClock = ClockDomain.external(\"clkB\")\n",
    "  ))"
   ]
  },
  {
   "cell_type": "code",
   "execution_count": null,
   "metadata": {},
   "outputs": [],
   "source": [
    "implicit class UIntexpand(x: UInt) = {\n",
    "   def apply(n: Int): Bool = {\n",
    "     VectorInit(x)(n)\n",
    "   }\n",
    "}\n",
    "a(0) := False 应该就可以了"
   ]
  },
  {
   "cell_type": "code",
   "execution_count": null,
   "metadata": {},
   "outputs": [],
   "source": []
  }
 ],
 "metadata": {
  "kernelspec": {
   "display_name": "Scala",
   "language": "scala",
   "name": "scala"
  },
  "language_info": {
   "codemirror_mode": "text/x-scala",
   "file_extension": ".scala",
   "mimetype": "text/x-scala",
   "name": "scala",
   "nbconvert_exporter": "script",
   "version": "2.12.8"
  },
  "toc": {
   "base_numbering": 1,
   "nav_menu": {},
   "number_sections": true,
   "sideBar": true,
   "skip_h1_title": false,
   "title_cell": "Table of Contents",
   "title_sidebar": "Contents",
   "toc_cell": false,
   "toc_position": {},
   "toc_section_display": true,
   "toc_window_display": false
  }
 },
 "nbformat": 4,
 "nbformat_minor": 2
}
