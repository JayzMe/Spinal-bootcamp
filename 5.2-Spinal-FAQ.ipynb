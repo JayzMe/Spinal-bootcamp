{
 "cells": [
  {
   "cell_type": "markdown",
   "metadata": {},
   "source": [
    "<a name=\"top\"></a><img src=\"source/SpinalHDL.png\" alt=\"SpinalHDL based on Scala\" style=\"width:320px;\" />"
   ]
  },
  {
   "cell_type": "markdown",
   "metadata": {},
   "source": [
    "Before running Spinal HDL code, be sure to load SpinalHDL Libraries  \n",
    "**Note** : This may be a little slow when the first time load, please wait a moment to download Lib from remote.)   "
   ]
  },
  {
   "cell_type": "code",
   "execution_count": 13,
   "metadata": {},
   "outputs": [
    {
     "name": "stdout",
     "output_type": "stream",
     "text": [
      "Compiling E:\\nutstore\\2019bf\\github\\Spinal-bootcamp\\Main.sc"
     ]
    },
    {
     "data": {
      "text/plain": [
       "\u001b[36mpath\u001b[39m: \u001b[32mString\u001b[39m = \u001b[32m\"E:\\\\nutstore\\\\2019bf\\\\github\\\\Spinal-bootcamp/source/load-spinal.sc\"\u001b[39m"
      ]
     },
     "execution_count": 13,
     "metadata": {},
     "output_type": "execute_result"
    }
   ],
   "source": [
    "val path = System.getProperty(\"user.dir\") + \"/source/load-spinal.sc\"\n",
    "interp.load.module(ammonite.ops.Path(java.nio.file.FileSystems.getDefault().getPath(path)))"
   ]
  },
  {
   "cell_type": "markdown",
   "metadata": {},
   "source": [
    "### 1. 位宽推断的使用限制 \n",
    "关于没有位宽声明的getWidth用法\n",
    "```scala\n",
    "  val c = UInt()\n",
    "  c.getWidth   // X Failed !\n",
    "  c:= a + b\n",
    "  c.getWidth   // is ok, because c width already inferred by \"c := a + b\"\n",
    "```\n",
    "另外一个例子， setAll 函数需要getWidth方法\n",
    "```scala\n",
    " val c = out UInt() \n",
    " when(clc){c.setAll }.otherwise(c := a * b)  //failed\n",
    " when(clc){c := a * b }.otherwise(c.setAll)  //It's OK\n",
    "```"
   ]
  },
  {
   "cell_type": "code",
   "execution_count": null,
   "metadata": {},
   "outputs": [],
   "source": [
    "class T2  extends Component{\n",
    "    val a,b = in UInt(8 bits)\n",
    "    val clc= in Bool()\n",
    "    val c = out UInt() \n",
    "//  when(clc){c.setAll }.otherwise(c := a * b)  //failed   \n",
    "  when(clc){c := a * b }.otherwise(c.setAll)  //It's OK\n",
    "}\n",
    "showRtl(new T2)"
   ]
  },
  {
   "cell_type": "markdown",
   "metadata": {},
   "source": [
    "### 2. asBool问题 \n",
    "对于1bit的数据操作，第一种和后面两个方法是有区别的，请注意\n",
    "- a.asBits  \n",
    "- a.lsb     \n",
    "- a(0) \n",
    "```scala\n",
    "val a= Bits(1 bits)\n",
    "a.asBits //返回一个新的Bool，将 tmp := a.lsb\n",
    "a.lsb    //直接操作a(0) bit\n",
    "a(0)     //\n",
    "```"
   ]
  },
  {
   "cell_type": "code",
   "execution_count": null,
   "metadata": {},
   "outputs": [],
   "source": [
    "class T1  extends Component{  \n",
    "  val sel = in Bool()\n",
    "  val a = Reg(Bits(1 bits)) init 0 \n",
    "  when(sel){a.asBool.set()} //generate verilog beyond your expectations\n",
    "}\n",
    "showRtl(new T1)  "
   ]
  },
  {
   "cell_type": "code",
   "execution_count": null,
   "metadata": {},
   "outputs": [],
   "source": [
    "class T2  extends Component{  \n",
    "  val sel = in Bool()\n",
    "  val a = Reg(Bits(1 bits)) init 0 \n",
    "  when(sel){a(0).set()} \n",
    "  // when(sel){a.lsb.set()}  //also Ok\n",
    "}\n",
    "showRtl(new T2) "
   ]
  },
  {
   "cell_type": "markdown",
   "metadata": {},
   "source": [
    "## 3. val def in Trait\n",
    "**Attation** val cause Error "
   ]
  },
  {
   "cell_type": "code",
   "execution_count": null,
   "metadata": {},
   "outputs": [],
   "source": [
    "trait PRNBase {\n",
    "  val size: Int \n",
    "\n",
    "  val Mask = (1 << size) - 1\n",
    "  val Msb  = (1 << (size - 1))\n",
    "}\n",
    "\n",
    "object GPS extends PRNBase{\n",
    "    val size = 1023\n",
    "}\n",
    "\n",
    "object BD extends PRNBase{\n",
    "    val size = 2046\n",
    "}\n",
    "BD.Mask toHexString // return 0"
   ]
  },
  {
   "cell_type": "code",
   "execution_count": null,
   "metadata": {},
   "outputs": [],
   "source": [
    "trait PRNBase {\n",
    "  val size: Int \n",
    "\n",
    "  def Mask = (1 << size) - 1\n",
    "  def Msb  = (1 << (size - 1))\n",
    "}\n",
    "object BD extends PRNBase{\n",
    "    val size = 11\n",
    "}\n",
    "BD.Mask toHexString"
   ]
  },
  {
   "cell_type": "markdown",
   "metadata": {},
   "source": [
    "## 4. Scala double definition  \n",
    "```scala \n",
    "class TestDoubleDef{\n",
    "  def foo(p:List[String]) = {}\n",
    "  def foo(p:List[Int]) = {}\n",
    "}\n",
    "```\n",
    "**raise Error:**\n",
    "```sh\n",
    "[error] double definition:\n",
    "[error] method foo:(List[String])Unit and\n",
    "[error] method foo:(List[Int])Unit at line 120\n",
    "[error] have same type after erasure: (List)Unit \n",
    "```\n",
    "Solution: https://stackoverflow.com/questions/3307427/scala-double-definition-2-methods-have-the-same-type-erasure/3544060#3544060"
   ]
  },
  {
   "cell_type": "code",
   "execution_count": null,
   "metadata": {},
   "outputs": [],
   "source": [
    "object MyTransform{\n",
    "  def apply(x: Int ): Double              = x + 0.00 \n",
    "  def apply(x: List[Int] ): List[Double]  = x.map(_+0.00)\n",
    "  def apply(x: List[Double] ): List[Double] = x.map(_+0.00)\n",
    "}"
   ]
  },
  {
   "cell_type": "markdown",
   "metadata": {},
   "source": [
    "**Use implict transform**"
   ]
  },
  {
   "cell_type": "code",
   "execution_count": null,
   "metadata": {},
   "outputs": [],
   "source": [
    "case class IntList(list: List[Int])\n",
    "case class DoubleList(list: List[Double])\n",
    "\n",
    "implicit def Il(list: List[Int]) = IntList(list)\n",
    "implicit def Dl(list: List[Double]) = DoubleList(list)\n",
    "\n",
    "object FixTo{\n",
    "  def apply(x: Int ): Double              = x + 0.00 \n",
    "  def apply(x: IntList ): List[Double]    = x.list.map(_+0.00)\n",
    "  def apply(x: DoubleList ): List[Double] = x.list.map(_+0.00)\n",
    "}"
   ]
  },
  {
   "cell_type": "code",
   "execution_count": null,
   "metadata": {},
   "outputs": [],
   "source": [
    "val a = FixTo(3)\n",
    "val b = FixTo(DoubleList(List(1,2,3,4,5)))\n",
    "val c = FixTo(List(1,2,3,4,5))"
   ]
  },
  {
   "cell_type": "markdown",
   "metadata": {},
   "source": [
    "### Watch Dog\n"
   ]
  },
  {
   "cell_type": "code",
   "execution_count": null,
   "metadata": {},
   "outputs": [],
   "source": [
    "class T2  extends Component{ \n",
    "    val a = out Bits(9 bit)\n",
    "    a := 133\n",
    "    class Dog{}\n",
    "    val xiaogou = new Dog\n",
    "\n",
    "}\n",
    "showRtl(new T2) "
   ]
  },
  {
   "cell_type": "code",
   "execution_count": null,
   "metadata": {},
   "outputs": [],
   "source": [
    "class T2  extends Component{ \n",
    "   class Dog{\n",
    "      def genTimer(n: Int) = {\n",
    "         val timer = Reg(UInt(n bits)) init 0 \n",
    "         val clearTimer = in Bool()\n",
    "         when(clearTimer){\n",
    "            timer init 0\n",
    "         }.otherwise {\n",
    "            timer := timer + 1\n",
    "         }\n",
    "         (clearTimer,timer)\n",
    "      }\n",
    "   }\n",
    "   val xiaogou = new Dog\n",
    "   val (weigou,timer) = xiaogou.genTimer(8)\n",
    "} \n",
    "showRtl(new T2) "
   ]
  },
  {
   "cell_type": "code",
   "execution_count": null,
   "metadata": {},
   "outputs": [],
   "source": [
    " class Dog {\n",
    "      def genTimer(n: Int) = {\n",
    "         val timer = Reg(UInt(n bits)) init 0 \n",
    "         val clearTimer = in Bool()\n",
    "         when(clearTimer){\n",
    "            timer init 0\n",
    "         }.otherwise {\n",
    "            timer := timer + 1\n",
    "         }\n",
    "         (clearTimer,timer)\n",
    "      }\n",
    "   }"
   ]
  },
  {
   "cell_type": "markdown",
   "metadata": {},
   "source": [
    "why not?"
   ]
  },
  {
   "cell_type": "code",
   "execution_count": null,
   "metadata": {},
   "outputs": [],
   "source": [
    "class T2  extends Component{ \n",
    "   val xiaogou =  new Dog\n",
    "   val (weigou,timer) = xiaogou.genTimer(8)\n",
    "} \n",
    "showRtl(new T2) "
   ]
  },
  {
   "cell_type": "code",
   "execution_count": null,
   "metadata": {},
   "outputs": [],
   "source": [
    "class T2  extends Component{  \n",
    "   val (weigou,timer) = (new Dog).genTimer(8)\n",
    "} \n",
    "showRtl(new T2) "
   ]
  },
  {
   "cell_type": "code",
   "execution_count": null,
   "metadata": {},
   "outputs": [],
   "source": [
    "(7 downto 2)\n",
    "implicit class Intexpand(x: Int) {    \n",
    "    def ~(y: Int) = (x downto  y)\n",
    "    def ↓(y: Int) = (x downto  y)\n",
    "    def ↑(y: Int) = (x to  y)\n",
    "    def <->(y: Int) = y match{\n",
    "        case a if a>x => (x to y)\n",
    "        case _ => (x downto y)\n",
    "    }\n",
    "     \n",
    "}\n",
    " (new Intexpand(9)).~(2)\n",
    " \n",
    "(8 downto 2)\n",
    "(8 ~ 2)\n",
    "(2 ~ 9 ) \n",
    "(8 to 2)\n",
    " class T2  extends Component{ \n",
    "   val a =  Bits(10 bits)\n",
    "   val b =  a(8 ↓ 2)\n",
    "   val c =  a(1 ↑ 5)\n",
    "   val c0 =  a(2 <-> 6)\n",
    "   val c1 =  a(9 <-> 1)\n",
    "} \n",
    "showRtl(new T2) "
   ]
  },
  {
   "cell_type": "code",
   "execution_count": null,
   "metadata": {},
   "outputs": [],
   "source": [
    "class TopLevel extends Component {\n",
    "      val io = new Bundle {\n",
    "         val ready = in Bool\n",
    "         val valid = out Bool\n",
    "       }\n",
    "      val valid = RegInit(False)\n",
    "\n",
    "      when(io.ready){\n",
    "        valid := False\n",
    "      }\n",
    "      io.valid <> valid\n",
    "      // some logic\n",
    "\n",
    "      import spinal.core.GenerationFlags._\n",
    "      import spinal.core.Formal._\n",
    "\n",
    "       GenerationFlags.formal{\n",
    "        when(initstate()) {\n",
    "          assume(clockDomain.isResetActive === True)\n",
    "          assume(io.ready === False)\n",
    "        }.otherwise {\n",
    "          assert(!(valid.fall && !io.ready))\n",
    "        }\n",
    "      }\n",
    "}\n",
    "showRtl(new TopLevel)"
   ]
  },
  {
   "cell_type": "code",
   "execution_count": null,
   "metadata": {},
   "outputs": [],
   "source": [
    "class Ram_1w_1r(wordWidth: Int, wordCount: Int) extends BlackBox {\n",
    "\n",
    "  // SpinalHDL will look at Generic classes to get attributes which\n",
    "  // should be used ad VHDL gererics / Verilog parameter\n",
    "  // You can use String Int Double Boolean and all SpinalHDL base types\n",
    "  // as generic value\n",
    "  val generic = new Generic {\n",
    "    val wordCount = Ram_1w_1r.this.wordCount\n",
    "    val wordWidth = Ram_1w_1r.this.wordWidth\n",
    "  }\n",
    "\n",
    "  // Define io of the VHDL entiry / Verilog module\n",
    "  val io = new Bundle {\n",
    "    val clk = in Bool\n",
    "    val wr = new Bundle {\n",
    "      val en   = in Bool\n",
    "      val addr = in UInt (log2Up(wordCount) bit)\n",
    "      val data = in Bits (wordWidth bit)\n",
    "    }\n",
    "    val rd = new Bundle {\n",
    "      val en   = in Bool\n",
    "      val addr = in UInt (log2Up(wordCount) bit)\n",
    "      val data = out Bits (wordWidth bit)\n",
    "    }\n",
    "  }\n",
    "\n",
    "  //Map the current clock domain to the io.clk pin\n",
    "  mapClockDomain(clock=io.clk)\n",
    "}\n",
    "showRtl(new Ram_1w_1r)"
   ]
  },
  {
   "cell_type": "code",
   "execution_count": null,
   "metadata": {},
   "outputs": [],
   "source": [
    "class Taps(val taps: Array[Int]) {\n",
    "  def mask(): Int = {\n",
    "    taps.map(x => 1<<(x-1)).reduce((x,y) => x + y)\n",
    "  }\n",
    "}\n",
    "\n",
    "object Taps{\n",
    "  def apply(args: Int*) = {\n",
    "    new Taps(args.toArray)\n",
    "  }\n",
    "}"
   ]
  },
  {
   "cell_type": "code",
   "execution_count": null,
   "metadata": {},
   "outputs": [],
   "source": [
    "Taps(1,7,8,9,10,11).mask toHexString"
   ]
  },
  {
   "cell_type": "code",
   "execution_count": null,
   "metadata": {},
   "outputs": [],
   "source": [
    "Taps(1,2,3,4,5,8,9,11).mask toHexString"
   ]
  },
  {
   "cell_type": "code",
   "execution_count": null,
   "metadata": {},
   "outputs": [],
   "source": [
    "Taps(3,10).mask toHexString"
   ]
  },
  {
   "cell_type": "code",
   "execution_count": null,
   "metadata": {},
   "outputs": [],
   "source": [
    "Taps(2,3,6,8,9,10).mask toHexString"
   ]
  },
  {
   "cell_type": "code",
   "execution_count": null,
   "metadata": {},
   "outputs": [],
   "source": [
    "class T1 extends Component{\n",
    "    val a = in SInt(8 bits)\n",
    "    val b = a |>> 3\n",
    "}\n",
    "showRtl(new T1)"
   ]
  },
  {
   "cell_type": "code",
   "execution_count": null,
   "metadata": {
    "scrolled": false
   },
   "outputs": [],
   "source": [
    "showRtl( new StreamFifo(\n",
    "    dataType = Bits(32 bits),\n",
    "    depth = 32\n",
    "  ))"
   ]
  },
  {
   "cell_type": "code",
   "execution_count": null,
   "metadata": {},
   "outputs": [],
   "source": [
    "showRtl(new StreamFifoCC(\n",
    "    dataType = Bits(32 bits),\n",
    "    depth = 32,\n",
    "    pushClock = ClockDomain.external(\"clkA\"),\n",
    "    popClock = ClockDomain.external(\"clkB\")\n",
    "  ))"
   ]
  },
  {
   "cell_type": "code",
   "execution_count": 24,
   "metadata": {},
   "outputs": [
    {
     "data": {
      "text/plain": [
       "\u001b[36mres23\u001b[39m: (\u001b[32mBigDecimal\u001b[39m, \u001b[32mString\u001b[39m) = (10.1, \u001b[32m\"ms\"\u001b[39m)"
      ]
     },
     "execution_count": 24,
     "metadata": {},
     "output_type": "execute_result"
    }
   ],
   "source": [
    "TimeNumber(0.0101).decompose"
   ]
  },
  {
   "cell_type": "code",
   "execution_count": 40,
   "metadata": {},
   "outputs": [
    {
     "name": "stdout",
     "output_type": "stream",
     "text": [
      "100.21 MHz\n"
     ]
    },
    {
     "data": {
      "text/plain": [
       "defined \u001b[32mclass\u001b[39m \u001b[36mUtilsExpand\u001b[39m"
      ]
     },
     "execution_count": 40,
     "metadata": {},
     "output_type": "execute_result"
    }
   ],
   "source": [
    "implicit class UtilsExpand(x: HertzNumber) {\n",
    "      def toString0: String = {\n",
    "      x.toBigDecimal match {\n",
    "        case y if y > BigDecimal(1e12) => (y/BigDecimal(1e12)).toDouble + \" THz\"\n",
    "        case y if y > BigDecimal(1e9)  => (y/BigDecimal(1e9)).toDouble + \" GHz\"\n",
    "        case y if y > BigDecimal(1e6)  => (y/BigDecimal(1e6)).toDouble + \" MHz\"\n",
    "        case y if y > BigDecimal(1e3)  => (y/BigDecimal(1e3)).toDouble + \" KHz\"\n",
    "        case _ => x.toBigDecimal + \"Hz\"\n",
    "      }\n",
    "    }\n",
    "  }\n",
    "println((100.21 MHz).toString0)"
   ]
  },
  {
   "cell_type": "code",
   "execution_count": 37,
   "metadata": {},
   "outputs": [
    {
     "name": "stdout",
     "output_type": "stream",
     "text": [
      "800.01 KHz\n"
     ]
    }
   ],
   "source": [
    "println(HertzNumber(800010).toString0)"
   ]
  },
  {
   "cell_type": "code",
   "execution_count": 47,
   "metadata": {},
   "outputs": [
    {
     "data": {
      "text/plain": [
       "\u001b[36mres46\u001b[39m: \u001b[32mBigInt\u001b[39m = 292"
      ]
     },
     "execution_count": 47,
     "metadata": {},
     "output_type": "execute_result"
    }
   ],
   "source": [
    "(2 KiB)/7"
   ]
  },
  {
   "cell_type": "code",
   "execution_count": 49,
   "metadata": {},
   "outputs": [
    {
     "data": {
      "text/plain": [
       "\u001b[36mres48\u001b[39m: \u001b[32mDouble\u001b[39m = \u001b[32m292.57142857142856\u001b[39m"
      ]
     },
     "execution_count": 49,
     "metadata": {},
     "output_type": "execute_result"
    }
   ],
   "source": [
    "2048/7.0"
   ]
  },
  {
   "cell_type": "code",
   "execution_count": 86,
   "metadata": {},
   "outputs": [
    {
     "name": "stdout",
     "output_type": "stream",
     "text": [
      "1 YiB\n"
     ]
    },
    {
     "data": {
      "text/plain": [
       "defined \u001b[32mclass\u001b[39m \u001b[36mByteExpand\u001b[39m"
      ]
     },
     "execution_count": 86,
     "metadata": {},
     "output_type": "execute_result"
    }
   ],
   "source": [
    "implicit class ByteExpand(x: BigInt) {\n",
    "    def pretty: String = {\n",
    "      x match {\n",
    "        case y if y >= (BigInt(1) << 80) => (y/(BigInt(1)<<80)) + \" YiB\"\n",
    "        case y if y >= (BigInt(1) << 70) => (y/(BigInt(1)<<70)) + \" ZiB\"\n",
    "        case y if y >= (BigInt(1) << 60) => (y/(BigInt(1)<<60)) + \" EiB\"\n",
    "        case y if y >= (BigInt(1) << 50) => (y/(BigInt(1)<<50)) + \" PiB\"\n",
    "        case y if y >= (BigInt(1) << 40) => (y/(BigInt(1)<<40)) + \" TiB\"\n",
    "        case y if y >= (BigInt(1) << 30) => (y/(BigInt(1)<<30)) + \" GiB\"\n",
    "        case y if y >= (BigInt(1) << 20) => (y/(BigInt(1)<<20)) + \" MiB\"\n",
    "        case y if y >= (BigInt(1) << 10) => (y/(BigInt(1)<<10)) + \" KiB\"\n",
    "        case _ => x + \"Byte\"\n",
    "      }\n",
    "    }\n",
    "  }\n",
    "\n",
    "println((BigInt(1) << 80 Byte).pretty)"
   ]
  },
  {
   "cell_type": "code",
   "execution_count": 54,
   "metadata": {},
   "outputs": [
    {
     "data": {
      "text/plain": [
       "\u001b[36mres53\u001b[39m: \u001b[32mBigInt\u001b[39m = 21474836480"
      ]
     },
     "execution_count": 54,
     "metadata": {},
     "output_type": "execute_result"
    }
   ],
   "source": [
    "20 GiB"
   ]
  },
  {
   "cell_type": "code",
   "execution_count": 59,
   "metadata": {},
   "outputs": [
    {
     "data": {
      "text/plain": [
       "\u001b[36mres58\u001b[39m: \u001b[32mBigInt\u001b[39m = 21474836480"
      ]
     },
     "execution_count": 59,
     "metadata": {},
     "output_type": "execute_result"
    }
   ],
   "source": [
    "BigInt(20) << 30\n"
   ]
  },
  {
   "cell_type": "code",
   "execution_count": 60,
   "metadata": {},
   "outputs": [
    {
     "data": {
      "text/plain": [
       "\u001b[36mres59\u001b[39m: \u001b[32mBigInt\u001b[39m = 20"
      ]
     },
     "execution_count": 60,
     "metadata": {},
     "output_type": "execute_result"
    }
   ],
   "source": [
    "BigInt(20)"
   ]
  },
  {
   "cell_type": "code",
   "execution_count": 64,
   "metadata": {},
   "outputs": [
    {
     "data": {
      "text/plain": [
       "\u001b[36mres63\u001b[39m: \u001b[32mBigInt\u001b[39m = 1024"
      ]
     },
     "execution_count": 64,
     "metadata": {},
     "output_type": "execute_result"
    }
   ],
   "source": [
    "BigInt(1) << 10"
   ]
  },
  {
   "cell_type": "code",
   "execution_count": 78,
   "metadata": {},
   "outputs": [
    {
     "data": {
      "text/plain": [
       "\u001b[36mres77\u001b[39m: \u001b[32mBigInt\u001b[39m = 1099511627776"
      ]
     },
     "execution_count": 78,
     "metadata": {},
     "output_type": "execute_result"
    }
   ],
   "source": [
    "BigInt(1) << 40"
   ]
  },
  {
   "cell_type": "code",
   "execution_count": 75,
   "metadata": {},
   "outputs": [
    {
     "data": {
      "text/plain": [
       "\u001b[36ma\u001b[39m: \u001b[32mBigInt\u001b[39m = 1208925819614629174706176"
      ]
     },
     "execution_count": 75,
     "metadata": {},
     "output_type": "execute_result"
    }
   ],
   "source": [
    "val a = BigInt(1) << 80"
   ]
  },
  {
   "cell_type": "code",
   "execution_count": 77,
   "metadata": {},
   "outputs": [
    {
     "data": {
      "text/plain": [
       "\u001b[36mres76\u001b[39m: \u001b[32mString\u001b[39m = \u001b[32m\"4.294967296E9TiB\"\u001b[39m"
      ]
     },
     "execution_count": 77,
     "metadata": {},
     "output_type": "execute_result"
    }
   ],
   "source": [
    "BigInt(1) << 40 pretty\n"
   ]
  },
  {
   "cell_type": "code",
   "execution_count": 80,
   "metadata": {},
   "outputs": [
    {
     "data": {
      "text/plain": [
       "\u001b[36mres79\u001b[39m: \u001b[32mDouble\u001b[39m = \u001b[32m233.0\u001b[39m"
      ]
     },
     "execution_count": 80,
     "metadata": {},
     "output_type": "execute_result"
    }
   ],
   "source": [
    " BigInt(233) toDouble"
   ]
  },
  {
   "cell_type": "code",
   "execution_count": 85,
   "metadata": {},
   "outputs": [
    {
     "data": {
      "text/plain": [
       "\u001b[36mres84\u001b[39m: \u001b[32mString\u001b[39m = \u001b[32m\"1 YiB\"\u001b[39m"
      ]
     },
     "execution_count": 85,
     "metadata": {},
     "output_type": "execute_result"
    }
   ],
   "source": [
    "a pretty"
   ]
  },
  {
   "cell_type": "code",
   "execution_count": 87,
   "metadata": {},
   "outputs": [
    {
     "data": {
      "text/plain": [
       "\u001b[36mb\u001b[39m: \u001b[32mBigInt\u001b[39m = 1208925819614629174705853"
      ]
     },
     "execution_count": 87,
     "metadata": {},
     "output_type": "execute_result"
    }
   ],
   "source": [
    "val b = a-323\n"
   ]
  },
  {
   "cell_type": "code",
   "execution_count": 88,
   "metadata": {},
   "outputs": [
    {
     "data": {
      "text/plain": [
       "\u001b[36mres87\u001b[39m: \u001b[32mString\u001b[39m = \u001b[32m\"1023 ZiB\"\u001b[39m"
      ]
     },
     "execution_count": 88,
     "metadata": {},
     "output_type": "execute_result"
    }
   ],
   "source": [
    "b pretty "
   ]
  },
  {
   "cell_type": "code",
   "execution_count": null,
   "metadata": {},
   "outputs": [],
   "source": []
  }
 ],
 "metadata": {
  "kernelspec": {
   "display_name": "Scala",
   "language": "scala",
   "name": "scala"
  },
  "language_info": {
   "codemirror_mode": "text/x-scala",
   "file_extension": ".scala",
   "mimetype": "text/x-scala",
   "name": "scala",
   "nbconvert_exporter": "script",
   "version": "2.12.8"
  },
  "toc": {
   "base_numbering": 1,
   "nav_menu": {},
   "number_sections": true,
   "sideBar": true,
   "skip_h1_title": false,
   "title_cell": "Table of Contents",
   "title_sidebar": "Contents",
   "toc_cell": false,
   "toc_position": {},
   "toc_section_display": true,
   "toc_window_display": false
  }
 },
 "nbformat": 4,
 "nbformat_minor": 2
}
