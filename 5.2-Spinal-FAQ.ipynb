{
 "cells": [
  {
   "cell_type": "markdown",
   "metadata": {},
   "source": [
    "<a name=\"top\"></a><img src=\"source/SpinalHDL.png\" alt=\"SpinalHDL based on Scala\" style=\"width:320px;\" />"
   ]
  },
  {
   "cell_type": "markdown",
   "metadata": {},
   "source": [
    "运行SpinalHDL代码之前，务必加载SpinalHDL的库 \n",
    "（**注**：*第一次运行时需要下载库，可能会有点慢，请耐心等待*）"
   ]
  },
  {
   "cell_type": "code",
   "execution_count": null,
   "metadata": {},
   "outputs": [],
   "source": [
    "val path = System.getProperty(\"user.dir\") + \"/source/load-spinal.sc\"\n",
    "interp.load.module(ammonite.ops.Path(java.nio.file.FileSystems.getDefault().getPath(path)))"
   ]
  },
  {
   "cell_type": "markdown",
   "metadata": {},
   "source": [
    "### 1. 位宽推断的使用限制 \n",
    "关于没有位宽声明的getWidth用法\n",
    "```scala\n",
    "  val c = UInt()\n",
    "  c.getWidth   // X Failed !\n",
    "  c:= a + b\n",
    "  c.getWidth   // is ok, because c width already inferred by \"c := a + b\"\n",
    "```\n",
    "另外一个例子， setAll 函数需要getWidth方法\n",
    "```scala\n",
    " val c = out UInt() \n",
    " when(clc){c.setAll }.otherwise(c := a * b)  //failed\n",
    " when(clc){c := a * b }.otherwise(c.setAll)  //It's OK\n",
    "```"
   ]
  },
  {
   "cell_type": "code",
   "execution_count": null,
   "metadata": {},
   "outputs": [],
   "source": [
    "class T2  extends Component{\n",
    "    val a,b = in UInt(8 bits)\n",
    "    val clc= in Bool()\n",
    "    val c = out UInt() \n",
    "//  when(clc){c.setAll }.otherwise(c := a * b)  //failed   \n",
    "  when(clc){c := a * b }.otherwise(c.setAll)  //It's OK\n",
    "}\n",
    "showRtl(new T2)"
   ]
  },
  {
   "cell_type": "markdown",
   "metadata": {},
   "source": [
    "### 2. asBool问题 \n",
    "对于1bit的数据操作，第一种和后面两个方法是有区别的，请注意\n",
    "- a.asBits  \n",
    "- a.lsb     \n",
    "- a(0) \n",
    "```scala\n",
    "val a= Bits(1 bits)\n",
    "a.asBits //返回一个新的Bool，将 tmp := a.lsb\n",
    "a.lsb    //直接操作a(0) bit\n",
    "a(0)     //\n",
    "```"
   ]
  },
  {
   "cell_type": "code",
   "execution_count": null,
   "metadata": {},
   "outputs": [],
   "source": [
    "class T1  extends Component{  \n",
    "  val sel = in Bool()\n",
    "  val a = Reg(Bits(1 bits)) init 0 \n",
    "  when(sel){a.asBool.set()} //generate verilog beyond your expectations\n",
    "}\n",
    "showRtl(new T1)  "
   ]
  },
  {
   "cell_type": "code",
   "execution_count": null,
   "metadata": {},
   "outputs": [],
   "source": [
    "class T2  extends Component{  \n",
    "  val sel = in Bool()\n",
    "  val a = Reg(Bits(1 bits)) init 0 \n",
    "  when(sel){a(0).set()} \n",
    "  // when(sel){a.lsb.set()}  //also Ok\n",
    "}\n",
    "showRtl(new T2) "
   ]
  }
 ],
 "metadata": {
  "kernelspec": {
   "display_name": "Scala",
   "language": "scala",
   "name": "scala"
  },
  "language_info": {
   "codemirror_mode": "text/x-scala",
   "file_extension": ".scala",
   "mimetype": "text/x-scala",
   "name": "scala",
   "nbconvert_exporter": "script",
   "version": "2.12.8"
  },
  "toc": {
   "base_numbering": 1,
   "nav_menu": {},
   "number_sections": true,
   "sideBar": true,
   "skip_h1_title": false,
   "title_cell": "Table of Contents",
   "title_sidebar": "Contents",
   "toc_cell": false,
   "toc_position": {},
   "toc_section_display": true,
   "toc_window_display": false
  }
 },
 "nbformat": 4,
 "nbformat_minor": 2
}
