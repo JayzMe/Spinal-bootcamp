{
 "cells": [
  {
   "cell_type": "markdown",
   "metadata": {},
   "source": [
    "<a name=\"top\"></a><img src=\"source/SpinalHDL.png\" alt=\"SpinalHDL based on Scala\" style=\"width:320px;\" />"
   ]
  },
  {
   "cell_type": "markdown",
   "metadata": {},
   "source": [
    "运行SpinalHDL代码之前，务必加载SpinalHDL的库 \n",
    "（**注**：*第一次运行时需要下载库，可能会有点慢，请耐心等待*）"
   ]
  },
  {
   "cell_type": "code",
   "execution_count": null,
   "metadata": {},
   "outputs": [],
   "source": [
    "val path = System.getProperty(\"user.dir\") + \"/source/load-spinal.sc\"\n",
    "interp.load.module(ammonite.ops.Path(java.nio.file.FileSystems.getDefault().getPath(path)))"
   ]
  },
  {
   "cell_type": "code",
   "execution_count": null,
   "metadata": {},
   "outputs": [],
   "source": [
    "case class RGB(channelWidth: Int) extends Bundle{\n",
    "  val red   = UInt(channelWidth bit)\n",
    "  val green = UInt(channelWidth bit)\n",
    "  val blue  = UInt(channelWidth bit)\n",
    "  def isBlack : Bool = red === 0 && green === 0 && blue === 0\n",
    "} \n",
    "\n",
    "class MyRGB extends Component{\n",
    "  val source = slave  Stream(RGB(8))\n",
    "  val sink   = master Stream(RGB(8))\n",
    "  sink <-< source.s2mPipe\n",
    "} \n",
    "\n",
    "showRtl(new MyRGB)class T3 extends Component{\n",
    " val a = in(UInt(8 bits))\n",
    " val b = out(UInt(8 bits))\n",
    " b := a + 133\n",
    "}"
   ]
  },
  {
   "cell_type": "code",
   "execution_count": null,
   "metadata": {},
   "outputs": [],
   "source": [
    "class Myflow1 extends Component{\n",
    "    val source = slave  Flow(RGB(8))\n",
    "    val sink   = master Flow(RGB(8))\n",
    "    sink <-< source \n",
    "}\n",
    "\n",
    "showRtl(new Myflow1)"
   ]
  },
  {
   "cell_type": "code",
   "execution_count": null,
   "metadata": {},
   "outputs": [],
   "source": [
    "class T1 extends Component{\n",
    "    val a = slave Flow(UInt(8 bits) )\n",
    "    val b = master Flow(UInt())\n",
    "    val tmp = a.toStream\n",
    "    b := tmp.toFlow\n",
    "}\n",
    "showRtl(new T1)"
   ]
  },
  {
   "cell_type": "code",
   "execution_count": null,
   "metadata": {},
   "outputs": [],
   "source": [
    "class T1 extends Component{\n",
    "    val a = slave Flow(UInt(8 bits) )\n",
    "    val b = master Stream(UInt())\n",
    "    definitionName =\"myT1\"\n",
    "    b << a.toStream\n",
    "}\n",
    "showRtl(new T1)"
   ]
  },
  {
   "cell_type": "code",
   "execution_count": null,
   "metadata": {},
   "outputs": [],
   "source": [
    "class T1 extends Component{\n",
    "    val a = slave Stream(UInt(8 bits))\n",
    "    val b = master Flow(UInt(8 bits) ) \n",
    "    b << a.toFlow\n",
    "}\n",
    "showRtl(new T1)"
   ]
  },
  {
   "cell_type": "code",
   "execution_count": null,
   "metadata": {},
   "outputs": [],
   "source": [
    "case class FilterConfig(iqWidth: Int, \n",
    "                        tapNumbers: Int = 33,\n",
    "                        hwFreq: HertzNumber = 200 MHz, \n",
    "                        sampleFreq: HertzNumber = 1.92 MHz)\n",
    "\n",
    "case class IQ(width: Int) extends Bundle{\n",
    "  val I,Q = SInt(width bits)\n",
    "}\n",
    "\n",
    "class Filter(fc: FilterConfig) extends Component{\n",
    "  //val din   = slave Flow(IQ(fc.iqWidth))\n",
    "  //val dout  = master Flow(IQ(fc.iqWidth))\n",
    "  val din   = slave Flow(Bits(32 bits))\n",
    "  val dout  = master Flow(Bits(32 bits))\n",
    "  val flush = in Bool\n",
    "    \n",
    "  val clockSMP = ClockDomain.external(\"smp\")\n",
    "  val clockHW = ClockDomain.external(\"hw\")\n",
    "    \n",
    "  val u_fifo_in = StreamFifoCC(\n",
    "      dataType = Bits(32 bits), \n",
    "      depth = 8,\n",
    "      pushClock = clockSMP,\n",
    "      popClock = clockDomain\n",
    "  )\n",
    "    \n",
    "  u_fifo_in.io.push << din.toStream \n",
    "  dout << u_fifo_in.io.pop.toFlow\n",
    "    \n",
    "}\n",
    "\n",
    "showRtl(new Filter(FilterConfig(8)))"
   ]
  },
  {
   "cell_type": "markdown",
   "metadata": {},
   "source": [
    "增加OUT"
   ]
  },
  {
   "cell_type": "code",
   "execution_count": null,
   "metadata": {},
   "outputs": [],
   "source": [
    "class IQ extends Bundle{\n",
    "  val I, Q = SInt(8 bits)\n",
    "}\n",
    "class Filter extends Component{\n",
    "    val din = slave Flow(new IQ)    \n",
    "    val dout = master Stream(new IQ)\n",
    "    \n",
    "    val u_asyncfifo = StreamFifoCC(\n",
    "    dataType = din.payload,\n",
    "    depth = 8,\n",
    "    pushClock = ClockDomain.external(\"smp\"),\n",
    "    popClock = clockDomain)\n",
    "    \n",
    "    u_asyncfifo.io.push << din.toStream\n",
    "    dout << u_asyncfifo.io.pop\n",
    "}\n",
    "showRtl(new Filter)"
   ]
  },
  {
   "cell_type": "code",
   "execution_count": null,
   "metadata": {},
   "outputs": [],
   "source": [
    "class IQ extends Bundle{\n",
    "  val I, Q = SInt(8 bits)\n",
    "}\n",
    "class Filter extends Component{\n",
    "    val din = slave Flow(new IQ)    \n",
    "    val dout = master Stream(new IQ)\n",
    "    dout << din.toStream.queue(16)\n",
    "}\n",
    "showRtl(new Filter)"
   ]
  },
  {
   "cell_type": "code",
   "execution_count": null,
   "metadata": {},
   "outputs": [],
   "source": [
    "class IQin extends Bundle \n",
    "class T2 extends Component{\n",
    "    val din = slave Flow(new IQ)\n",
    "    val din0 = in(new IQ)\n",
    "}\n",
    "showRtl(new T2)"
   ]
  },
  {
   "cell_type": "code",
   "execution_count": null,
   "metadata": {},
   "outputs": [],
   "source": [
    "case class Color(channelWidth: Int) extends Bundle {\n",
    "  val r,g,b = UInt(channelWidth bits)\n",
    "}\n",
    "class T3 extends Component{\n",
    "  val io = new Bundle{\n",
    "   val input  = in (Color(8) )\n",
    "   val output = out(Color(8))\n",
    "}\n",
    "    io.output <> io.input\n",
    "}\n",
    "showRtl(new T3)"
   ]
  },
  {
   "cell_type": "code",
   "execution_count": null,
   "metadata": {},
   "outputs": [],
   "source": [
    "class T3 extends Component{\n",
    "    val a = in UInt(8 bits)\n",
    "    val b = in SInt(8 bits)\n",
    "    val c = out SInt()\n",
    "    c := a.resize(a.getWidth + 1).asSInt + b\n",
    "}\n",
    "\n",
    "showRtl(new T3)"
   ]
  },
  {
   "cell_type": "code",
   "execution_count": null,
   "metadata": {},
   "outputs": [],
   "source": [
    "class T3 extends Component{\n",
    "    val a = in UInt(8 bits)\n",
    "    val b = in SInt(8 bits)\n",
    "    val c = out SInt()\n",
    "    c := S(a.resize(a.getWidth + 1)) + b\n",
    "}\n",
    "\n",
    "showRtl(new T3)"
   ]
  },
  {
   "cell_type": "code",
   "execution_count": null,
   "metadata": {},
   "outputs": [],
   "source": [
    "println(((132.5 MHz).toTime/(1E-9)).toInt)"
   ]
  },
  {
   "cell_type": "code",
   "execution_count": null,
   "metadata": {},
   "outputs": [],
   "source": [
    "println(9/7.0)"
   ]
  },
  {
   "cell_type": "markdown",
   "metadata": {},
   "source": [
    "## rgb"
   ]
  },
  {
   "cell_type": "code",
   "execution_count": null,
   "metadata": {},
   "outputs": [],
   "source": [
    " \n",
    "case class Rgb(channelWidth: Int) extends Bundle{\n",
    "  val r = UInt(channelWidth bits)\n",
    "  val g = UInt(channelWidth bits)\n",
    "  val b = UInt(channelWidth bits)\n",
    "  def init(x: Int): Rgb = {\n",
    "      val ret = cloneOf(this)\n",
    "      ret.r := U(x)\n",
    "      ret.g := U(x)\n",
    "      ret.b := U(x)\n",
    "      ret \n",
    "  }\n",
    "  def clear = {\n",
    "      this.r := 0\n",
    "      this.g := 0\n",
    "      this.b := 0\n",
    "  }\n",
    " // override def clone :Rgb = Rgb.asInstanceOf[this.type]\n",
    "}\n",
    "\n",
    "class T3 extends Component{\n",
    "    val a = slave Flow(Rgb(8))     \n",
    "    val flush = in Bool()\n",
    "    val b = master Flow(Rgb(8))\n",
    "    \n",
    "    val retReg = RegNext(a.payload) init 0   //how to \n",
    "    \n",
    "    when(flush){\n",
    "       retReg.clear\n",
    "    } \n",
    "    \n",
    "    b.payload := retReg\n",
    "    b.valid := True\n",
    " \n",
    "}\n",
    "showRtl(new T3)"
   ]
  },
  {
   "cell_type": "markdown",
   "metadata": {},
   "source": [
    "## StreamFIFO\n",
    "- 深度大于1的 Mem输出readSync readyAsync可选\n",
    "- occupanccy/avalibility 可选"
   ]
  },
  {
   "cell_type": "code",
   "execution_count": null,
   "metadata": {},
   "outputs": [],
   "source": [
    "showRtl(StreamFifo(UInt(8 bits),1))"
   ]
  },
  {
   "cell_type": "code",
   "execution_count": null,
   "metadata": {},
   "outputs": [],
   "source": [
    "class Top extends Component{\n",
    " //val a = slave  Stream(UInt( 8 bits)) \n",
    " //val b = master Stream(UInt(8 bits))\n",
    " //    b := a.queue(4)\n",
    "    Stream(UInt(8 bits)).queue(4)\n",
    "}\n",
    "showRtl(new Top)"
   ]
  },
  {
   "cell_type": "markdown",
   "metadata": {},
   "source": [
    "## Mem \n",
    "- readSync  下拍输出\n",
    "- readAsync 当拍输出"
   ]
  },
  {
   "cell_type": "code",
   "execution_count": null,
   "metadata": {},
   "outputs": [],
   "source": [
    "class Top extends Component{\n",
    "    val addr = in UInt(5 bits)\n",
    "  val ram = Mem(UInt(8 bits),32)\n",
    "    val b = out UInt(8 bits)\n",
    "    b := ram.readAsync(addr) \n",
    "    //b := ram.readSync(addr) \n",
    "}\n",
    "showRtl(new Top)"
   ]
  },
  {
   "cell_type": "code",
   "execution_count": null,
   "metadata": {},
   "outputs": [],
   "source": [
    "class Top extends Component{\n",
    "    val a = slave Flow(Fragment(UInt(8 bits)))\n",
    "}\n",
    "showRtl(new Top)"
   ]
  },
  {
   "cell_type": "code",
   "execution_count": null,
   "metadata": {},
   "outputs": [],
   "source": []
  },
  {
   "cell_type": "code",
   "execution_count": null,
   "metadata": {},
   "outputs": [],
   "source": []
  }
 ],
 "metadata": {
  "kernelspec": {
   "display_name": "Scala",
   "language": "scala",
   "name": "scala"
  },
  "language_info": {
   "codemirror_mode": "text/x-scala",
   "file_extension": ".scala",
   "mimetype": "text/x-scala",
   "name": "scala",
   "nbconvert_exporter": "script",
   "version": "2.12.8"
  },
  "toc": {
   "base_numbering": 1,
   "nav_menu": {},
   "number_sections": true,
   "sideBar": true,
   "skip_h1_title": false,
   "title_cell": "Table of Contents",
   "title_sidebar": "Contents",
   "toc_cell": false,
   "toc_position": {},
   "toc_section_display": true,
   "toc_window_display": false
  }
 },
 "nbformat": 4,
 "nbformat_minor": 2
}
