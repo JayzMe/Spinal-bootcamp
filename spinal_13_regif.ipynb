{
 "cells": [
  {
   "cell_type": "markdown",
   "metadata": {},
   "source": [
    "<a name=\"top\"></a><img src=\"source/SpinalHDL.png\" alt=\"SpinalHDL based on Scala\" style=\"width:320px;\" />"
   ]
  },
  {
   "cell_type": "markdown",
   "metadata": {},
   "source": [
    "运行SpinalHDL代码之前，务必加载SpinalHDL的库 \n",
    "（**注**：*第一次运行时需要下载库，可能会有点慢，请耐心等待*）"
   ]
  },
  {
   "cell_type": "code",
   "execution_count": 37,
   "metadata": {},
   "outputs": [
    {
     "data": {
      "text/plain": [
       "\u001b[36mpath\u001b[39m: \u001b[32mString\u001b[39m = \u001b[32m\"E:\\\\nutstore\\\\2019bf\\\\github\\\\Spinal-bootcamp/source/load-spinal.sc\"\u001b[39m"
      ]
     },
     "execution_count": 37,
     "metadata": {},
     "output_type": "execute_result"
    }
   ],
   "source": [
    "val path = System.getProperty(\"user.dir\") + \"/source/load-spinal.sc\"\n",
    "interp.load.module(ammonite.ops.Path(java.nio.file.FileSystems.getDefault().getPath(path)))"
   ]
  },
  {
   "cell_type": "markdown",
   "metadata": {},
   "source": [
    "## Chapter\n"
   ]
  },
  {
   "cell_type": "code",
   "execution_count": null,
   "metadata": {},
   "outputs": [],
   "source": [
    "class T2  extends Component{ \n",
    "    val a = out Bits(9 bit)\n",
    "  a := B(32,9 bit)\n",
    "}\n",
    "showRtl(new T2)"
   ]
  },
  {
   "cell_type": "code",
   "execution_count": null,
   "metadata": {},
   "outputs": [],
   "source": [
    "class Reg32(Addr: Long)  extends Component{ \n",
    "    val bmi = new Bundle{\n",
    "    val rd,wr = in Bool()\n",
    "    val addr  = in UInt(16 bits)    \n",
    "    val wdata = in Bits(32 bit)\n",
    "    val rdata = out(Reg(Bits(32 bit)) init 0 )}\n",
    "    val clc   = in Bool()\n",
    "    val hit   = bmi.addr === U(Addr)\n",
    "\n",
    "     //val b = in(RO(2,0))\n",
    "    //val c = in(RO(7,4))\n",
    "    //val d = in(RO(7,8))\n",
    "    val k = out(WRS(2 bits, 3 downto 2, B(0)))\n",
    "    val p = out(WRS(2 bits, 1 downto 0, B(0)))\n",
    "    val v = WRS(4 bits, 7 downto 4, B(3))\n",
    "    val vo = Bits()\n",
    "    when(clc){\n",
    "        v := B(10,4 bits)\n",
    "    }\n",
    "    vo := v\n",
    "    def RO(n: Int, ADDR: Int):Bits = {\n",
    "        val ret = Bits(n bit)\n",
    "        when(bmi.rd && bmi.addr === U(ADDR,16 bits)){            \n",
    "        bmi.rdata := ret.resized\n",
    "        }\n",
    "        ret        \n",
    "    }\n",
    "    \n",
    "    def WRS(bc: BitCount, section: Range, resetValue: Bits): Bits = {\n",
    "      val ret = Reg(Bits(bc)) init resetValue\n",
    "      val hit = (bmi.addr === U(0))\n",
    "      when(bmi.wr && hit){\n",
    "        ret := bmi.wdata(section)\n",
    "      }.elsewhen(bmi.rd && hit){\n",
    "        ret.setAll()\n",
    "      }\n",
    "      ret\n",
    "    }\n",
    "}\n",
    "showRtl(new Reg32(321))"
   ]
  },
  {
   "cell_type": "code",
   "execution_count": null,
   "metadata": {},
   "outputs": [],
   "source": [
    "class Reg32(Addr: Long)  extends Component{ \n",
    "    val bmi = new Bundle{\n",
    "    val rd,wr = in Bool()\n",
    "    val addr  = in UInt(16 bits)    \n",
    "    val wdata = in Bits(32 bit)\n",
    "    val rdata = out(Reg(Bits(32 bit)) init 0 )}\n",
    "    val clc   = in Bool()\n",
    "    val hit   = bmi.addr === U(Addr)\n",
    "\n",
    "     //val b = in(RO(2,0))\n",
    "  \n",
    "    def RO(n: Int, ADDR: Int):Bits = {\n",
    "        val ret = Bits(n bit)\n",
    "        when(bmi.rd && bmi.addr === U(ADDR,16 bits)){            \n",
    "        bmi.rdata := ret.resized\n",
    "        }\n",
    "        ret        \n",
    "    }\n",
    "    \n",
    " \n",
    "}\n",
    "showRtl(new Reg32(0xff))"
   ]
  },
  {
   "cell_type": "code",
   "execution_count": null,
   "metadata": {},
   "outputs": [],
   "source": [
    "import scala.collection.mutable.ArrayBuffer\n",
    "val a = new ArrayBuffer[Int]()\n",
    "a += 1\n",
    "a += (2, 3, 4, 5)\n",
    "a   ++= Array(6, 7, 8, 9, 10)"
   ]
  },
  {
   "cell_type": "code",
   "execution_count": null,
   "metadata": {},
   "outputs": [],
   "source": [
    "val fp = 10\n",
    "val bc = 8 bits\n",
    "val section: Range.Inclusive = fp+bc.value downto fp \n",
    "val c = 2 downto 1\n",
    "val d = s\"Section: ${section}\""
   ]
  },
  {
   "cell_type": "code",
   "execution_count": null,
   "metadata": {
    "scrolled": true
   },
   "outputs": [],
   "source": [
    "class Section(val max: Int, val min: Int){\n",
    "  override def toString(): String = s\"[${this.max}:${this.min}]\"\n",
    "}\n",
    "\n",
    "object Section{\n",
    "  def apply(rg: Range): Section = new Section(rg.max, rg.min)\n",
    "}\n",
    "\n",
    "object rangeToSection{\n",
    "  implicit def tans(x: Range) = Section(x)\n",
    "}\n",
    "\n",
    "import rangeToSection._\n",
    "\n",
    "val a: Section =   5 downto 2 "
   ]
  },
  {
   "cell_type": "code",
   "execution_count": null,
   "metadata": {},
   "outputs": [],
   "source": [
    "val  a = \"\"\n",
    "a.isEmpty\n",
    "a.nonEmpty"
   ]
  },
  {
   "cell_type": "code",
   "execution_count": null,
   "metadata": {},
   "outputs": [],
   "source": [
    "sealed trait AccessType\n",
    "\n",
    "object AccessType {\n",
    "  case object RO    extends AccessType  //- W: no effect, R: no effect\n",
    "  case object RW    extends AccessType  //- W: as-is, R: no effect\n",
    "  case object RC    extends AccessType  //- W: no effect, R: clears all bits\n",
    "  case object RS    extends AccessType  //- W: no effect, R: sets all bits\n",
    "  case object WRC   extends AccessType  //- W: as-is, R: clears all bits\n",
    "  case object WRS   extends AccessType  //- W: as-is, R: sets all bits\n",
    "  case object WC    extends AccessType  //- W: clears all bits, R: no effect\n",
    "  case object WS    extends AccessType  //- W: sets all bits, R: no effect\n",
    "  case object WSRC  extends AccessType  //- W: sets all bits, R: clears all bits\n",
    "  case object WCRS  extends AccessType  //- W: clears all bits, R: sets all bits\n",
    "  case object W1C   extends AccessType  //- W: 1/0 clears/no effect on matching bit, R: no effect\n",
    "  case object W1S   extends AccessType  //- W: 1/0 sets/no effect on matching bit, R: no effect\n",
    "  case object W1T   extends AccessType  //- W: 1/0 toggles/no effect on matching bit, R: no effect\n",
    "  case object W0C   extends AccessType  //- W: 1/0 no effect on/clears matching bit, R: no effect\n",
    "  case object W0S   extends AccessType  //- W: 1/0 no effect on/sets matching bit, R: no effect\n",
    "  case object W0T   extends AccessType  //- W: 1/0 no effect on/toggles matching bit, R: no effect\n",
    "  case object W1SRC extends AccessType  //- W: 1/0 sets/no effect on matching bit, R: clears all bits\n",
    "  case object W1CRS extends AccessType  //- W: 1/0 clears/no effect on matching bit, R: sets all bits\n",
    "  case object W0SRC extends AccessType  //- W: 1/0 no effect on/sets matching bit, R: clears all bits\n",
    "  case object W0CRS extends AccessType  //- W: 1/0 no effect on/clears matching bit, R: sets all bits\n",
    "  case object WO    extends AccessType  //- W: as-is, R: error\n",
    "  case object WOC   extends AccessType  //- W: clears all bits, R: error\n",
    "  case object WOS   extends AccessType  //- W: sets all bits, R: error\n",
    "  case object W1    extends AccessType  //- W: first one after ~HARD~ reset is as-is, other W have no effects, R: no effect\n",
    "  case object WO1   extends AccessType  //- W: first one after ~HARD~ reset is as-is, other W have no effects, R: error\n",
    "  case object NA    extends AccessType  // -W: reserved, R: reserved\n",
    "}\n"
   ]
  },
  {
   "cell_type": "code",
   "execution_count": null,
   "metadata": {},
   "outputs": [],
   "source": [
    "val a = AccessType.NA\n",
    "println(a)"
   ]
  },
  {
   "cell_type": "code",
   "execution_count": null,
   "metadata": {},
   "outputs": [],
   "source": [
    "import $ivy.`com.lihaoyi::sourcecode:0.1.7`"
   ]
  },
  {
   "cell_type": "code",
   "execution_count": null,
   "metadata": {},
   "outputs": [],
   "source": [
    "trait BusSlaveFactory{\n",
    "    val doWrite: Bool\n",
    "    val doRead: Bool\n",
    "    val bus: String\n",
    "}\n",
    "class ApbSlave(val bus: String) extends BusSlaveFactory{\n",
    "    override val doWrite : Bool = False\n",
    "    override val doRead: Bool = True\n",
    "}"
   ]
  },
  {
   "cell_type": "code",
   "execution_count": null,
   "metadata": {},
   "outputs": [],
   "source": [
    "val a = 2\n",
    "a.asInstanceOf[Long]\n",
    "val b: Long = 2\n",
    "a.asInstanceOf[Int]"
   ]
  },
  {
   "cell_type": "code",
   "execution_count": null,
   "metadata": {},
   "outputs": [],
   "source": [
    "class T2  extends Component{ \n",
    "    val a = out Bits(9 bit)\n",
    "    a := B(32,9 bit)\n",
    "    class Dog{}\n",
    "    val xiaogou = new Dog\n",
    "}\n",
    "showRtl(new T2)"
   ]
  },
  {
   "cell_type": "code",
   "execution_count": null,
   "metadata": {},
   "outputs": [],
   "source": [
    "class T2  extends Component{ \n",
    "    //val a = out Bits(9 bit)\n",
    "    //val c = out UInt()\n",
    "    //a := B(32,9 bit)\n",
    "    class Dog{\n",
    "        def genTimer(n: Int) = {\n",
    "            val timer = Reg(UInt(n bits)) init 0 \n",
    "            val clearTimer = in Bool()\n",
    "            when(clearTimer){\n",
    "                timer init 0\n",
    "            }.otherwise {\n",
    "                timer := timer + 1\n",
    "            }\n",
    "            (clearTimer,timer)\n",
    "        }\n",
    "    }\n",
    "    val xiaogou = new Dog\n",
    "//xiaogou.genTimer(8)\n",
    "   val   (weigou,timer) = xiaogou.genTimer(8)\n",
    "    //c : = d\n",
    "}\n",
    "showRtl(new T2)"
   ]
  },
  {
   "cell_type": "markdown",
   "metadata": {},
   "source": [
    "### get config from GlobalData"
   ]
  },
  {
   "cell_type": "code",
   "execution_count": null,
   "metadata": {},
   "outputs": [],
   "source": [
    "import spinal.core.internals._\n",
    "\n",
    "class T2  extends Component{ \n",
    "  val pc = GlobalData.get.phaseContext\n",
    "  val a = in Bits(8 bit)\n",
    "  println(GlobalData.get.commonClockConfig.clockEdge)\n",
    "  println(pc.config)\n",
    "  println(pc.config.targetDirectory)\n",
    "}\n",
    " showRtl(new T2)"
   ]
  },
  {
   "cell_type": "code",
   "execution_count": null,
   "metadata": {},
   "outputs": [],
   "source": [
    "val a = List(1,2,3,4,5)\n",
    "a.tails"
   ]
  },
  {
   "cell_type": "code",
   "execution_count": null,
   "metadata": {},
   "outputs": [],
   "source": [
    "val a = List(1)\n",
    "a.tail\n",
    "a.tail.last"
   ]
  },
  {
   "cell_type": "code",
   "execution_count": null,
   "metadata": {},
   "outputs": [],
   "source": [
    "val a = \"class RegIfExample3\"\n",
    "a.split(\" \").last"
   ]
  },
  {
   "cell_type": "code",
   "execution_count": 39,
   "metadata": {},
   "outputs": [
    {
     "name": "stdout",
     "output_type": "stream",
     "text": [
      "[Runtime] SpinalHDL v1.3.6    git head : 10854057c32ae371aabc9a340c367e9bbc159fcd\n",
      "[Runtime] JVM max memory : 3584.0MiB\n",
      "[Runtime] Current date : 2019.10.31 09:44:16\n",
      "[Progress] at 333932.750 : Elaborate components\n",
      "[Progress] at 333932.752 : Checks and transforms\n",
      "[Progress] at 333932.755 : Generate Verilog\n",
      "[Done] at 333932.757\n",
      "// Generator : SpinalHDL v1.3.6    git head : 10854057c32ae371aabc9a340c367e9bbc159fcd\n",
      "// Date      : 31/10/2019, 09:44:16\n",
      "// Component : T2\n",
      "\n",
      "\n",
      "module T2 (\n",
      "      input  [7:0] a,\n",
      "      input  [7:0] b,\n",
      "      output [7:0] c);\n",
      "  assign c = (a & b);\n",
      "endmodule\n",
      "\n",
      "\n"
     ]
    },
    {
     "data": {
      "text/plain": [
       "defined \u001b[32mclass\u001b[39m \u001b[36mT2\u001b[39m"
      ]
     },
     "execution_count": 39,
     "metadata": {},
     "output_type": "execute_result"
    }
   ],
   "source": [
    "class T2  extends Component{  \n",
    "  val a,b = in Bits(8 bit)\n",
    "    val c = out(a & b)\n",
    " \n",
    "}\n",
    " showRtl(new T2)"
   ]
  },
  {
   "cell_type": "code",
   "execution_count": 46,
   "metadata": {},
   "outputs": [
    {
     "name": "stdout",
     "output_type": "stream",
     "text": [
      "[Runtime] SpinalHDL v1.3.6    git head : 10854057c32ae371aabc9a340c367e9bbc159fcd\n",
      "[Runtime] JVM max memory : 3584.0MiB\n",
      "[Runtime] Current date : 2019.10.31 14:18:00\n",
      "[Progress] at 350356.770 : Elaborate components\n",
      "[Progress] at 350356.775 : Checks and transforms\n",
      "[Progress] at 350356.781 : Generate Verilog\n",
      "[Done] at 350356.784\n",
      "// Generator : SpinalHDL v1.3.6    git head : 10854057c32ae371aabc9a340c367e9bbc159fcd\n",
      "// Date      : 31/10/2019, 14:18:00\n",
      "// Component : T2\n",
      "\n",
      "\n",
      "module T2 (\n",
      "      input  [7:0] a,\n",
      "      input  [7:0] b,\n",
      "      output  x);\n",
      "  wire  tmp_0;\n",
      "  wire  tmp_1;\n",
      "  wire  tmp_2;\n",
      "  wire  tmp_3;\n",
      "  wire  tmp_4;\n",
      "  wire  tmp_5;\n",
      "  wire  tmp_6;\n",
      "  wire  tmp_7;\n",
      "  assign tmp_0 = ((a[0] && b[0]) || (a[0] ^ b[0]));\n",
      "  assign tmp_1 = ((a[1] && b[1]) || (a[1] ^ b[1]));\n",
      "  assign tmp_2 = ((a[2] && b[2]) || (a[2] ^ b[2]));\n",
      "  assign tmp_3 = ((a[3] && b[3]) || (a[3] ^ b[3]));\n",
      "  assign tmp_4 = ((a[4] && b[4]) || (a[4] ^ b[4]));\n",
      "  assign tmp_5 = ((a[5] && b[5]) || (a[5] ^ b[5]));\n",
      "  assign tmp_6 = ((a[6] && b[6]) || (a[6] ^ b[6]));\n",
      "  assign tmp_7 = ((a[7] && b[7]) || (a[7] ^ b[7]));\n",
      "  assign x = ((((((((1'b0 || tmp_0) || tmp_1) || tmp_2) || tmp_3) || tmp_4) || tmp_5) || tmp_6) || tmp_7);\n",
      "endmodule\n",
      "\n",
      "\n"
     ]
    },
    {
     "data": {
      "text/plain": [
       "\u001b[32mimport \u001b[39m\u001b[36mscala.collection.mutable.ListBuffer \n",
       "\u001b[39m\r\n",
       "defined \u001b[32mclass\u001b[39m \u001b[36mT2\u001b[39m"
      ]
     },
     "execution_count": 46,
     "metadata": {},
     "output_type": "execute_result"
    }
   ],
   "source": [
    "import scala.collection.mutable.ListBuffer \n",
    "class T2  extends Component{  \n",
    "  val a,b = in Bits(8 bit)\n",
    "  //  val c = out Bits(8 bits)\n",
    "    val tmp = new ListBuffer[Bool]()\n",
    "  (0 until 8).foreach{i =>\n",
    "      {val sel = a(i) && b(i)  \n",
    "       val s2 = a(i) ^ b(i)\n",
    "       tmp += sel || s2}\n",
    "  }\n",
    "    val x = out(tmp.foldLeft(False)(_||_))\n",
    "}\n",
    " showRtl(new T2)"
   ]
  },
  {
   "cell_type": "code",
   "execution_count": 56,
   "metadata": {},
   "outputs": [
    {
     "name": "stdout",
     "output_type": "stream",
     "text": [
      "[Runtime] SpinalHDL v1.3.6    git head : 10854057c32ae371aabc9a340c367e9bbc159fcd\n",
      "[Runtime] JVM max memory : 3584.0MiB\n",
      "[Runtime] Current date : 2019.10.31 14:25:16\n",
      "[Progress] at 350792.608 : Elaborate components\n",
      "[Progress] at 350792.611 : Checks and transforms\n",
      "[Warning] UNASSIGNED REGISTER Bool(x) with init value, please apply the allowUnsetRegToAvoidLatch tag if that's fine\n",
      "[Warning] UNASSIGNED REGISTER Bool(x) with init value, please apply the allowUnsetRegToAvoidLatch tag if that's fine\n",
      "[Warning] UNASSIGNED REGISTER Bool(x) with init value, please apply the allowUnsetRegToAvoidLatch tag if that's fine\n",
      "[Warning] UNASSIGNED REGISTER Bool(x) with init value, please apply the allowUnsetRegToAvoidLatch tag if that's fine\n",
      "[Warning] UNASSIGNED REGISTER Bool(x) with init value, please apply the allowUnsetRegToAvoidLatch tag if that's fine\n",
      "[Warning] UNASSIGNED REGISTER Bool(x) with init value, please apply the allowUnsetRegToAvoidLatch tag if that's fine\n",
      "[Warning] UNASSIGNED REGISTER Bool(x) with init value, please apply the allowUnsetRegToAvoidLatch tag if that's fine\n",
      "[Warning] UNASSIGNED REGISTER Bool(x) with init value, please apply the allowUnsetRegToAvoidLatch tag if that's fine\n",
      "[Progress] at 350792.615 : Generate Verilog\n",
      "[Warning] 2 signals were pruned. You can call printPruned on the backend report to get more informations.\n",
      "[Done] at 350792.617\n",
      "// Generator : SpinalHDL v1.3.6    git head : 10854057c32ae371aabc9a340c367e9bbc159fcd\n",
      "// Date      : 31/10/2019, 14:25:16\n",
      "// Component : T2\n",
      "\n",
      "\n",
      "module T2 (\n",
      "      input  [7:0] a,\n",
      "      input  [7:0] b,\n",
      "      output  _zz_1_,\n",
      "      output  _zz_2_,\n",
      "      output  _zz_3_,\n",
      "      output  _zz_4_,\n",
      "      output  _zz_5_,\n",
      "      output  _zz_6_,\n",
      "      output  _zz_7_,\n",
      "      output  _zz_8_,\n",
      "      input   clk,\n",
      "      input   reset);\n",
      "  assign _zz_1_ = 1'b0;\n",
      "  assign _zz_2_ = 1'b0;\n",
      "  assign _zz_3_ = 1'b0;\n",
      "  assign _zz_4_ = 1'b0;\n",
      "  assign _zz_5_ = 1'b0;\n",
      "  assign _zz_6_ = 1'b0;\n",
      "  assign _zz_7_ = 1'b0;\n",
      "  assign _zz_8_ = 1'b0;\n",
      "endmodule\n",
      "\n",
      "\n"
     ]
    },
    {
     "data": {
      "text/plain": [
       "defined \u001b[32mclass\u001b[39m \u001b[36mT2\u001b[39m"
      ]
     },
     "execution_count": 56,
     "metadata": {},
     "output_type": "execute_result"
    }
   ],
   "source": [
    " \n",
    "class T2  extends Component{  \n",
    "  val a,b = in Bits(8 bit)\n",
    " // val x = Reg(Bool()) init False \n",
    "  (0 until 8).foreach{i =>\n",
    "     val x = out(Reg(Bool()) init False)\n",
    "  }\n",
    "   \n",
    "}\n",
    " showRtl(new T2)"
   ]
  },
  {
   "cell_type": "code",
   "execution_count": 69,
   "metadata": {},
   "outputs": [
    {
     "name": "stdout",
     "output_type": "stream",
     "text": [
      "[Runtime] SpinalHDL v1.3.6    git head : 10854057c32ae371aabc9a340c367e9bbc159fcd\n",
      "[Runtime] JVM max memory : 3584.0MiB\n",
      "[Runtime] Current date : 2019.10.31 16:43:47\n",
      "[Progress] at 359104.226 : Elaborate components\n",
      "[Progress] at 359104.229 : Checks and transforms\n",
      "[Warning] UNASSIGNED REGISTER (toplevel/a :  Bits[1 bits]) with init value, please apply the allowUnsetRegToAvoidLatch tag if that's fine\n",
      "[Progress] at 359104.232 : Generate Verilog\n",
      "[Warning] 1 signals were pruned. You can call printPruned on the backend report to get more informations.\n",
      "[Done] at 359104.254\n",
      "// Generator : SpinalHDL v1.3.6    git head : 10854057c32ae371aabc9a340c367e9bbc159fcd\n",
      "// Date      : 31/10/2019, 16:43:47\n",
      "// Component : T2\n",
      "\n",
      "\n",
      "module T2 (\n",
      "      input   sel,\n",
      "      output  d,\n",
      "      input   clk,\n",
      "      input   reset);\n",
      "  wire [0:0] a;\n",
      "  assign a = (1'b0);\n",
      "  assign d = a[0];\n",
      "endmodule\n",
      "\n",
      "\n"
     ]
    },
    {
     "data": {
      "text/plain": [
       "defined \u001b[32mclass\u001b[39m \u001b[36mT2\u001b[39m"
      ]
     },
     "execution_count": 69,
     "metadata": {},
     "output_type": "execute_result"
    }
   ],
   "source": [
    "class T2  extends Component{  \n",
    "  val sel = in Bool()\n",
    "  val a = Reg(Bits(1 bits)) init 0 \n",
    "  when(sel){a.asBool.set()}\n",
    "  val d = out Bool() \n",
    "    d := a.asBool\n",
    "}\n",
    "showRtl(new T2)"
   ]
  },
  {
   "cell_type": "code",
   "execution_count": 70,
   "metadata": {},
   "outputs": [
    {
     "name": "stdout",
     "output_type": "stream",
     "text": [
      "ammonite.$sess.cmd69#Helper#Foo [arg]: 123\n",
      "ammonite.$sess.cmd69#Helper#Foo#bar [arg -> param]: (123,lol)\n"
     ]
    },
    {
     "data": {
      "text/plain": [
       "defined \u001b[32mfunction\u001b[39m \u001b[36mdebug\u001b[39m\r\n",
       "defined \u001b[32mclass\u001b[39m \u001b[36mFoo\u001b[39m"
      ]
     },
     "execution_count": 70,
     "metadata": {},
     "output_type": "execute_result"
    }
   ],
   "source": [
    "def debug[V](value: sourcecode.Text[V])(implicit enclosing: sourcecode.Enclosing) = {\n",
    "  println(enclosing.value + \" [\" + value.source + \"]: \" + value.value)\n",
    "}\n",
    "\n",
    "class Foo(arg: Int){\n",
    "  debug(arg) // sourcecode.DebugRun.main Foo [arg]: 123\n",
    "  def bar(param: String) = {\n",
    "    debug(arg -> param)\n",
    "  }\n",
    "}\n",
    "new Foo(123).bar(\"lol\")  // sourcecode.DebugRun.main Foo#bar [arg -> param]: (123,lol)"
   ]
  },
  {
   "cell_type": "code",
   "execution_count": null,
   "metadata": {},
   "outputs": [],
   "source": []
  }
 ],
 "metadata": {
  "kernelspec": {
   "display_name": "Scala",
   "language": "scala",
   "name": "scala"
  },
  "language_info": {
   "codemirror_mode": "text/x-scala",
   "file_extension": ".scala",
   "mimetype": "text/x-scala",
   "name": "scala",
   "nbconvert_exporter": "script",
   "version": "2.12.8"
  }
 },
 "nbformat": 4,
 "nbformat_minor": 2
}
