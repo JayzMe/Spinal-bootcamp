{
 "cells": [
  {
   "cell_type": "markdown",
   "metadata": {},
   "source": [
    "<a name=\"top\"></a><img src=\"source/SpinalHDL.png\" alt=\"SpinalHDL based on Scala\" style=\"width:320px;\" />"
   ]
  },
  {
   "cell_type": "markdown",
   "metadata": {},
   "source": [
    "运行SpinalHDL代码之前，务必加载SpinalHDL的库 \n",
    "（**注**：*第一次运行时需要下载库，可能会有点慢，请耐心等待*）"
   ]
  },
  {
   "cell_type": "code",
   "execution_count": 21,
   "metadata": {},
   "outputs": [
    {
     "data": {
      "text/plain": [
       "\u001b[36mpath\u001b[39m: \u001b[32mString\u001b[39m = \u001b[32m\"E:\\\\nutstore\\\\2019bf\\\\github\\\\Spinal-bootcamp/source/load-spinal.sc\"\u001b[39m"
      ]
     },
     "execution_count": 21,
     "metadata": {},
     "output_type": "execute_result"
    }
   ],
   "source": [
    "val path = System.getProperty(\"user.dir\") + \"/source/load-spinal.sc\"\n",
    "interp.load.module(ammonite.ops.Path(java.nio.file.FileSystems.getDefault().getPath(path)))"
   ]
  },
  {
   "cell_type": "markdown",
   "metadata": {},
   "source": [
    "## Chapter\n"
   ]
  },
  {
   "cell_type": "code",
   "execution_count": null,
   "metadata": {},
   "outputs": [],
   "source": [
    "class T2  extends Component{ \n",
    "    val a = out Bits(9 bit)\n",
    "  a := B(32,9 bit)\n",
    "}\n",
    "showRtl(new T2)"
   ]
  },
  {
   "cell_type": "code",
   "execution_count": null,
   "metadata": {},
   "outputs": [],
   "source": [
    "class Reg32(Addr: Long)  extends Component{ \n",
    "    val bmi = new Bundle{\n",
    "    val rd,wr = in Bool()\n",
    "    val addr  = in UInt(16 bits)    \n",
    "    val wdata = in Bits(32 bit)\n",
    "    val rdata = out(Reg(Bits(32 bit)) init 0 )}\n",
    "    val clc   = in Bool()\n",
    "    val hit   = bmi.addr === U(Addr)\n",
    "\n",
    "     //val b = in(RO(2,0))\n",
    "    //val c = in(RO(7,4))\n",
    "    //val d = in(RO(7,8))\n",
    "    val k = out(WRS(2 bits, 3 downto 2, B(0)))\n",
    "    val p = out(WRS(2 bits, 1 downto 0, B(0)))\n",
    "    val v = WRS(4 bits, 7 downto 4, B(3))\n",
    "    val vo = Bits()\n",
    "    when(clc){\n",
    "        v := B(10,4 bits)\n",
    "    }\n",
    "    vo := v\n",
    "    def RO(n: Int, ADDR: Int):Bits = {\n",
    "        val ret = Bits(n bit)\n",
    "        when(bmi.rd && bmi.addr === U(ADDR,16 bits)){            \n",
    "        bmi.rdata := ret.resized\n",
    "        }\n",
    "        ret        \n",
    "    }\n",
    "    \n",
    "    def WRS(bc: BitCount, section: Range, resetValue: Bits): Bits = {\n",
    "      val ret = Reg(Bits(bc)) init resetValue\n",
    "      val hit = (bmi.addr === U(0))\n",
    "      when(bmi.wr && hit){\n",
    "        ret := bmi.wdata(section)\n",
    "      }.elsewhen(bmi.rd && hit){\n",
    "        ret.setAll()\n",
    "      }\n",
    "      ret\n",
    "    }\n",
    "}\n",
    "showRtl(new Reg32(321))"
   ]
  },
  {
   "cell_type": "code",
   "execution_count": null,
   "metadata": {},
   "outputs": [],
   "source": [
    "class Reg32(Addr: Long)  extends Component{ \n",
    "    val bmi = new Bundle{\n",
    "    val rd,wr = in Bool()\n",
    "    val addr  = in UInt(16 bits)    \n",
    "    val wdata = in Bits(32 bit)\n",
    "    val rdata = out(Reg(Bits(32 bit)) init 0 )}\n",
    "    val clc   = in Bool()\n",
    "    val hit   = bmi.addr === U(Addr)\n",
    "\n",
    "     //val b = in(RO(2,0))\n",
    "  \n",
    "    def RO(n: Int, ADDR: Int):Bits = {\n",
    "        val ret = Bits(n bit)\n",
    "        when(bmi.rd && bmi.addr === U(ADDR,16 bits)){            \n",
    "        bmi.rdata := ret.resized\n",
    "        }\n",
    "        ret        \n",
    "    }\n",
    "    \n",
    " \n",
    "}\n",
    "showRtl(new Reg32(0xff))"
   ]
  },
  {
   "cell_type": "code",
   "execution_count": null,
   "metadata": {},
   "outputs": [],
   "source": [
    "import scala.collection.mutable.ArrayBuffer\n",
    "val a = new ArrayBuffer[Int]()\n",
    "a += 1\n",
    "a += (2, 3, 4, 5)\n",
    "a   ++= Array(6, 7, 8, 9, 10)"
   ]
  },
  {
   "cell_type": "code",
   "execution_count": null,
   "metadata": {},
   "outputs": [],
   "source": [
    "val fp = 10\n",
    "val bc = 8 bits\n",
    "val section: Range.Inclusive = fp+bc.value downto fp \n",
    "val c = 2 downto 1\n",
    "val d = s\"Section: ${section}\""
   ]
  },
  {
   "cell_type": "code",
   "execution_count": null,
   "metadata": {
    "scrolled": true
   },
   "outputs": [],
   "source": [
    "class Section(val max: Int, val min: Int){\n",
    "  override def toString(): String = s\"[${this.max}:${this.min}]\"\n",
    "}\n",
    "\n",
    "object Section{\n",
    "  def apply(rg: Range): Section = new Section(rg.max, rg.min)\n",
    "}\n",
    "\n",
    "object rangeToSection{\n",
    "  implicit def tans(x: Range) = Section(x)\n",
    "}\n",
    "\n",
    "import rangeToSection._\n",
    "\n",
    "val a: Section =   5 downto 2 "
   ]
  },
  {
   "cell_type": "code",
   "execution_count": null,
   "metadata": {},
   "outputs": [],
   "source": [
    "val  a = \"\"\n",
    "a.isEmpty\n",
    "a.nonEmpty"
   ]
  },
  {
   "cell_type": "code",
   "execution_count": null,
   "metadata": {},
   "outputs": [],
   "source": [
    "sealed trait AccessType\n",
    "\n",
    "object AccessType {\n",
    "  case object RO    extends AccessType  //- W: no effect, R: no effect\n",
    "  case object RW    extends AccessType  //- W: as-is, R: no effect\n",
    "  case object RC    extends AccessType  //- W: no effect, R: clears all bits\n",
    "  case object RS    extends AccessType  //- W: no effect, R: sets all bits\n",
    "  case object WRC   extends AccessType  //- W: as-is, R: clears all bits\n",
    "  case object WRS   extends AccessType  //- W: as-is, R: sets all bits\n",
    "  case object WC    extends AccessType  //- W: clears all bits, R: no effect\n",
    "  case object WS    extends AccessType  //- W: sets all bits, R: no effect\n",
    "  case object WSRC  extends AccessType  //- W: sets all bits, R: clears all bits\n",
    "  case object WCRS  extends AccessType  //- W: clears all bits, R: sets all bits\n",
    "  case object W1C   extends AccessType  //- W: 1/0 clears/no effect on matching bit, R: no effect\n",
    "  case object W1S   extends AccessType  //- W: 1/0 sets/no effect on matching bit, R: no effect\n",
    "  case object W1T   extends AccessType  //- W: 1/0 toggles/no effect on matching bit, R: no effect\n",
    "  case object W0C   extends AccessType  //- W: 1/0 no effect on/clears matching bit, R: no effect\n",
    "  case object W0S   extends AccessType  //- W: 1/0 no effect on/sets matching bit, R: no effect\n",
    "  case object W0T   extends AccessType  //- W: 1/0 no effect on/toggles matching bit, R: no effect\n",
    "  case object W1SRC extends AccessType  //- W: 1/0 sets/no effect on matching bit, R: clears all bits\n",
    "  case object W1CRS extends AccessType  //- W: 1/0 clears/no effect on matching bit, R: sets all bits\n",
    "  case object W0SRC extends AccessType  //- W: 1/0 no effect on/sets matching bit, R: clears all bits\n",
    "  case object W0CRS extends AccessType  //- W: 1/0 no effect on/clears matching bit, R: sets all bits\n",
    "  case object WO    extends AccessType  //- W: as-is, R: error\n",
    "  case object WOC   extends AccessType  //- W: clears all bits, R: error\n",
    "  case object WOS   extends AccessType  //- W: sets all bits, R: error\n",
    "  case object W1    extends AccessType  //- W: first one after ~HARD~ reset is as-is, other W have no effects, R: no effect\n",
    "  case object WO1   extends AccessType  //- W: first one after ~HARD~ reset is as-is, other W have no effects, R: error\n",
    "  case object NA    extends AccessType  // -W: reserved, R: reserved\n",
    "}\n"
   ]
  },
  {
   "cell_type": "code",
   "execution_count": null,
   "metadata": {},
   "outputs": [],
   "source": [
    "val a = AccessType.NA\n",
    "println(a)"
   ]
  },
  {
   "cell_type": "code",
   "execution_count": null,
   "metadata": {},
   "outputs": [],
   "source": [
    "import $ivy.`com.lihaoyi::sourcecode:0.1.7`"
   ]
  },
  {
   "cell_type": "code",
   "execution_count": 10,
   "metadata": {},
   "outputs": [
    {
     "data": {
      "text/plain": [
       "defined \u001b[32mtrait\u001b[39m \u001b[36mBusSlaveFactory\u001b[39m\r\n",
       "defined \u001b[32mclass\u001b[39m \u001b[36mApbSlave\u001b[39m"
      ]
     },
     "execution_count": 10,
     "metadata": {},
     "output_type": "execute_result"
    }
   ],
   "source": [
    "trait BusSlaveFactory{\n",
    "    val doWrite: Bool\n",
    "    val doRead: Bool\n",
    "    val bus: String\n",
    "}\n",
    "class ApbSlave(val bus: String) extends BusSlaveFactory{\n",
    "    override val doWrite : Bool = False\n",
    "    override val doRead: Bool = True\n",
    "}"
   ]
  },
  {
   "cell_type": "code",
   "execution_count": 8,
   "metadata": {},
   "outputs": [
    {
     "data": {
      "text/plain": [
       "\u001b[36ma\u001b[39m: \u001b[32mInt\u001b[39m = \u001b[32m2\u001b[39m\r\n",
       "\u001b[36mres7_1\u001b[39m: \u001b[32mLong\u001b[39m = \u001b[32m2L\u001b[39m\r\n",
       "\u001b[36mb\u001b[39m: \u001b[32mLong\u001b[39m = \u001b[32m2L\u001b[39m\r\n",
       "\u001b[36mres7_3\u001b[39m: \u001b[32mInt\u001b[39m = \u001b[32m2\u001b[39m"
      ]
     },
     "execution_count": 8,
     "metadata": {},
     "output_type": "execute_result"
    }
   ],
   "source": [
    "val a = 2\n",
    "a.asInstanceOf[Long]\n",
    "val b: Long = 2\n",
    "a.asInstanceOf[Int]"
   ]
  },
  {
   "cell_type": "code",
   "execution_count": 4,
   "metadata": {},
   "outputs": [
    {
     "name": "stdout",
     "output_type": "stream",
     "text": [
      "[Runtime] SpinalHDL v1.3.6    git head : 10854057c32ae371aabc9a340c367e9bbc159fcd\n",
      "[Runtime] JVM max memory : 3584.0MiB\n",
      "[Runtime] Current date : 2019.10.27 13:04:03\n",
      "[Progress] at 320.539 : Elaborate components\n",
      "[Progress] at 320.541 : Checks and transforms\n",
      "[Progress] at 320.544 : Generate Verilog\n",
      "[Done] at 320.549\n",
      "// Generator : SpinalHDL v1.3.6    git head : 10854057c32ae371aabc9a340c367e9bbc159fcd\n",
      "// Date      : 27/10/2019, 13:04:03\n",
      "// Component : T2\n",
      "\n",
      "\n",
      "module T2 (\n",
      "      output [8:0] a);\n",
      "  assign a = (9'b000100000);\n",
      "endmodule\n",
      "\n",
      "\n"
     ]
    },
    {
     "data": {
      "text/plain": [
       "defined \u001b[32mclass\u001b[39m \u001b[36mT2\u001b[39m"
      ]
     },
     "execution_count": 4,
     "metadata": {},
     "output_type": "execute_result"
    }
   ],
   "source": [
    "class T2  extends Component{ \n",
    "    val a = out Bits(9 bit)\n",
    "    a := B(32,9 bit)\n",
    "    class Dog{}\n",
    "    val xiaogou = new Dog\n",
    "}\n",
    "showRtl(new T2)"
   ]
  },
  {
   "cell_type": "code",
   "execution_count": 17,
   "metadata": {},
   "outputs": [
    {
     "name": "stdout",
     "output_type": "stream",
     "text": [
      "[Runtime] SpinalHDL v1.3.6    git head : 10854057c32ae371aabc9a340c367e9bbc159fcd\n",
      "[Runtime] JVM max memory : 3584.0MiB\n",
      "[Runtime] Current date : 2019.10.27 13:40:01\n",
      "[Progress] at 2477.798 : Elaborate components\n",
      "[Progress] at 2477.803 : Checks and transforms\n",
      "[Progress] at 2477.807 : Generate Verilog\n",
      "[Warning] 4 signals were pruned. You can call printPruned on the backend report to get more informations.\n",
      "[Done] at 2477.810\n",
      "// Generator : SpinalHDL v1.3.6    git head : 10854057c32ae371aabc9a340c367e9bbc159fcd\n",
      "// Date      : 27/10/2019, 13:40:01\n",
      "// Component : T2\n",
      "\n",
      "\n",
      "module T2 (\n",
      "      input   weigou,\n",
      "      input   clk,\n",
      "      input   reset);\n",
      "  reg [7:0] timer;\n",
      "  always @ (posedge clk or posedge reset) begin\n",
      "    if (reset) begin\n",
      "      timer <= (8'b00000000);\n",
      "      if(weigou)begin\n",
      "        timer <= (8'b00000000);\n",
      "      end\n",
      "    end else begin\n",
      "      if(! weigou) begin\n",
      "        timer <= (timer + (8'b00000001));\n",
      "      end\n",
      "    end\n",
      "  end\n",
      "\n",
      "endmodule\n",
      "\n",
      "\n"
     ]
    },
    {
     "data": {
      "text/plain": [
       "defined \u001b[32mclass\u001b[39m \u001b[36mT2\u001b[39m"
      ]
     },
     "execution_count": 17,
     "metadata": {},
     "output_type": "execute_result"
    }
   ],
   "source": [
    "class T2  extends Component{ \n",
    "    //val a = out Bits(9 bit)\n",
    "    //val c = out UInt()\n",
    "    //a := B(32,9 bit)\n",
    "    class Dog{\n",
    "        def genTimer(n: Int) = {\n",
    "            val timer = Reg(UInt(n bits)) init 0 \n",
    "            val clearTimer = in Bool()\n",
    "            when(clearTimer){\n",
    "                timer init 0\n",
    "            }.otherwise {\n",
    "                timer := timer + 1\n",
    "            }\n",
    "            (clearTimer,timer)\n",
    "        }\n",
    "    }\n",
    "    val xiaogou = new Dog\n",
    "//xiaogou.genTimer(8)\n",
    "   val   (weigou,timer) = xiaogou.genTimer(8)\n",
    "    //c : = d\n",
    "}\n",
    "showRtl(new T2)"
   ]
  },
  {
   "cell_type": "markdown",
   "metadata": {},
   "source": [
    "### get config from GlobalData"
   ]
  },
  {
   "cell_type": "code",
   "execution_count": 26,
   "metadata": {},
   "outputs": [
    {
     "name": "stdout",
     "output_type": "stream",
     "text": [
      "[Runtime] SpinalHDL v1.3.6    git head : 10854057c32ae371aabc9a340c367e9bbc159fcd\n",
      "[Runtime] JVM max memory : 3584.0MiB\n",
      "[Runtime] Current date : 2019.10.28 11:37:03\n",
      "[Progress] at 81500.491 : Elaborate components\n",
      "spinal.core.RISING$@653eed30\n",
      "SpinalConfig(spinal.core.Verilog$@725c06a8,Set(),Set(),false,ClockDomainConfig(spinal.core.RISING$@653eed30,spinal.core.ASYNC$@3e5ce588,spinal.core.HIGH$@54f02e0d,spinal.core.HIGH$@54f02e0d,spinal.core.HIGH$@54f02e0d),false,UnknownFrequency(),rtl/,false,null,null,,false,false,null,Device(?,?,?),false,true,false,false,false,false,false,true,false,ArrayBuffer(),ArrayBuffer(),ArrayBuffer(spinal.core.internals.PhaseMemBlackBoxingDefault@4a9268c5),null,true)\n",
      "rtl/\n",
      "[Progress] at 81500.493 : Checks and transforms\n",
      "[Progress] at 81500.494 : Generate Verilog\n",
      "[Warning] 1 signals were pruned. You can call printPruned on the backend report to get more informations.\n",
      "[Done] at 81500.496\n",
      "// Generator : SpinalHDL v1.3.6    git head : 10854057c32ae371aabc9a340c367e9bbc159fcd\n",
      "// Date      : 28/10/2019, 11:37:03\n",
      "// Component : T2\n",
      "\n",
      "\n",
      "module T2 (\n",
      "      input  [7:0] a);\n",
      "endmodule\n",
      "\n",
      "\n"
     ]
    },
    {
     "data": {
      "text/plain": [
       "\u001b[32mimport \u001b[39m\u001b[36mspinal.core.internals._\n",
       "\n",
       "\u001b[39m\r\n",
       "defined \u001b[32mclass\u001b[39m \u001b[36mT2\u001b[39m"
      ]
     },
     "execution_count": 26,
     "metadata": {},
     "output_type": "execute_result"
    }
   ],
   "source": [
    "import spinal.core.internals._\n",
    "\n",
    "class T2  extends Component{ \n",
    "  val pc = GlobalData.get.phaseContext\n",
    "  val a = in Bits(8 bit)\n",
    "  println(GlobalData.get.commonClockConfig.clockEdge)\n",
    "  println(pc.config)\n",
    "  println(pc.config.targetDirectory)\n",
    "}\n",
    " showRtl(new T2)"
   ]
  },
  {
   "cell_type": "code",
   "execution_count": 28,
   "metadata": {},
   "outputs": [
    {
     "data": {
      "text/plain": [
       "\u001b[36ma\u001b[39m: \u001b[32mList\u001b[39m[\u001b[32mInt\u001b[39m] = \u001b[33mList\u001b[39m(\u001b[32m1\u001b[39m, \u001b[32m2\u001b[39m, \u001b[32m3\u001b[39m, \u001b[32m4\u001b[39m, \u001b[32m5\u001b[39m)\r\n",
       "\u001b[36mres27_1\u001b[39m: \u001b[32mIterator\u001b[39m[\u001b[32mList\u001b[39m[\u001b[32mInt\u001b[39m]] = \u001b[32mnon-empty iterator\u001b[39m"
      ]
     },
     "execution_count": 28,
     "metadata": {},
     "output_type": "execute_result"
    }
   ],
   "source": [
    "val a = List(1,2,3,4,5)\n",
    "a.tails"
   ]
  },
  {
   "cell_type": "code",
   "execution_count": 33,
   "metadata": {},
   "outputs": [
    {
     "ename": "",
     "evalue": "",
     "output_type": "error",
     "traceback": [
      "\u001b[31mjava.util.NoSuchElementException\u001b[39m\r\n  scala.collection.LinearSeqOptimized.last(\u001b[32mLinearSeqOptimized.scala\u001b[39m:\u001b[32m150\u001b[39m)\r\n  scala.collection.LinearSeqOptimized.last$(\u001b[32mLinearSeqOptimized.scala\u001b[39m:\u001b[32m149\u001b[39m)\r\n  scala.collection.immutable.List.last(\u001b[32mList.scala\u001b[39m:\u001b[32m89\u001b[39m)\r\n  ammonite.$sess.cmd32$Helper.<init>(\u001b[32mcmd32.sc\u001b[39m:\u001b[32m3\u001b[39m)\r\n  ammonite.$sess.cmd32$.<init>(\u001b[32mcmd32.sc\u001b[39m:\u001b[32m7\u001b[39m)\r\n  ammonite.$sess.cmd32$.<clinit>(\u001b[32mcmd32.sc\u001b[39m:\u001b[32m-1\u001b[39m)"
     ]
    }
   ],
   "source": [
    "val a = List(1)\n",
    "a.tail\n",
    "a.tail.last"
   ]
  },
  {
   "cell_type": "code",
   "execution_count": 35,
   "metadata": {},
   "outputs": [
    {
     "data": {
      "text/plain": [
       "\u001b[36ma\u001b[39m: \u001b[32mString\u001b[39m = \u001b[32m\"class RegIfExample3\"\u001b[39m\r\n",
       "\u001b[36mres34_1\u001b[39m: \u001b[32mString\u001b[39m = \u001b[32m\"RegIfExample3\"\u001b[39m"
      ]
     },
     "execution_count": 35,
     "metadata": {},
     "output_type": "execute_result"
    }
   ],
   "source": [
    "val a = \"class RegIfExample3\"\n",
    "a.split(\" \").last"
   ]
  },
  {
   "cell_type": "code",
   "execution_count": null,
   "metadata": {},
   "outputs": [],
   "source": []
  }
 ],
 "metadata": {
  "kernelspec": {
   "display_name": "Scala",
   "language": "scala",
   "name": "scala"
  },
  "language_info": {
   "codemirror_mode": "text/x-scala",
   "file_extension": ".scala",
   "mimetype": "text/x-scala",
   "name": "scala",
   "nbconvert_exporter": "script",
   "version": "2.12.8"
  }
 },
 "nbformat": 4,
 "nbformat_minor": 2
}
