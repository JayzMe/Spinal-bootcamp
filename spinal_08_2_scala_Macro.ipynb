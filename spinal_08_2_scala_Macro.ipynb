{
 "cells": [
  {
   "cell_type": "markdown",
   "metadata": {},
   "source": [
    "<a name=\"top\"></a><img src=\"source/SpinalHDL.png\" alt=\"SpinalHDL based on Scala\" style=\"width:320px;\" />"
   ]
  },
  {
   "cell_type": "markdown",
   "metadata": {},
   "source": [
    "运行SpinalHDL代码之前，务必加载SpinalHDL的库 \n",
    "（**注**：*第一次运行时需要下载库，可能会有点慢，请耐心等待*）"
   ]
  },
  {
   "cell_type": "code",
   "execution_count": null,
   "metadata": {},
   "outputs": [],
   "source": [
    "val path = System.getProperty(\"user.dir\") + \"/source/load-spinal.sc\"\n",
    "interp.load.module(ammonite.ops.Path(java.nio.file.FileSystems.getDefault().getPath(path)))"
   ]
  },
  {
   "cell_type": "markdown",
   "metadata": {},
   "source": [
    "## Macro\n"
   ]
  },
  {
   "cell_type": "code",
   "execution_count": null,
   "metadata": {},
   "outputs": [],
   "source": [
    "import language.experimental.macros\n",
    "\n",
    "// Normal imports\n",
    "import reflect.macros.blackbox.Context\n",
    "\n",
    "object Step1Complete {\n",
    "  def hello(): Unit = macro hello_impl\n",
    "\n",
    "  def hello_impl(c: Context)(): c.Expr[Unit] = {\n",
    "    import c.universe._\n",
    "    println(\"Compiling!\")\n",
    "    reify { println(\"Hello World!\") }\n",
    "  }\n",
    "     \n",
    "}      "
   ]
  },
  {
   "cell_type": "markdown",
   "metadata": {},
   "source": [
    "## quasiquotes \n",
    "https://docs.scala-lang.org/overviews/quasiquotes/setup.html  \n",
    "可对比参考Lisp的宏"
   ]
  },
  {
   "cell_type": "code",
   "execution_count": 8,
   "metadata": {},
   "outputs": [
    {
     "data": {
      "text/plain": [
       "\u001b[36muniverse\u001b[39m: \u001b[32mreflect\u001b[39m.\u001b[32mapi\u001b[39m.\u001b[32mJavaUniverse\u001b[39m = scala.reflect.runtime.JavaUniverse@63cd909\r\n",
       "\u001b[32mimport \u001b[39m\u001b[36muniverse._\n",
       "\u001b[39m\r\n",
       "\u001b[36mtree\u001b[39m: \u001b[32mTree\u001b[39m = \u001b[33mApply\u001b[39m(\u001b[33mSelect\u001b[39m(\u001b[33mIdent\u001b[39m(i), am), \u001b[33mList\u001b[39m(\u001b[33mSelect\u001b[39m(\u001b[33mIdent\u001b[39m(a), quasiquote)))\r\n",
       "\u001b[36mC\u001b[39m: \u001b[32mClassDef\u001b[39m = \u001b[33mClassDef\u001b[39m(\n",
       "  \u001b[33mModifiers\u001b[39m(\u001b[32m0L\u001b[39m, , \u001b[33mList\u001b[39m()),\n",
       "  C,\n",
       "  \u001b[33mList\u001b[39m(),\n",
       "  \u001b[33mTemplate\u001b[39m(\n",
       "    \u001b[33mList\u001b[39m(\u001b[33mSelect\u001b[39m(\u001b[33mIdent\u001b[39m(scala), AnyRef)),\n",
       "    \u001b[33mValDef\u001b[39m(\u001b[33mModifiers\u001b[39m(\u001b[32m4L\u001b[39m, , \u001b[33mList\u001b[39m()), _, <notype>, <empty>),\n",
       "    \u001b[33mList\u001b[39m(\n",
       "      \u001b[33mDefDef\u001b[39m(\n",
       "        \u001b[33mModifiers\u001b[39m(\u001b[32m0L\u001b[39m, , \u001b[33mList\u001b[39m()),\n",
       "        <init>,\n",
       "        \u001b[33mList\u001b[39m(),\n",
       "        \u001b[33mList\u001b[39m(\u001b[33mList\u001b[39m()),\n",
       "        <type ?>,\n",
       "        \u001b[33mBlock\u001b[39m(\n",
       "          \u001b[33mList\u001b[39m(\u001b[33mApply\u001b[39m(\u001b[33mSelect\u001b[39m(\u001b[33mSuper\u001b[39m(\u001b[33mThis\u001b[39m(), ), <init>), \u001b[33mList\u001b[39m())),\n",
       "          \u001b[33mLiteral\u001b[39m(\u001b[33mConstant\u001b[39m(()))\n",
       "        )\n",
       "      )\n",
       "    )\n",
       "  )\n",
       ")"
      ]
     },
     "execution_count": 8,
     "metadata": {},
     "output_type": "execute_result"
    }
   ],
   "source": [
    "val universe: scala.reflect.runtime.universe.type = scala.reflect.runtime.universe\n",
    "import universe._\n",
    "val tree = q\"i am { a quasiquote }\"\n",
    "val C = q\"class C\"\n",
    "//println(showCode(C))\n",
    "//println(showCode(tree))\n",
    "//println(showRaw(tree))"
   ]
  },
  {
   "cell_type": "code",
   "execution_count": 2,
   "metadata": {},
   "outputs": [
    {
     "data": {
      "text/plain": [
       "\u001b[36ma\u001b[39m: \u001b[32mLiteral\u001b[39m = \u001b[33mLiteral\u001b[39m(\u001b[33mConstant\u001b[39m(true))\r\n",
       "\u001b[36mb\u001b[39m: \u001b[32mBoolean\u001b[39m = true"
      ]
     },
     "execution_count": 2,
     "metadata": {},
     "output_type": "execute_result"
    }
   ],
   "source": [
    "val a = q\"true\"\n",
    "val b = true"
   ]
  },
  {
   "cell_type": "code",
   "execution_count": 3,
   "metadata": {},
   "outputs": [
    {
     "data": {
      "text/plain": [
       "\u001b[36mwhat\u001b[39m: \u001b[32mTree\u001b[39m = \u001b[33mSelect\u001b[39m(\u001b[33mIdent\u001b[39m(a), quasiquote)"
      ]
     },
     "execution_count": 3,
     "metadata": {},
     "output_type": "execute_result"
    }
   ],
   "source": [
    "val q\"i am $what\" = q\"i am { a quasiquote }\""
   ]
  },
  {
   "cell_type": "code",
   "execution_count": 4,
   "metadata": {},
   "outputs": [
    {
     "data": {
      "text/plain": [
       "\u001b[36mab\u001b[39m: \u001b[32mList\u001b[39m[\u001b[32mIdent\u001b[39m] = \u001b[33mList\u001b[39m(\u001b[33mIdent\u001b[39m(a), \u001b[33mIdent\u001b[39m(b))"
      ]
     },
     "execution_count": 4,
     "metadata": {},
     "output_type": "execute_result"
    }
   ],
   "source": [
    "val ab = List(q\"a\", q\"b\")"
   ]
  },
  {
   "cell_type": "code",
   "execution_count": 10,
   "metadata": {},
   "outputs": [
    {
     "name": "stdout",
     "output_type": "stream",
     "text": [
      "it worked!\n"
     ]
    },
    {
     "data": {
      "text/plain": [
       "\u001b[32mimport \u001b[39m\u001b[36mscala.reflect.runtime.currentMirror\n",
       "\u001b[39m\r\n",
       "\u001b[32mimport \u001b[39m\u001b[36mscala.tools.reflect.ToolBox\n",
       "\u001b[39m\r\n",
       "\u001b[36mtoolbox\u001b[39m: \u001b[32mToolBox\u001b[39m[\u001b[32muniverse\u001b[39m.type] = scala.tools.reflect.ToolBoxFactory$ToolBoxImpl@68e4d8d4\r\n",
       "\u001b[36mfab\u001b[39m: \u001b[32mTree\u001b[39m = \u001b[33mApply\u001b[39m(\u001b[33mIdent\u001b[39m(f), \u001b[33mList\u001b[39m(\u001b[33mIdent\u001b[39m(a), \u001b[33mIdent\u001b[39m(b)))\r\n",
       "\u001b[36mtree\u001b[39m: \u001b[32mTree\u001b[39m = \u001b[33mApply\u001b[39m(\u001b[33mSelect\u001b[39m(\u001b[33mIdent\u001b[39m(i), am), \u001b[33mList\u001b[39m(\u001b[33mSelect\u001b[39m(\u001b[33mIdent\u001b[39m(a), quasiquote)))"
      ]
     },
     "execution_count": 10,
     "metadata": {},
     "output_type": "execute_result"
    }
   ],
   "source": [
    "import scala.reflect.runtime.currentMirror\n",
    "import scala.tools.reflect.ToolBox\n",
    "val toolbox = currentMirror.mkToolBox()\n",
    "val fab = q\"f(..$ab)\"\n",
    "//val C = q\"class C\"\n",
    "val tree = q\"i am { a quasiquote }\"\n",
    "println(tree match { case q\"i am { a quasiquote }\" => \"it worked!\" })"
   ]
  },
  {
   "cell_type": "code",
   "execution_count": 12,
   "metadata": {},
   "outputs": [
    {
     "name": "stdout",
     "output_type": "stream",
     "text": [
      "true\n"
     ]
    }
   ],
   "source": [
    "println(q\"foo + bar\" equalsStructure q\"foo.+(bar)\")"
   ]
  },
  {
   "cell_type": "code",
   "execution_count": 13,
   "metadata": {},
   "outputs": [
    {
     "data": {
      "text/plain": [
       "\u001b[36mx\u001b[39m: \u001b[32mValDef\u001b[39m = \u001b[33mValDef\u001b[39m(\n",
       "  \u001b[33mModifiers\u001b[39m(\u001b[32m0L\u001b[39m, , \u001b[33mList\u001b[39m()),\n",
       "  x,\n",
       "  \u001b[33mAppliedTypeTree\u001b[39m(\u001b[33mIdent\u001b[39m(List), \u001b[33mList\u001b[39m(\u001b[33mIdent\u001b[39m(Int))),\n",
       "  \u001b[33mMatch\u001b[39m(\n",
       "    \u001b[33mApply\u001b[39m(\u001b[33mIdent\u001b[39m(List), \u001b[33mList\u001b[39m(\u001b[33mLiteral\u001b[39m(\u001b[33mConstant\u001b[39m(\u001b[32m1\u001b[39m)), \u001b[33mLiteral\u001b[39m(\u001b[33mConstant\u001b[39m(\u001b[32m2\u001b[39m)))),\n",
       "    \u001b[33mList\u001b[39m(\n",
       "      \u001b[33mCaseDef\u001b[39m(\n",
       "        \u001b[33mApply\u001b[39m(\u001b[33mIdent\u001b[39m(List), \u001b[33mList\u001b[39m(\u001b[33mBind\u001b[39m(a, \u001b[33mIdent\u001b[39m(_)), \u001b[33mBind\u001b[39m(b, \u001b[33mIdent\u001b[39m(_)))),\n",
       "        <empty>,\n",
       "        \u001b[33mApply\u001b[39m(\u001b[33mIdent\u001b[39m(List), \u001b[33mList\u001b[39m(\u001b[33mApply\u001b[39m(\u001b[33mSelect\u001b[39m(\u001b[33mIdent\u001b[39m(a), $plus), \u001b[33mList\u001b[39m(\u001b[33mIdent\u001b[39m(b)))))\n",
       "      )\n",
       "    )\n",
       "  )\n",
       ")"
      ]
     },
     "execution_count": 13,
     "metadata": {},
     "output_type": "execute_result"
    }
   ],
   "source": [
    "val x = q\"\"\"\n",
    "         val x: List[Int] = List(1, 2) match {\n",
    "           case List(a, b) => List(a + b)\n",
    "         }\n",
    "       \"\"\""
   ]
  },
  {
   "cell_type": "code",
   "execution_count": 14,
   "metadata": {},
   "outputs": [
    {
     "data": {
      "text/plain": [
       "\u001b[36margs\u001b[39m: \u001b[32mList\u001b[39m[\u001b[32mTree\u001b[39m] = \u001b[33mList\u001b[39m(\u001b[33mIdent\u001b[39m(a), \u001b[33mIdent\u001b[39m(b))"
      ]
     },
     "execution_count": 14,
     "metadata": {},
     "output_type": "execute_result"
    }
   ],
   "source": [
    "val q\"f(..$args)\" = q\"f(a, b)\""
   ]
  },
  {
   "cell_type": "code",
   "execution_count": 17,
   "metadata": {},
   "outputs": [
    {
     "data": {
      "text/plain": [
       "\u001b[36mtwo\u001b[39m: \u001b[32mInt\u001b[39m = \u001b[32m2\u001b[39m\r\n",
       "\u001b[36mfour\u001b[39m: \u001b[32mTree\u001b[39m = \u001b[33mApply\u001b[39m(\n",
       "  \u001b[33mSelect\u001b[39m(\u001b[33mLiteral\u001b[39m(\u001b[33mConstant\u001b[39m(\u001b[32m2\u001b[39m)), $plus),\n",
       "  \u001b[33mList\u001b[39m(\u001b[33mLiteral\u001b[39m(\u001b[33mConstant\u001b[39m(\u001b[32m2\u001b[39m)))\n",
       ")\r\n",
       "\u001b[36mints\u001b[39m: \u001b[32mList\u001b[39m[\u001b[32mInt\u001b[39m] = \u001b[33mList\u001b[39m(\u001b[32m1\u001b[39m, \u001b[32m2\u001b[39m, \u001b[32m3\u001b[39m)\r\n",
       "\u001b[36mf123\u001b[39m: \u001b[32mTree\u001b[39m = \u001b[33mApply\u001b[39m(\n",
       "  \u001b[33mIdent\u001b[39m(f),\n",
       "  \u001b[33mList\u001b[39m(\u001b[33mLiteral\u001b[39m(\u001b[33mConstant\u001b[39m(\u001b[32m1\u001b[39m)), \u001b[33mLiteral\u001b[39m(\u001b[33mConstant\u001b[39m(\u001b[32m2\u001b[39m)), \u001b[33mLiteral\u001b[39m(\u001b[33mConstant\u001b[39m(\u001b[32m3\u001b[39m)))\n",
       ")"
      ]
     },
     "execution_count": 17,
     "metadata": {},
     "output_type": "execute_result"
    }
   ],
   "source": [
    "val two = 1 + 1\n",
    "val four = q\"$two + $two\"\n",
    "val ints = List(1, 2, 3)\n",
    "val f123 = q\"f(..$ints)\""
   ]
  },
  {
   "cell_type": "code",
   "execution_count": 18,
   "metadata": {},
   "outputs": [
    {
     "data": {
      "text/plain": [
       "\u001b[36mleft\u001b[39m: \u001b[32mInt\u001b[39m = \u001b[32m2\u001b[39m\r\n",
       "\u001b[36mright\u001b[39m: \u001b[32mInt\u001b[39m = \u001b[32m2\u001b[39m"
      ]
     },
     "execution_count": 18,
     "metadata": {},
     "output_type": "execute_result"
    }
   ],
   "source": [
    "val q\"${left: Int} + ${right: Int}\" = q\"2 + 2\""
   ]
  },
  {
   "cell_type": "code",
   "execution_count": 23,
   "metadata": {},
   "outputs": [
    {
     "data": {
      "text/plain": [
       "\u001b[36mstats\u001b[39m: \u001b[32mList\u001b[39m[\u001b[32mTree\u001b[39m] = \u001b[33mList\u001b[39m(\n",
       "  \u001b[33mApply\u001b[39m(\n",
       "    \u001b[33mSelect\u001b[39m(\u001b[33mIdent\u001b[39m(scala), Tuple2),\n",
       "    \u001b[33mList\u001b[39m(\u001b[33mLiteral\u001b[39m(\u001b[33mConstant\u001b[39m(\u001b[32m2\u001b[39m)), \u001b[33mLiteral\u001b[39m(\u001b[33mConstant\u001b[39m(\u001b[32m3\u001b[39m)))\n",
       "  )\n",
       ")"
      ]
     },
     "execution_count": 23,
     "metadata": {},
     "output_type": "execute_result"
    }
   ],
   "source": [
    "val q\"..$stats\" = q\"(2,3)\""
   ]
  },
  {
   "cell_type": "code",
   "execution_count": 26,
   "metadata": {},
   "outputs": [
    {
     "name": "stdout",
     "output_type": "stream",
     "text": [
      "compiled and run at runtime!\n"
     ]
    },
    {
     "data": {
      "text/plain": [
       "\u001b[36mcode\u001b[39m: \u001b[32mTree\u001b[39m = \u001b[33mApply\u001b[39m(\n",
       "  \u001b[33mIdent\u001b[39m(println),\n",
       "  \u001b[33mList\u001b[39m(\u001b[33mLiteral\u001b[39m(\u001b[33mConstant\u001b[39m(\u001b[32m\"compiled and run at runtime!\"\u001b[39m)))\n",
       ")\r\n",
       "\u001b[36mcompiledCode\u001b[39m: () => \u001b[32mAny\u001b[39m = scala.tools.reflect.ToolBoxFactory$ToolBoxImpl$ToolBoxGlobal$$Lambda$3166/2090482644@433c7cb5\r\n",
       "\u001b[36mresult\u001b[39m: \u001b[32mAny\u001b[39m = ()"
      ]
     },
     "execution_count": 26,
     "metadata": {},
     "output_type": "execute_result"
    }
   ],
   "source": [
    "val code = q\"\"\"println(\"compiled and run at runtime!\")\"\"\"\n",
    "val compiledCode = toolbox.compile(code)\n",
    "val result = compiledCode()"
   ]
  },
  {
   "cell_type": "code",
   "execution_count": 28,
   "metadata": {},
   "outputs": [
    {
     "data": {
      "text/plain": [
       "\u001b[36mx\u001b[39m: \u001b[32mPackageDef\u001b[39m = \u001b[33mPackageDef\u001b[39m(\n",
       "  \u001b[33mIdent\u001b[39m(mypackage),\n",
       "  \u001b[33mList\u001b[39m(\n",
       "    \u001b[33mClassDef\u001b[39m(\n",
       "      \u001b[33mModifiers\u001b[39m(\u001b[32m0L\u001b[39m, , \u001b[33mList\u001b[39m()),\n",
       "      MyClass,\n",
       "      \u001b[33mList\u001b[39m(),\n",
       "      \u001b[33mTemplate\u001b[39m(\n",
       "        \u001b[33mList\u001b[39m(\u001b[33mSelect\u001b[39m(\u001b[33mIdent\u001b[39m(scala), AnyRef)),\n",
       "        \u001b[33mValDef\u001b[39m(\u001b[33mModifiers\u001b[39m(\u001b[32m4L\u001b[39m, , \u001b[33mList\u001b[39m()), _, <notype>, <empty>),\n",
       "        \u001b[33mList\u001b[39m(\n",
       "          \u001b[33mDefDef\u001b[39m(\n",
       "            \u001b[33mModifiers\u001b[39m(\u001b[32m0L\u001b[39m, , \u001b[33mList\u001b[39m()),\n",
       "            <init>,\n",
       "            \u001b[33mList\u001b[39m(),\n",
       "            \u001b[33mList\u001b[39m(\u001b[33mList\u001b[39m()),\n",
       "            <type ?>,\n",
       "            \u001b[33mBlock\u001b[39m(\n",
       "              \u001b[33mList\u001b[39m(\u001b[33mApply\u001b[39m(\u001b[33mSelect\u001b[39m(\u001b[33mSuper\u001b[39m(\u001b[33mThis\u001b[39m(), ), <init>), \u001b[33mList\u001b[39m())),\n",
       "              \u001b[33mLiteral\u001b[39m(\u001b[33mConstant\u001b[39m(()))\n",
       "            )\n",
       "          )\n",
       "        )\n",
       "      )\n",
       "    )\n",
       "  )\n",
       ")\r\n",
       "\u001b[36mres27_1\u001b[39m: \u001b[32mString\u001b[39m = \u001b[32m\"\"\"package mypackage {\r\n",
       "  class MyClass\r\n",
       "}\"\"\"\u001b[39m"
      ]
     },
     "execution_count": 28,
     "metadata": {},
     "output_type": "execute_result"
    }
   ],
   "source": [
    "val x = q\"package mypackage { class MyClass }\"\n",
    "showCode(x)"
   ]
  },
  {
   "cell_type": "code",
   "execution_count": 31,
   "metadata": {},
   "outputs": [
    {
     "data": {
      "text/plain": [
       "defined \u001b[32mfunction\u001b[39m \u001b[36mgenerateCode\u001b[39m\r\n",
       "defined \u001b[32mfunction\u001b[39m \u001b[36msaveToFile\u001b[39m"
      ]
     },
     "execution_count": 31,
     "metadata": {},
     "output_type": "execute_result"
    }
   ],
   "source": [
    " \n",
    "  def generateCode() =\n",
    "    q\"package mypackage { class MyClass }\"\n",
    "  def saveToFile(path: String, code: Tree) = {\n",
    "    val writer = new java.io.PrintWriter(path)\n",
    "    try writer.write(showCode(code))\n",
    "    finally writer.close()\n",
    "  }\n",
    "  saveToFile(\"myfile.scala\", generateCode())\n",
    " "
   ]
  },
  {
   "cell_type": "code",
   "execution_count": 37,
   "metadata": {
    "scrolled": true
   },
   "outputs": [
    {
     "name": "stderr",
     "output_type": "stream",
     "text": [
      "cmd37.sc:3: tname is already defined as value tname\n",
      "val q\"$mods def $tname[..$tparams](...$paramss): $tpt = $expr\" = q\"\"\"\n",
      "                 ^cmd37.sc:3: expr is already defined as value expr\n",
      "val q\"$mods def $tname[..$tparams](...$paramss): $tpt = $expr\" = q\"\"\"\n",
      "                                                         ^Compilation Failed"
     ]
    },
    {
     "ename": "",
     "evalue": "",
     "output_type": "error",
     "traceback": [
      "Compilation Failed"
     ]
    }
   ],
   "source": [
    "val q\"$expr.$tname\" = q\"a.eat\"\n",
    "val q\"${x: scala.Symbol}\" = q\"'a\"\n"
   ]
  },
  {
   "cell_type": "code",
   "execution_count": 56,
   "metadata": {},
   "outputs": [
    {
     "data": {
      "text/plain": [
       "\u001b[36mmods\u001b[39m: \u001b[32mModifiers\u001b[39m = \u001b[33mModifiers\u001b[39m(\u001b[32m4L\u001b[39m, , \u001b[33mList\u001b[39m())\r\n",
       "\u001b[36mtname\u001b[39m: \u001b[32mTermName\u001b[39m = interrupt\r\n",
       "\u001b[36mtparams\u001b[39m: \u001b[32mList\u001b[39m[\u001b[32mTypeDef\u001b[39m] = \u001b[33mList\u001b[39m()\r\n",
       "\u001b[36mparamss\u001b[39m: \u001b[32mList\u001b[39m[\u001b[32mList\u001b[39m[\u001b[32mValDef\u001b[39m]] = \u001b[33mList\u001b[39m(\n",
       "  \u001b[33mList\u001b[39m(\n",
       "    \u001b[33mValDef\u001b[39m(\u001b[33mModifiers\u001b[39m(\u001b[32m8192L\u001b[39m, , \u001b[33mList\u001b[39m()), namePre, \u001b[33mIdent\u001b[39m(String), <empty>),\n",
       "    \u001b[33mValDef\u001b[39m(\n",
       "      \u001b[33mModifiers\u001b[39m(\u001b[32m8192L\u001b[39m, , \u001b[33mList\u001b[39m()),\n",
       "      triggers,\n",
       "      \u001b[33mAppliedTypeTree\u001b[39m(\n",
       "        \u001b[33mSelect\u001b[39m(\u001b[33mSelect\u001b[39m(\u001b[33mIdent\u001b[39m(_root_), scala), <repeated>),\n",
       "        \u001b[33mList\u001b[39m(\u001b[33mIdent\u001b[39m(Int))\n",
       "      ),\n",
       "      <empty>\n",
       "    )\n",
       "  ),\n",
       "  \u001b[33mList\u001b[39m(\u001b[33mValDef\u001b[39m(\u001b[33mModifiers\u001b[39m(\u001b[32m8192L\u001b[39m, , \u001b[33mList\u001b[39m()), name, \u001b[33mIdent\u001b[39m(String), <empty>))\n",
       ")\r\n",
       "\u001b[36mtpt\u001b[39m: \u001b[32mTree\u001b[39m = \u001b[33mIdent\u001b[39m(Unit)\r\n",
       "\u001b[36mexpr\u001b[39m: \u001b[32mTree\u001b[39m = \u001b[33mApply\u001b[39m(\u001b[33mIdent\u001b[39m(println), \u001b[33mList\u001b[39m(\u001b[33mLiteral\u001b[39m(\u001b[33mConstant\u001b[39m(\u001b[32m\"hello scala macro\"\u001b[39m))))"
      ]
     },
     "execution_count": 56,
     "metadata": {},
     "output_type": "execute_result"
    }
   ],
   "source": [
    "val q\"$mods def $tname[..$tparams](...$paramss): $tpt = $expr\" = q\"\"\"\n",
    "private def interrupt(namePre:String, triggers:Int*)(name:String): Unit =  \n",
    "println(\"hello scala macro\")\n",
    "\"\"\""
   ]
  },
  {
   "cell_type": "code",
   "execution_count": 45,
   "metadata": {},
   "outputs": [
    {
     "data": {
      "text/plain": [
       "\u001b[36mstats0\u001b[39m: \u001b[32mList\u001b[39m[\u001b[32mTree\u001b[39m] = \u001b[33mList\u001b[39m(\u001b[33mIdent\u001b[39m(a), \u001b[33mIdent\u001b[39m(b), \u001b[33mIdent\u001b[39m(c))\r\n",
       "\u001b[36mstats1\u001b[39m: \u001b[32mList\u001b[39m[\u001b[32mTree\u001b[39m] = \u001b[33mList\u001b[39m(\n",
       "  \u001b[33mApply\u001b[39m(\u001b[33mSelect\u001b[39m(\u001b[33mIdent\u001b[39m(scala), Tuple3), \u001b[33mList\u001b[39m(\u001b[33mIdent\u001b[39m(a), \u001b[33mIdent\u001b[39m(b), \u001b[33mIdent\u001b[39m(c)))\n",
       ")\r\n",
       "\u001b[36mstats2\u001b[39m: \u001b[32mList\u001b[39m[\u001b[32mTree\u001b[39m] = \u001b[33mList\u001b[39m(\u001b[33mIdent\u001b[39m(a), \u001b[33mIdent\u001b[39m(b), \u001b[33mIdent\u001b[39m(c))\r\n",
       "\u001b[36mstats3\u001b[39m: \u001b[32mList\u001b[39m[\u001b[32mTree\u001b[39m] = \u001b[33mList\u001b[39m(\n",
       "  \u001b[33mValDef\u001b[39m(\u001b[33mModifiers\u001b[39m(\u001b[32m0L\u001b[39m, , \u001b[33mList\u001b[39m()), a, \u001b[33mIdent\u001b[39m(Int), \u001b[33mLiteral\u001b[39m(\u001b[33mConstant\u001b[39m(\u001b[32m1\u001b[39m))),\n",
       "  \u001b[33mValDef\u001b[39m(\u001b[33mModifiers\u001b[39m(\u001b[32m0L\u001b[39m, , \u001b[33mList\u001b[39m()), b, \u001b[33mIdent\u001b[39m(Int), \u001b[33mLiteral\u001b[39m(\u001b[33mConstant\u001b[39m(\u001b[32m2\u001b[39m))),\n",
       "  \u001b[33mValDef\u001b[39m(\u001b[33mModifiers\u001b[39m(\u001b[32m0L\u001b[39m, , \u001b[33mList\u001b[39m()), c, <type ?>, \u001b[33mLiteral\u001b[39m(\u001b[33mConstant\u001b[39m(\u001b[32m3\u001b[39m)))\n",
       ")"
      ]
     },
     "execution_count": 45,
     "metadata": {},
     "output_type": "execute_result"
    }
   ],
   "source": [
    "val q\"..$stats0\" = q\"a; b; c\"\n",
    "val q\"..$stats1\" = q\"(a, b, c)\"\n",
    "val q\"..$stats2\" = q\"\"\"{a\n",
    "b\n",
    "c}\"\"\"\n",
    "val q\"..$stats3\" = q\"\"\"{\n",
    "val a: Int = 1\n",
    "val b: Int = 2\n",
    "val c = 3}\"\"\""
   ]
  },
  {
   "cell_type": "code",
   "execution_count": 49,
   "metadata": {},
   "outputs": [
    {
     "data": {
      "text/plain": [
       "\u001b[36mextractor\u001b[39m: \u001b[32mTree\u001b[39m = \u001b[33mApply\u001b[39m(\n",
       "  \u001b[33mIdent\u001b[39m(Foo),\n",
       "  \u001b[33mList\u001b[39m(\u001b[33mLiteral\u001b[39m(\u001b[33mConstant\u001b[39m(\u001b[32m1\u001b[39m)), \u001b[33mLiteral\u001b[39m(\u001b[33mConstant\u001b[39m(\u001b[32m2\u001b[39m)), \u001b[33mLiteral\u001b[39m(\u001b[33mConstant\u001b[39m(\u001b[32m3\u001b[39m)))\n",
       ")\r\n",
       "\u001b[36mextractor2\u001b[39m: \u001b[32mTree\u001b[39m = \u001b[33mApply\u001b[39m(\n",
       "  \u001b[33mIdent\u001b[39m(Foo),\n",
       "  \u001b[33mList\u001b[39m(\u001b[33mLiteral\u001b[39m(\u001b[33mConstant\u001b[39m(\u001b[32m1\u001b[39m)), \u001b[33mLiteral\u001b[39m(\u001b[33mConstant\u001b[39m(\u001b[32m2\u001b[39m)), \u001b[33mLiteral\u001b[39m(\u001b[33mConstant\u001b[39m(\u001b[32m3\u001b[39m)))\n",
       ")\r\n",
       "\u001b[36mid\u001b[39m: \u001b[32mTree\u001b[39m = \u001b[33mIdent\u001b[39m(Foo)\r\n",
       "\u001b[36mpats\u001b[39m: \u001b[32mList\u001b[39m[\u001b[32mTree\u001b[39m] = \u001b[33mList\u001b[39m(\n",
       "  \u001b[33mLiteral\u001b[39m(\u001b[33mConstant\u001b[39m(\u001b[32m1\u001b[39m)),\n",
       "  \u001b[33mLiteral\u001b[39m(\u001b[33mConstant\u001b[39m(\u001b[32m2\u001b[39m)),\n",
       "  \u001b[33mLiteral\u001b[39m(\u001b[33mConstant\u001b[39m(\u001b[32m3\u001b[39m))\n",
       ")\r\n",
       "\u001b[36mid2\u001b[39m: \u001b[32mTree\u001b[39m = \u001b[33mIdent\u001b[39m(Foo)\r\n",
       "\u001b[36mpats2\u001b[39m: \u001b[32mList\u001b[39m[\u001b[32mTree\u001b[39m] = \u001b[33mList\u001b[39m(\n",
       "  \u001b[33mLiteral\u001b[39m(\u001b[33mConstant\u001b[39m(\u001b[32m1\u001b[39m)),\n",
       "  \u001b[33mLiteral\u001b[39m(\u001b[33mConstant\u001b[39m(\u001b[32m2\u001b[39m)),\n",
       "  \u001b[33mLiteral\u001b[39m(\u001b[33mConstant\u001b[39m(\u001b[32m3\u001b[39m))\n",
       ")"
      ]
     },
     "execution_count": 49,
     "metadata": {},
     "output_type": "execute_result"
    }
   ],
   "source": [
    " val extractor = pq\"Foo(1, 2, 3)\"\n",
    " val extractor2 = q\"Foo(1, 2, 3)\"\n",
    "val pq\"$id(..$pats)\" = extractor\n",
    "val pq\"$id2(..$pats2)\" = extractor2"
   ]
  },
  {
   "cell_type": "code",
   "execution_count": 52,
   "metadata": {},
   "outputs": [
    {
     "data": {
      "text/plain": [
       "\u001b[36misT\u001b[39m: \u001b[32mTyped\u001b[39m = \u001b[33mTyped\u001b[39m(\u001b[33mIdent\u001b[39m(_), \u001b[33mIdent\u001b[39m(T))"
      ]
     },
     "execution_count": 52,
     "metadata": {},
     "output_type": "execute_result"
    }
   ],
   "source": [
    "val isT =  pq\"_: T\""
   ]
  },
  {
   "cell_type": "code",
   "execution_count": 53,
   "metadata": {},
   "outputs": [
    {
     "data": {
      "text/plain": [
       "\u001b[36mf3\u001b[39m: \u001b[32mDefDef\u001b[39m = \u001b[33mDefDef\u001b[39m(\n",
       "  \u001b[33mModifiers\u001b[39m(\u001b[32m532L\u001b[39m, , \u001b[33mList\u001b[39m()),\n",
       "  f,\n",
       "  \u001b[33mList\u001b[39m(),\n",
       "  \u001b[33mList\u001b[39m(),\n",
       "  \u001b[33mSelect\u001b[39m(\u001b[33mIdent\u001b[39m(scala), Unit),\n",
       "  <empty>\n",
       ")"
      ]
     },
     "execution_count": 53,
     "metadata": {},
     "output_type": "execute_result"
    }
   ],
   "source": [
    "val f3 = q\"private implicit def f\""
   ]
  },
  {
   "cell_type": "code",
   "execution_count": null,
   "metadata": {},
   "outputs": [],
   "source": [
    "import language.experimental.macros\n",
    "\n",
    "// Normal imports\n",
    "import reflect.macros.blackbox.Context"
   ]
  },
  {
   "cell_type": "code",
   "execution_count": null,
   "metadata": {},
   "outputs": [],
   "source": [
    "abstract class Animal {\n",
    "  def name: String\n",
    "}\n",
    "case class Cat(name: String) extends Animal\n",
    "case class Dog(name: String) extends Animal"
   ]
  },
  {
   "cell_type": "code",
   "execution_count": null,
   "metadata": {},
   "outputs": [],
   "source": [
    "object CovarianceTest extends App {\n",
    "  def printAnimalNames(animals: List[Animal]): Unit = {\n",
    "    animals.foreach { animal =>\n",
    "      println(animal.name)\n",
    "    }\n",
    "  }\n",
    "\n",
    "  val cats: List[Cat] = List(Cat(\"Whiskers\"), Cat(\"Tom\"))\n",
    "  val dogs: List[Dog] = List(Dog(\"Fido\"), Dog(\"Rex\"))\n",
    "\n",
    "  printAnimalNames(cats)\n",
    "  // Whiskers\n",
    "  // Tom\n",
    "\n",
    "  printAnimalNames(dogs)\n",
    "  // Fido\n",
    "  // Rex\n",
    "}"
   ]
  },
  {
   "cell_type": "code",
   "execution_count": null,
   "metadata": {},
   "outputs": [],
   "source": [
    "//CovarianceTest.printAnimalNames(CovarianceTest.cats)\n",
    " val cats: List[Cat] = List(Cat(\"Whiskers\"), Cat(\"Tom\"))\n",
    "  val dogs: List[Dog] = List(Dog(\"Fido\"), Dog(\"Rex\"))\n",
    "CovarianceTest.printAnimalNames(cats)\n",
    "    CovarianceTest.printAnimalNames(dogs)"
   ]
  },
  {
   "cell_type": "code",
   "execution_count": null,
   "metadata": {},
   "outputs": [],
   "source": [
    "  val HTMLFactory =\n",
    "    s\"\"\"\n",
    "       |<!DOCTYPE html>\n",
    "       |<html>\n",
    "       |  <head>\n",
    "       |    <title>\n",
    "       |      Regif\n",
    "       |    </title>\n",
    "       |    <style>\n",
    "       |      div{\n",
    "       |          text-align: center;\n",
    "       |      }\n",
    "       |\n",
    "       |    </style>\n",
    "       |  </head>\n",
    "       |  <body>\n",
    "       |  <table  align=\"center\" class=\"theme-default\">\n",
    "       |  </table>\n",
    "       |  </body>\n",
    "       |</html>\n",
    "       |\"\"\".stripMargin"
   ]
  },
  {
   "cell_type": "code",
   "execution_count": null,
   "metadata": {},
   "outputs": [],
   "source": [
    "println(HTMLFactory)"
   ]
  },
  {
   "cell_type": "code",
   "execution_count": null,
   "metadata": {},
   "outputs": [],
   "source": [
    "val htmlbody = \"html5 ${body} end\"\n",
    "val body = \"-body-\"\n",
    "StringContext(\"html5 \",\"end\").s(body)"
   ]
  },
  {
   "cell_type": "code",
   "execution_count": null,
   "metadata": {},
   "outputs": [],
   "source": [
    "val body = \"div xxx div \"\n",
    "val b = s\"html5 ${body} end\" \n",
    "val c = new StringContext(htmlbody).s(htmlbody)\n",
    "val d = StringContext(\"html5 ${body} end\")\n",
    " \n",
    "//val bf = \"html5 %s end\".format(body)"
   ]
  },
  {
   "cell_type": "code",
   "execution_count": null,
   "metadata": {},
   "outputs": [],
   "source": [
    "class T1 extends Component{\n",
    "    val f = UInt\"11000011\"\n",
    "}\n",
    "showRtl(new T1)"
   ]
  },
  {
   "cell_type": "code",
   "execution_count": 3,
   "metadata": {},
   "outputs": [
    {
     "data": {
      "text/plain": [
       "\u001b[32mimport \u001b[39m\u001b[36mscala.reflect.macros.whitebox.Context\n",
       "\u001b[39m\r\n",
       "\u001b[32mimport \u001b[39m\u001b[36mscala.language.experimental.macros\n",
       "\u001b[39m\r\n",
       "\u001b[32mimport \u001b[39m\u001b[36mscala.annotation.StaticAnnotation\n",
       "\u001b[39m\r\n",
       "defined \u001b[32mobject\u001b[39m \u001b[36mhelloMacro\u001b[39m"
      ]
     },
     "execution_count": 3,
     "metadata": {},
     "output_type": "execute_result"
    }
   ],
   "source": [
    "import scala.reflect.macros.whitebox.Context\n",
    "import scala.language.experimental.macros\n",
    "import scala.annotation.StaticAnnotation\n",
    "object helloMacro {\n",
    "  def impl(c: Context)(annottees: c.Expr[Any]*): c.Expr[Any] = {\n",
    "    import c.universe._\n",
    "    val result = {\n",
    "      annottees.map(_.tree).toList match {\n",
    "        case ModuleDef(mods, name, Template(parents, self, body)) :: Nil =>\n",
    "          val helloMethod = DefDef(NoMods, TermName(\"hello\"), List(), List(List()), TypeTree(), Literal(Constant(\"hello\")))\n",
    "          ModuleDef(mods, name, Template(parents, self, body :+ helloMethod))\n",
    "      }\n",
    "    }\n",
    "    c.Expr[Any](result)\n",
    "  }\n",
    "}"
   ]
  },
  {
   "cell_type": "code",
   "execution_count": 4,
   "metadata": {},
   "outputs": [
    {
     "data": {
      "text/plain": [
       "\u001b[32mimport \u001b[39m\u001b[36mscala.reflect.macros.blackbox\n",
       "\u001b[39m\r\n",
       "defined \u001b[32mobject\u001b[39m \u001b[36mdataMacro\u001b[39m"
      ]
     },
     "execution_count": 4,
     "metadata": {},
     "output_type": "execute_result"
    }
   ],
   "source": [
    "import scala.reflect.macros.blackbox\n",
    "object dataMacro {\n",
    "  def impl(c: blackbox.Context)(annottees: c.Expr[Any]*): c.Expr[Any] = {\n",
    "    import c.universe._\n",
    "\n",
    "    val result = {\n",
    "      annottees.map(_.tree).toList match {\n",
    "        case q\"\"\"\n",
    "              class $name {\n",
    "                ..$vars\n",
    "              }\n",
    "              \"\"\" :: Nil =>\n",
    "\n",
    "          // Generate the Getter and Setter from VarDefs\n",
    "          val beanMethods = vars.collect {\n",
    "            case q\"$mods var $name: $tpt = $expr\" =>\n",
    "              val getName = TermName(\"get\" + name.encodedName.toString.capitalize)\n",
    "              val setName = TermName(\"set\" + name.encodedName.toString.capitalize)\n",
    "              println(getName)\n",
    "              val ident = Ident(name)\n",
    "              List (\n",
    "                q\"def $getName: $tpt = $ident\",\n",
    "                q\"def $setName(paramX: $tpt): Unit = { $ident = paramX }\"\n",
    "              )\n",
    "          }.flatten\n",
    "\n",
    "          // Insert the generated Getter and Setter\n",
    "          q\"\"\"\n",
    "             class $name {\n",
    "               ..$vars\n",
    "               ..$beanMethods\n",
    "             }\n",
    "           \"\"\"\n",
    "        case _ =>\n",
    "          throw new Exception(\"Macro Error\")\n",
    "      }\n",
    "    }\n",
    "    c.Expr[Any](result)\n",
    "  }\n",
    "}\n"
   ]
  },
  {
   "cell_type": "code",
   "execution_count": 4,
   "metadata": {},
   "outputs": [
    {
     "name": "stderr",
     "output_type": "stream",
     "text": [
      "cmd4.sc:2: macro implementation reference has wrong shape. required:\n",
      "macro [<static object>].<method name>[[<type args>]] or\n",
      "macro [<macro bundle>].<method name>[[<type args>]]\n",
      "  def macroTransform(annottees: Any*): Any = macro dataMacro.impl\n",
      "                                                             ^Compilation Failed"
     ]
    },
    {
     "ename": "",
     "evalue": "",
     "output_type": "error",
     "traceback": [
      "Compilation Failed"
     ]
    }
   ],
   "source": [
    "class data extends StaticAnnotation {\n",
    "  def macroTransform(annottees: Any*): Any = macro dataMacro.impl\n",
    "}"
   ]
  },
  {
   "cell_type": "code",
   "execution_count": null,
   "metadata": {},
   "outputs": [],
   "source": [
    "      错了 "
   ]
  }
 ],
 "metadata": {
  "kernelspec": {
   "display_name": "Scala",
   "language": "scala",
   "name": "scala"
  },
  "language_info": {
   "codemirror_mode": "text/x-scala",
   "file_extension": ".scala",
   "mimetype": "text/x-scala",
   "name": "scala",
   "nbconvert_exporter": "script",
   "version": "2.12.8"
  }
 },
 "nbformat": 4,
 "nbformat_minor": 2
}
