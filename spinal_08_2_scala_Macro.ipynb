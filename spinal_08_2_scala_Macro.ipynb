{
 "cells": [
  {
   "cell_type": "markdown",
   "metadata": {},
   "source": [
    "<a name=\"top\"></a><img src=\"source/SpinalHDL.png\" alt=\"SpinalHDL based on Scala\" style=\"width:320px;\" />"
   ]
  },
  {
   "cell_type": "markdown",
   "metadata": {},
   "source": [
    "运行SpinalHDL代码之前，务必加载SpinalHDL的库 \n",
    "（**注**：*第一次运行时需要下载库，可能会有点慢，请耐心等待*）"
   ]
  },
  {
   "cell_type": "code",
   "execution_count": null,
   "metadata": {},
   "outputs": [],
   "source": [
    "val path = System.getProperty(\"user.dir\") + \"/source/load-spinal.sc\"\n",
    "interp.load.module(ammonite.ops.Path(java.nio.file.FileSystems.getDefault().getPath(path)))"
   ]
  },
  {
   "cell_type": "markdown",
   "metadata": {},
   "source": [
    "## Macro\n"
   ]
  },
  {
   "cell_type": "code",
   "execution_count": null,
   "metadata": {},
   "outputs": [],
   "source": [
    "import language.experimental.macros\n",
    "\n",
    "// Normal imports\n",
    "import reflect.macros.blackbox.Context\n",
    "\n",
    "object Step1Complete {\n",
    "  def hello(): Unit = macro hello_impl\n",
    "\n",
    "  def hello_impl(c: Context)(): c.Expr[Unit] = {\n",
    "    import c.universe._\n",
    "    println(\"Compiling!\")\n",
    "    reify { println(\"Hello World!\") }\n",
    "  }\n",
    "     \n",
    "}      "
   ]
  },
  {
   "cell_type": "markdown",
   "metadata": {},
   "source": [
    "## quasiquotes \n",
    "https://docs.scala-lang.org/overviews/quasiquotes/setup.html  \n",
    "可对比参考Lisp的宏"
   ]
  },
  {
   "cell_type": "code",
   "execution_count": null,
   "metadata": {},
   "outputs": [],
   "source": [
    "val universe: scala.reflect.runtime.universe.type = scala.reflect.runtime.universe\n",
    "import universe._\n",
    "val tree = q\"i am { a quasiquote }\"\n",
    "val C = q\"class C\"\n",
    "println(showCode(C))\n",
    "println(showCode(tree))\n",
    "println(showRaw(tree))"
   ]
  },
  {
   "cell_type": "code",
   "execution_count": null,
   "metadata": {},
   "outputs": [],
   "source": [
    "val a = q\"true\"\n",
    "val b = true"
   ]
  },
  {
   "cell_type": "code",
   "execution_count": null,
   "metadata": {},
   "outputs": [],
   "source": [
    "import language.experimental.macros\n",
    "// Normal imports\n",
    "import reflect.macros.blackbox.Context\n",
    "\n",
    "object debug {\n",
    "  def apply[T](x: => T): T = macro impl\n",
    "  def impl(c: Context)(x: c.Tree) = {\n",
    "    import c.universe._\n",
    "    val q\"..$stats\" = x\n",
    "    val loggedStats = stats.flatMap { stat =>\n",
    "      val msg = \"executing \" + showCode(stat)\n",
    "      List(q\"println($msg)\", stat)\n",
    "    }\n",
    "    q\"..$loggedStats\"\n",
    "  }\n",
    "}"
   ]
  },
  {
   "cell_type": "code",
   "execution_count": null,
   "metadata": {},
   "outputs": [],
   "source": [
    "import language.experimental.macros\n",
    "\n",
    "// Normal imports\n",
    "import reflect.macros.blackbox.Context"
   ]
  },
  {
   "cell_type": "code",
   "execution_count": null,
   "metadata": {},
   "outputs": [],
   "source": [
    "abstract class Animal {\n",
    "  def name: String\n",
    "}\n",
    "case class Cat(name: String) extends Animal\n",
    "case class Dog(name: String) extends Animal"
   ]
  },
  {
   "cell_type": "code",
   "execution_count": null,
   "metadata": {},
   "outputs": [],
   "source": [
    "object CovarianceTest extends App {\n",
    "  def printAnimalNames(animals: List[Animal]): Unit = {\n",
    "    animals.foreach { animal =>\n",
    "      println(animal.name)\n",
    "    }\n",
    "  }\n",
    "\n",
    "  val cats: List[Cat] = List(Cat(\"Whiskers\"), Cat(\"Tom\"))\n",
    "  val dogs: List[Dog] = List(Dog(\"Fido\"), Dog(\"Rex\"))\n",
    "\n",
    "  printAnimalNames(cats)\n",
    "  // Whiskers\n",
    "  // Tom\n",
    "\n",
    "  printAnimalNames(dogs)\n",
    "  // Fido\n",
    "  // Rex\n",
    "}"
   ]
  },
  {
   "cell_type": "code",
   "execution_count": null,
   "metadata": {},
   "outputs": [],
   "source": [
    "//CovarianceTest.printAnimalNames(CovarianceTest.cats)\n",
    " val cats: List[Cat] = List(Cat(\"Whiskers\"), Cat(\"Tom\"))\n",
    "  val dogs: List[Dog] = List(Dog(\"Fido\"), Dog(\"Rex\"))\n",
    "CovarianceTest.printAnimalNames(cats)\n",
    "    CovarianceTest.printAnimalNames(dogs)"
   ]
  },
  {
   "cell_type": "code",
   "execution_count": null,
   "metadata": {},
   "outputs": [],
   "source": [
    "  val HTMLFactory =\n",
    "    s\"\"\"\n",
    "       |<!DOCTYPE html>\n",
    "       |<html>\n",
    "       |  <head>\n",
    "       |    <title>\n",
    "       |      Regif\n",
    "       |    </title>\n",
    "       |    <style>\n",
    "       |      div{\n",
    "       |          text-align: center;\n",
    "       |      }\n",
    "       |\n",
    "       |    </style>\n",
    "       |  </head>\n",
    "       |  <body>\n",
    "       |  <table  align=\"center\" class=\"theme-default\">\n",
    "       |  </table>\n",
    "       |  </body>\n",
    "       |</html>\n",
    "       |\"\"\".stripMargin"
   ]
  },
  {
   "cell_type": "code",
   "execution_count": null,
   "metadata": {},
   "outputs": [],
   "source": [
    "println(HTMLFactory)"
   ]
  },
  {
   "cell_type": "code",
   "execution_count": null,
   "metadata": {},
   "outputs": [],
   "source": [
    "val htmlbody = \"html5 ${body} end\"\n",
    "val body = \"-body-\"\n",
    "StringContext(\"html5 \",\"end\").s(body)"
   ]
  },
  {
   "cell_type": "code",
   "execution_count": null,
   "metadata": {},
   "outputs": [],
   "source": [
    "val body = \"div xxx div \"\n",
    "val b = s\"html5 ${body} end\" \n",
    "val c = new StringContext(htmlbody).s(htmlbody)\n",
    "val d = StringContext(\"html5 ${body} end\")\n",
    " \n",
    "//val bf = \"html5 %s end\".format(body)"
   ]
  },
  {
   "cell_type": "code",
   "execution_count": null,
   "metadata": {},
   "outputs": [],
   "source": [
    "class T1 extends Component{\n",
    "    val f = UInt\"11000011\"\n",
    "}\n",
    "showRtl(new T1)"
   ]
  },
  {
   "cell_type": "code",
   "execution_count": null,
   "metadata": {},
   "outputs": [],
   "source": []
  }
 ],
 "metadata": {
  "kernelspec": {
   "display_name": "Scala",
   "language": "scala",
   "name": "scala"
  },
  "language_info": {
   "codemirror_mode": "text/x-scala",
   "file_extension": ".scala",
   "mimetype": "text/x-scala",
   "name": "scala",
   "nbconvert_exporter": "script",
   "version": "2.12.8"
  }
 },
 "nbformat": 4,
 "nbformat_minor": 2
}
