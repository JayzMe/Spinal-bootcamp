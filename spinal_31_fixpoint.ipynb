{
 "cells": [
  {
   "cell_type": "markdown",
   "metadata": {},
   "source": [
    "<a name=\"top\"></a><img src=\"source/SpinalHDL.png\" alt=\"SpinalHDL based on Scala\" style=\"width:320px;\" />"
   ]
  },
  {
   "cell_type": "markdown",
   "metadata": {},
   "source": [
    "运行SpinalHDL代码之前，务必加载SpinalHDL的库 \n",
    "（**注**：*第一次运行时需要下载库，可能会有点慢，请耐心等待*）"
   ]
  },
  {
   "cell_type": "code",
   "execution_count": 1,
   "metadata": {},
   "outputs": [
    {
     "data": {
      "text/plain": [
       "\u001b[36mpath\u001b[39m: \u001b[32mString\u001b[39m = \u001b[32m\"E:\\\\nutstore\\\\2019bf\\\\github\\\\Spinal-bootcamp/source/load-spinal.sc\"\u001b[39m"
      ]
     },
     "execution_count": 1,
     "metadata": {},
     "output_type": "execute_result"
    }
   ],
   "source": [
    "val path = System.getProperty(\"user.dir\") + \"/source/load-spinal.sc\"\n",
    "interp.load.module(ammonite.ops.Path(java.nio.file.FileSystems.getDefault().getPath(path)))"
   ]
  },
  {
   "cell_type": "markdown",
   "metadata": {},
   "source": [
    "## FixPoint\n"
   ]
  },
  {
   "cell_type": "code",
   "execution_count": 11,
   "metadata": {},
   "outputs": [
    {
     "ename": "",
     "evalue": "",
     "output_type": "error",
     "traceback": [
      "\u001b[31mjava.lang.AssertionError: assertion failed: List(1, 2, -1, -1)\u001b[39m\r\n  scala.Predef$.assert(\u001b[32mPredef.scala\u001b[39m:\u001b[32m223\u001b[39m)\r\n  spinal.core.package$.assert(\u001b[32mcore.scala\u001b[39m:\u001b[32m409\u001b[39m)\r\n  ammonite.$sess.cmd10$Helper.<init>(\u001b[32mcmd10.sc\u001b[39m:\u001b[32m7\u001b[39m)\r\n  ammonite.$sess.cmd10$.<init>(\u001b[32mcmd10.sc\u001b[39m:\u001b[32m7\u001b[39m)\r\n  ammonite.$sess.cmd10$.<clinit>(\u001b[32mcmd10.sc\u001b[39m:\u001b[32m-1\u001b[39m)"
     ]
    }
   ],
   "source": [
    "val a = List(1.4999,1.50,-1.4999,-1.50)\n",
    "val aceil = a.map(scala.math.ceil)\n",
    "val afloor = a.map(scala.math.floor)\n",
    "val around = a.map(scala.math.round)\n",
    "assert(aceil ==List(2,2,-1,-1),s\"$aceil\")\n",
    "assert(afloor==List(1,1,-2,-2),s\"$afloor\")\n",
    "assert(around==List(1,2,-2,-1),s\"$around\")\n",
    " \n",
    " "
   ]
  },
  {
   "cell_type": "code",
   "execution_count": 17,
   "metadata": {},
   "outputs": [
    {
     "data": {
      "text/plain": [
       "\u001b[36mres16_0\u001b[39m: \u001b[32mLong\u001b[39m = \u001b[32m3L\u001b[39m\r\n",
       "\u001b[36mres16_1\u001b[39m: \u001b[32mLong\u001b[39m = \u001b[32m-2L\u001b[39m\r\n",
       "\u001b[36mres16_2\u001b[39m: \u001b[32mLong\u001b[39m = \u001b[32m-1L\u001b[39m\r\n",
       "\u001b[36mres16_3\u001b[39m: \u001b[32mLong\u001b[39m = \u001b[32m-2L\u001b[39m\r\n",
       "\u001b[36mres16_4\u001b[39m: \u001b[32mLong\u001b[39m = \u001b[32m-1L\u001b[39m"
      ]
     },
     "execution_count": 17,
     "metadata": {},
     "output_type": "execute_result"
    }
   ],
   "source": [
    "scala.math.round(2.5)\n",
    "scala.math.round(-2.5)\n",
    "scala.math.round(-1.5)\n",
    "scala.math.round(-1.5001)\n",
    "scala.math.round(-1.4999)"
   ]
  },
  {
   "cell_type": "code",
   "execution_count": null,
   "metadata": {},
   "outputs": [],
   "source": []
  }
 ],
 "metadata": {
  "kernelspec": {
   "display_name": "Scala",
   "language": "scala",
   "name": "scala"
  },
  "language_info": {
   "codemirror_mode": "text/x-scala",
   "file_extension": ".scala",
   "mimetype": "text/x-scala",
   "name": "scala",
   "nbconvert_exporter": "script",
   "version": "2.12.8"
  }
 },
 "nbformat": 4,
 "nbformat_minor": 2
}
