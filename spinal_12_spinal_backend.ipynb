{
 "cells": [
  {
   "cell_type": "markdown",
   "metadata": {},
   "source": [
    "<a name=\"top\"></a><img src=\"source/SpinalHDL.png\" alt=\"SpinalHDL based on Scala\" style=\"width:320px;\" />"
   ]
  },
  {
   "cell_type": "markdown",
   "metadata": {},
   "source": [
    "运行SpinalHDL代码之前，务必加载SpinalHDL的库 \n",
    "（**注**：*第一次运行时需要下载库，可能会有点慢，请耐心等待*）"
   ]
  },
  {
   "cell_type": "code",
   "execution_count": 1,
   "metadata": {},
   "outputs": [
    {
     "data": {
      "text/plain": [
       "\u001b[36mpath\u001b[39m: \u001b[32mString\u001b[39m = \u001b[32m\"E:\\\\nutstore\\\\2019bf\\\\github\\\\Spinal-bootcamp/source/load-spinal.sc\"\u001b[39m"
      ]
     },
     "execution_count": 1,
     "metadata": {},
     "output_type": "execute_result"
    }
   ],
   "source": [
    "val path = System.getProperty(\"user.dir\") + \"/source/load-spinal.sc\"\n",
    "interp.load.module(ammonite.ops.Path(java.nio.file.FileSystems.getDefault().getPath(path)))"
   ]
  },
  {
   "cell_type": "markdown",
   "metadata": {},
   "source": [
    "## Spinal源码阅读\n"
   ]
  },
  {
   "cell_type": "markdown",
   "metadata": {},
   "source": [
    "### UInt/SInt  \n",
    "- wrapLogicalOperator\n",
    "- wrapBinaryOperator\n",
    "- wrapConstantOperator\n",
    "- weakClone"
   ]
  },
  {
   "cell_type": "code",
   "execution_count": 2,
   "metadata": {},
   "outputs": [
    {
     "name": "stdout",
     "output_type": "stream",
     "text": [
      "[Runtime] SpinalHDL v1.3.6    git head : 10854057c32ae371aabc9a340c367e9bbc159fcd\n",
      "[Runtime] JVM max memory : 3584.0MiB\n",
      "[Runtime] Current date : 2019.09.04 14:37:40\n",
      "[Progress] at 0.000 : Elaborate components\n",
      "[Progress] at 0.099 : Checks and transforms\n",
      "[Progress] at 0.150 : Generate Verilog\n",
      "[Done] at 0.191\n",
      "// Generator : SpinalHDL v1.3.6    git head : 10854057c32ae371aabc9a340c367e9bbc159fcd\n",
      "// Date      : 04/09/2019, 14:37:40\n",
      "// Component : Top\n",
      "\n",
      "\n",
      "module Top (\n",
      "      input  [7:0] x,\n",
      "      output  x3);\n",
      "  assign x3 = ((x & (8'b10110101)) == (8'b10000001));\n",
      "endmodule\n",
      "\n",
      "\n"
     ]
    },
    {
     "data": {
      "text/plain": [
       "defined \u001b[32mclass\u001b[39m \u001b[36mTop\u001b[39m"
      ]
     },
     "execution_count": 2,
     "metadata": {},
     "output_type": "execute_result"
    }
   ],
   "source": [
    "class Top extends Component{\n",
    "    val x = in UInt(8 bits)\n",
    "    val x3 = out Bool()\n",
    "    x3 := x === M\"1-00-0-1\"\n",
    "}\n",
    "showRtl(new Top) "
   ]
  },
  {
   "cell_type": "code",
   "execution_count": 19,
   "metadata": {},
   "outputs": [
    {
     "name": "stdout",
     "output_type": "stream",
     "text": [
      "[Runtime] SpinalHDL v1.3.6    git head : 10854057c32ae371aabc9a340c367e9bbc159fcd\n",
      "[Runtime] JVM max memory : 3584.0MiB\n",
      "[Runtime] Current date : 2019.09.05 11:20:20\n",
      "[Progress] at 74559.784 : Elaborate components\n",
      "[Progress] at 74559.786 : Checks and transforms\n",
      "[Progress] at 74559.788 : Generate Verilog\n",
      "[Done] at 74559.791\n",
      "// Generator : SpinalHDL v1.3.6    git head : 10854057c32ae371aabc9a340c367e9bbc159fcd\n",
      "// Date      : 05/09/2019, 11:20:20\n",
      "// Component : Top\n",
      "\n",
      "\n",
      "module Top (\n",
      "      input  [7:0] x,\n",
      "      input   en,\n",
      "      output [7:0] y);\n",
      "  wire [7:0] _zz_1_;\n",
      "  wire [0:0] _zz_2_;\n",
      "  wire [7:0] _zz_3_;\n",
      "  wire [0:0] _zz_4_;\n",
      "  wire [7:0] _zz_5_;\n",
      "  wire [0:0] _zz_6_;\n",
      "  assign _zz_1_ = ($signed(x) + $signed(_zz_3_));\n",
      "  assign _zz_2_ = en;\n",
      "  assign _zz_3_ = {{7{_zz_2_[0]}}, _zz_2_};\n",
      "  assign _zz_4_ = (_zz_6_ != (1'b0));\n",
      "  assign _zz_5_ = {{7{_zz_4_[0]}}, _zz_4_};\n",
      "  assign _zz_6_ = x[0 : 0];\n",
      "  assign y = ($signed(_zz_1_) + $signed(_zz_5_));\n",
      "endmodule\n",
      "\n",
      "\n"
     ]
    },
    {
     "data": {
      "text/plain": [
       "defined \u001b[32mclass\u001b[39m \u001b[36mTop\u001b[39m"
      ]
     },
     "execution_count": 19,
     "metadata": {},
     "output_type": "execute_result"
    }
   ],
   "source": [
    "class Top extends Component{\n",
    "    val x = in SInt(8 bits)\n",
    "    val en = in Bool()\n",
    "    val y = out SInt()\n",
    "    //val x2  = out SInt( )\n",
    "    //val x2  = out UInt( )\n",
    "     //y := x.resize(5 bits)\n",
    "    y := x + en.asSInt + x(0 downto 0).asBits.orR.asSInt\n",
    "}\n",
    "showRtl(new Top) "
   ]
  },
  {
   "cell_type": "code",
   "execution_count": 26,
   "metadata": {},
   "outputs": [
    {
     "name": "stdout",
     "output_type": "stream",
     "text": [
      "[Runtime] SpinalHDL v1.3.6    git head : 10854057c32ae371aabc9a340c367e9bbc159fcd\n",
      "[Runtime] JVM max memory : 3584.0MiB\n",
      "[Runtime] Current date : 2019.09.05 19:51:15\n",
      "[Progress] at 105215.340 : Elaborate components\n",
      "[Progress] at 105215.342 : Checks and transforms\n",
      "[Progress] at 105215.347 : Generate Verilog\n",
      "[Done] at 105215.349\n",
      "// Generator : SpinalHDL v1.3.6    git head : 10854057c32ae371aabc9a340c367e9bbc159fcd\n",
      "// Date      : 05/09/2019, 19:51:15\n",
      "// Component : WhyNot\n",
      "\n",
      "\n",
      "module WhyNot (\n",
      "      input  [3:0] _zz_1_,\n",
      "      input  [31:0] _zz_2_,\n",
      "      input   _zz_3_,\n",
      "      input   _zz_4_,\n",
      "      output [31:0] rdata,\n",
      "      input   clk,\n",
      "      input   reset);\n",
      "  reg [31:0] _zz_6_;\n",
      "  wire [31:0] _zz_5_;\n",
      "  reg [31:0] ram [0:15];\n",
      "  always @ (posedge clk) begin\n",
      "    if(_zz_3_ && _zz_4_ ) begin\n",
      "      ram[_zz_1_] <= _zz_5_;\n",
      "    end\n",
      "    if(_zz_3_) begin\n",
      "      _zz_6_ <= ram[_zz_1_];\n",
      "    end\n",
      "  end\n",
      "\n",
      "  assign _zz_5_ = _zz_2_;\n",
      "  assign rdata = _zz_6_;\n",
      "endmodule\n",
      "\n",
      "\n"
     ]
    },
    {
     "data": {
      "text/plain": [
       "defined \u001b[32mclass\u001b[39m \u001b[36mWhyNot\u001b[39m"
      ]
     },
     "execution_count": 26,
     "metadata": {},
     "output_type": "execute_result"
    }
   ],
   "source": [
    "class WhyNot extends Component{\n",
    "  val ram = Mem(Bits(32 bit),16)\n",
    "  val rdata = out(ram.readWriteSync(in UInt(4 bit),in Bits(32 bit),in Bool,in Bool))\n",
    "  //out(ram.readWriteSync(in UInt(4 bit),in Bits(4 bit),in Bool,in Bool))\n",
    "}\n",
    "showRtl(new WhyNot)"
   ]
  },
  {
   "cell_type": "code",
   "execution_count": 27,
   "metadata": {},
   "outputs": [
    {
     "name": "stdout",
     "output_type": "stream",
     "text": [
      "[Runtime] SpinalHDL v1.3.6    git head : 10854057c32ae371aabc9a340c367e9bbc159fcd\n",
      "[Runtime] JVM max memory : 3584.0MiB\n",
      "[Runtime] Current date : 2019.09.05 20:16:30\n",
      "[Progress] at 106730.197 : Elaborate components\n",
      "[Progress] at 106730.200 : Checks and transforms\n",
      "[Progress] at 106730.201 : Generate Verilog\n",
      "[Done] at 106730.203\n",
      "// Generator : SpinalHDL v1.3.6    git head : 10854057c32ae371aabc9a340c367e9bbc159fcd\n",
      "// Date      : 05/09/2019, 20:16:30\n",
      "// Component : T1\n",
      "\n",
      "\n",
      "module T1 (\n",
      "      input  [15:0] a,\n",
      "      output [15:0] b);\n",
      "  assign b = (a + a);\n",
      "endmodule\n",
      "\n",
      "\n"
     ]
    },
    {
     "data": {
      "text/plain": [
       "defined \u001b[32mclass\u001b[39m \u001b[36mT1\u001b[39m"
      ]
     },
     "execution_count": 27,
     "metadata": {},
     "output_type": "execute_result"
    }
   ],
   "source": [
    "class T1 extends Component{\n",
    "  val  a = in UInt(16 bits)\n",
    "  val  b = out UInt()\n",
    "  b := a + a\n",
    "}\n",
    "showRtl(new T1)"
   ]
  },
  {
   "cell_type": "code",
   "execution_count": 29,
   "metadata": {},
   "outputs": [
    {
     "data": {
      "text/plain": [
       "defined \u001b[32mtrait\u001b[39m \u001b[36mWidthable\u001b[39m\r\n",
       "defined \u001b[32mclass\u001b[39m \u001b[36mCastBitVectorToBitVector\u001b[39m\r\n",
       "defined \u001b[32mclass\u001b[39m \u001b[36mCastUIntToSIntExpand\u001b[39m"
      ]
     },
     "execution_count": 29,
     "metadata": {},
     "output_type": "execute_result"
    }
   ],
   "source": [
    "trait Widthable {\n",
    " def calcWidth: Int\n",
    "}\n",
    "abstract class CastBitVectorToBitVector extends  Widthable {\n",
    "override  def calcWidth: Int = U(3).getWidth\n",
    "}\n",
    "class CastUIntToSIntExpand extends CastBitVectorToBitVector {\n",
    "  \n",
    "  override  def calcWidth: Int = U(8).getWidth + 1\n",
    " \n",
    "}"
   ]
  },
  {
   "cell_type": "code",
   "execution_count": null,
   "metadata": {},
   "outputs": [],
   "source": []
  }
 ],
 "metadata": {
  "kernelspec": {
   "display_name": "Scala",
   "language": "scala",
   "name": "scala"
  },
  "language_info": {
   "codemirror_mode": "text/x-scala",
   "file_extension": ".scala",
   "mimetype": "text/x-scala",
   "name": "scala",
   "nbconvert_exporter": "script",
   "version": "2.12.8"
  }
 },
 "nbformat": 4,
 "nbformat_minor": 2
}
