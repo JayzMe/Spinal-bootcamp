{
 "cells": [
  {
   "cell_type": "markdown",
   "metadata": {},
   "source": [
    "<a name=\"top\"></a><img src=\"source/SpinalHDL.png\" alt=\"SpinalHDL based on Scala\" style=\"width:320px;\" />"
   ]
  },
  {
   "cell_type": "markdown",
   "metadata": {},
   "source": [
    "运行SpinalHDL代码之前，务必加载SpinalHDL的库 \n",
    "（**注**：*第一次运行时需要下载库，可能会有点慢，请耐心等待*）"
   ]
  },
  {
   "cell_type": "code",
   "execution_count": null,
   "metadata": {},
   "outputs": [],
   "source": [
    "val path = System.getProperty(\"user.dir\") + \"/source/load-spinal.sc\"\n",
    "interp.load.module(ammonite.ops.Path(java.nio.file.FileSystems.getDefault().getPath(path)))"
   ]
  },
  {
   "cell_type": "markdown",
   "metadata": {},
   "source": [
    "## 移位操作\n",
    "非常重要的一个概念，要区分哪些是电路代码，哪些是生成器代码\n",
    "```scala\n",
    "val c = in UInt(8 bits)\n",
    "d0 := c >> U(3)    //HDL code got {{3{c[7]}},c[7:3]}\n",
    "d1 := c >> 3       //scala code got c[7:3]\n",
    "```"
   ]
  },
  {
   "cell_type": "code",
   "execution_count": null,
   "metadata": {},
   "outputs": [],
   "source": [
    "class T1 extends Component{\n",
    "    val a = in SInt(8 bits)\n",
    "    val b0 = out SInt()\n",
    "    val b1 = out SInt()\n",
    "    val b2 = out SInt()\n",
    "    val b3 = out SInt()\n",
    "    val c = in UInt(8 bits)\n",
    "    val d0 = out UInt()\n",
    "    val d1 = out UInt() \n",
    "    val d3 = out UInt()\n",
    "    val d4 = out UInt() \n",
    "    \n",
    "    b0 := a >> U(3)\n",
    "    b1 := a >> 3    \n",
    "    b2 := a << U(3)\n",
    "    b3 := a << 3\n",
    "    \n",
    "    d0 := c >> U(3)    //HDL code got {{3{c[7]}},c[7:3]}\n",
    "    d1 := c >> 3       //scala code got c[7:3]\n",
    "    d3 := c << U(3)\n",
    "    d4 := c << 3\n",
    "}\n",
    "showRtl(new T1)"
   ]
  },
  {
   "cell_type": "markdown",
   "metadata": {},
   "source": [
    "但是对于操作符是Scala数，作者巧妙的做了2个适配 `|<<`,`|>>`达到操作U(3)的效果\n",
    "```SCALA\n",
    "val a = in SInt(8 bits)\n",
    " b0 := a |<< 3 //  8bits\n",
    " b1 := a  << 3 //  11bits\n",
    " b2 := a |>> 3 //  8bits\n",
    " b3 := a  >> 3 //  5bits\n",
    "```"
   ]
  },
  {
   "cell_type": "code",
   "execution_count": null,
   "metadata": {},
   "outputs": [],
   "source": [
    "class T2 extends Component{\n",
    "    val a = in SInt(8 bits)\n",
    "    val b0 = out SInt()    \n",
    "    val b1 = out SInt()    \n",
    "    val b2 = out SInt()    \n",
    "    val b3 = out SInt()\n",
    "    b0 := a |<< 3\n",
    "    b1 := a  << 3\n",
    "    b2 := a |>> 3\n",
    "    b3 := a  >> 3    \n",
    "}\n",
    "showRtl(new T2)"
   ]
  },
  {
   "cell_type": "code",
   "execution_count": null,
   "metadata": {},
   "outputs": [],
   "source": [
    "class T2 extends Component{\n",
    "    val a = in SInt(8 bits)\n",
    "    val b0 = out SInt()    \n",
    "    val b1 = out SInt()    \n",
    "    val b2 = out SInt()    \n",
    "    val b3 = out SInt()\n",
    "    b0 := a |<< U(3)\n",
    "    b1 := a  << U(3)\n",
    "    b2 := a |>> U(3)\n",
    "    b3 := a  >> U(3)    \n",
    "}\n",
    "showRtl(new T2)"
   ]
  },
  {
   "cell_type": "code",
   "execution_count": null,
   "metadata": {},
   "outputs": [],
   "source": []
  },
  {
   "cell_type": "code",
   "execution_count": null,
   "metadata": {},
   "outputs": [],
   "source": []
  }
 ],
 "metadata": {
  "kernelspec": {
   "display_name": "Scala",
   "language": "scala",
   "name": "scala"
  },
  "language_info": {
   "codemirror_mode": "text/x-scala",
   "file_extension": ".scala",
   "mimetype": "text/x-scala",
   "name": "scala211",
   "nbconvert_exporter": "script",
   "pygments_lexer": "scala",
   "version": "2.11.11"
  }
 },
 "nbformat": 4,
 "nbformat_minor": 2
}
